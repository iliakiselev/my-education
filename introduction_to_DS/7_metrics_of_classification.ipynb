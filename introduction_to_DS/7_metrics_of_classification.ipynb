{
 "cells": [
  {
   "cell_type": "code",
   "execution_count": 1,
   "id": "170649b1",
   "metadata": {},
   "outputs": [],
   "source": [
    "import pandas as pd"
   ]
  },
  {
   "cell_type": "code",
   "execution_count": 2,
   "id": "a9b751dc",
   "metadata": {},
   "outputs": [],
   "source": [
    "df = pd.read_csv(r'C:\\Work\\DataFrames\\Churn_Modelling.csv')"
   ]
  },
  {
   "cell_type": "markdown",
   "id": "1a555c61",
   "metadata": {},
   "source": [
    "## Обучающая, валидационная и тестовая выборка"
   ]
  },
  {
   "cell_type": "code",
   "execution_count": 3,
   "id": "1fd55970",
   "metadata": {},
   "outputs": [],
   "source": [
    "from sklearn.model_selection import train_test_split\n",
    "\n",
    "train, test = train_test_split(df,train_size=0.6,random_state=42,stratify=df['Exited'])\n",
    "\n",
    "val, test = train_test_split(test,train_size=0.5,random_state=42,stratify=test['Exited'])"
   ]
  },
  {
   "cell_type": "markdown",
   "id": "5c6ec0dd",
   "metadata": {},
   "source": [
    "## Человеческое обучение"
   ]
  },
  {
   "cell_type": "code",
   "execution_count": 4,
   "id": "8f500ea3",
   "metadata": {},
   "outputs": [],
   "source": [
    "train['age_group'] = pd.cut(train['Age'],[0,31,35,40,46,float('inf')])"
   ]
  },
  {
   "cell_type": "code",
   "execution_count": 5,
   "id": "29c83b93",
   "metadata": {},
   "outputs": [],
   "source": [
    "model = train.groupby(['NumOfProducts','age_group'])['Exited'].mean().reset_index()"
   ]
  },
  {
   "cell_type": "code",
   "execution_count": 6,
   "id": "a03e3b03",
   "metadata": {},
   "outputs": [],
   "source": [
    "model = model.rename({'Exited':'score_prod_age'},axis=1)"
   ]
  },
  {
   "cell_type": "code",
   "execution_count": 7,
   "id": "e3b7990c",
   "metadata": {},
   "outputs": [],
   "source": [
    "train = train.merge(model,how='left',on=['NumOfProducts','age_group'])"
   ]
  },
  {
   "cell_type": "code",
   "execution_count": 8,
   "id": "afe89616",
   "metadata": {},
   "outputs": [],
   "source": [
    "test['age_group'] = pd.cut(test['Age'],[0,31,35,40,46,float('inf')])"
   ]
  },
  {
   "cell_type": "code",
   "execution_count": 9,
   "id": "1821d667",
   "metadata": {},
   "outputs": [],
   "source": [
    "test = test.merge(model,how='left',on=['NumOfProducts','age_group'])"
   ]
  },
  {
   "cell_type": "markdown",
   "id": "87f27d57",
   "metadata": {},
   "source": [
    "## Машинное обучение"
   ]
  },
  {
   "cell_type": "code",
   "execution_count": 10,
   "id": "dc998777",
   "metadata": {},
   "outputs": [],
   "source": [
    "from catboost import CatBoostClassifier"
   ]
  },
  {
   "cell_type": "code",
   "execution_count": 11,
   "id": "849353cc",
   "metadata": {},
   "outputs": [],
   "source": [
    "X = ['CustomerId', 'CreditScore', 'Geography',\n",
    "       'Gender', 'Age', 'Tenure', 'Balance', 'NumOfProducts', 'HasCrCard',\n",
    "       'IsActiveMember', 'EstimatedSalary']\n",
    "\n",
    "cat_features = ['Geography','Gender']\n",
    "\n",
    "y = ['Exited']"
   ]
  },
  {
   "cell_type": "code",
   "execution_count": 12,
   "id": "df94e4c4",
   "metadata": {},
   "outputs": [],
   "source": [
    "from catboost import Pool\n",
    "\n",
    "train_data = Pool(data=train[X],\n",
    "                  label=train[y],\n",
    "                  cat_features=cat_features\n",
    "                 )\n",
    "\n",
    "valid_data = Pool(data=val[X],\n",
    "                  label=val[y],\n",
    "                  cat_features=cat_features\n",
    "                 )"
   ]
  },
  {
   "cell_type": "code",
   "execution_count": 13,
   "id": "0f71da2e",
   "metadata": {},
   "outputs": [],
   "source": [
    "params = {'verbose':100,\n",
    "          'random_seed':42,\n",
    "          'learning_rate':0.01}"
   ]
  },
  {
   "cell_type": "code",
   "execution_count": 14,
   "id": "0b5dd7f7",
   "metadata": {},
   "outputs": [],
   "source": [
    "model = CatBoostClassifier(**params)"
   ]
  },
  {
   "cell_type": "code",
   "execution_count": 15,
   "id": "4b29c3bd",
   "metadata": {},
   "outputs": [
    {
     "name": "stdout",
     "output_type": "stream",
     "text": [
      "0:\tlearn: 0.6848575\ttest: 0.6849145\tbest: 0.6849145 (0)\ttotal: 183ms\tremaining: 3m 3s\n",
      "100:\tlearn: 0.3908412\ttest: 0.3894043\tbest: 0.3894043 (100)\ttotal: 3.62s\tremaining: 32.2s\n",
      "200:\tlearn: 0.3457312\ttest: 0.3445503\tbest: 0.3445503 (200)\ttotal: 7.05s\tremaining: 28s\n",
      "300:\tlearn: 0.3288071\ttest: 0.3307084\tbest: 0.3307084 (300)\ttotal: 10.6s\tremaining: 24.5s\n",
      "400:\tlearn: 0.3192987\ttest: 0.3252459\tbest: 0.3252459 (400)\ttotal: 13.8s\tremaining: 20.6s\n",
      "500:\tlearn: 0.3120470\ttest: 0.3221057\tbest: 0.3221057 (500)\ttotal: 17s\tremaining: 17s\n",
      "600:\tlearn: 0.3054735\ttest: 0.3204300\tbest: 0.3204300 (600)\ttotal: 20.2s\tremaining: 13.4s\n",
      "700:\tlearn: 0.2997053\ttest: 0.3192377\tbest: 0.3192377 (700)\ttotal: 23.4s\tremaining: 9.99s\n",
      "800:\tlearn: 0.2946934\ttest: 0.3188206\tbest: 0.3187917 (794)\ttotal: 26.6s\tremaining: 6.61s\n",
      "900:\tlearn: 0.2890177\ttest: 0.3185731\tbest: 0.3185731 (900)\ttotal: 29.8s\tremaining: 3.27s\n",
      "999:\tlearn: 0.2831978\ttest: 0.3186396\tbest: 0.3185004 (978)\ttotal: 33.1s\tremaining: 0us\n",
      "\n",
      "bestTest = 0.3185003702\n",
      "bestIteration = 978\n",
      "\n",
      "Shrink model to first 979 iterations.\n"
     ]
    },
    {
     "data": {
      "text/plain": [
       "<catboost.core.CatBoostClassifier at 0x1e373f53e20>"
      ]
     },
     "execution_count": 15,
     "metadata": {},
     "output_type": "execute_result"
    }
   ],
   "source": [
    "model.fit(train_data,eval_set=valid_data)"
   ]
  },
  {
   "cell_type": "code",
   "execution_count": 16,
   "id": "4cce9a66",
   "metadata": {},
   "outputs": [],
   "source": [
    "test['score_catboost'] = model.predict_proba(test[X])[:,1]"
   ]
  },
  {
   "cell_type": "markdown",
   "id": "47f26a4c",
   "metadata": {},
   "source": [
    "# Скор и пороги"
   ]
  },
  {
   "cell_type": "code",
   "execution_count": 17,
   "id": "dbc2290f",
   "metadata": {},
   "outputs": [
    {
     "data": {
      "text/html": [
       "<div>\n",
       "<style scoped>\n",
       "    .dataframe tbody tr th:only-of-type {\n",
       "        vertical-align: middle;\n",
       "    }\n",
       "\n",
       "    .dataframe tbody tr th {\n",
       "        vertical-align: top;\n",
       "    }\n",
       "\n",
       "    .dataframe thead th {\n",
       "        text-align: right;\n",
       "    }\n",
       "</style>\n",
       "<table border=\"1\" class=\"dataframe\">\n",
       "  <thead>\n",
       "    <tr style=\"text-align: right;\">\n",
       "      <th></th>\n",
       "      <th>RowNumber</th>\n",
       "      <th>CustomerId</th>\n",
       "      <th>Surname</th>\n",
       "      <th>CreditScore</th>\n",
       "      <th>Geography</th>\n",
       "      <th>Gender</th>\n",
       "      <th>Age</th>\n",
       "      <th>Tenure</th>\n",
       "      <th>Balance</th>\n",
       "      <th>NumOfProducts</th>\n",
       "      <th>HasCrCard</th>\n",
       "      <th>IsActiveMember</th>\n",
       "      <th>EstimatedSalary</th>\n",
       "      <th>Exited</th>\n",
       "      <th>age_group</th>\n",
       "      <th>score_prod_age</th>\n",
       "      <th>score_catboost</th>\n",
       "    </tr>\n",
       "  </thead>\n",
       "  <tbody>\n",
       "    <tr>\n",
       "      <th>0</th>\n",
       "      <td>9168</td>\n",
       "      <td>15645353</td>\n",
       "      <td>Chubb</td>\n",
       "      <td>607</td>\n",
       "      <td>France</td>\n",
       "      <td>Male</td>\n",
       "      <td>26</td>\n",
       "      <td>1</td>\n",
       "      <td>0.00</td>\n",
       "      <td>1</td>\n",
       "      <td>1</td>\n",
       "      <td>0</td>\n",
       "      <td>29818.20</td>\n",
       "      <td>0</td>\n",
       "      <td>(0.0, 31.0]</td>\n",
       "      <td>0.110764</td>\n",
       "      <td>0.131844</td>\n",
       "    </tr>\n",
       "    <tr>\n",
       "      <th>1</th>\n",
       "      <td>9388</td>\n",
       "      <td>15594576</td>\n",
       "      <td>Zhdanov</td>\n",
       "      <td>524</td>\n",
       "      <td>France</td>\n",
       "      <td>Male</td>\n",
       "      <td>32</td>\n",
       "      <td>1</td>\n",
       "      <td>144875.71</td>\n",
       "      <td>1</td>\n",
       "      <td>0</td>\n",
       "      <td>0</td>\n",
       "      <td>187740.04</td>\n",
       "      <td>0</td>\n",
       "      <td>(31.0, 35.0]</td>\n",
       "      <td>0.140449</td>\n",
       "      <td>0.074020</td>\n",
       "    </tr>\n",
       "    <tr>\n",
       "      <th>2</th>\n",
       "      <td>6860</td>\n",
       "      <td>15811927</td>\n",
       "      <td>Marcelo</td>\n",
       "      <td>733</td>\n",
       "      <td>France</td>\n",
       "      <td>Female</td>\n",
       "      <td>38</td>\n",
       "      <td>3</td>\n",
       "      <td>157658.36</td>\n",
       "      <td>1</td>\n",
       "      <td>0</td>\n",
       "      <td>0</td>\n",
       "      <td>19658.43</td>\n",
       "      <td>0</td>\n",
       "      <td>(35.0, 40.0]</td>\n",
       "      <td>0.209337</td>\n",
       "      <td>0.186876</td>\n",
       "    </tr>\n",
       "    <tr>\n",
       "      <th>3</th>\n",
       "      <td>3501</td>\n",
       "      <td>15675675</td>\n",
       "      <td>Slate</td>\n",
       "      <td>850</td>\n",
       "      <td>France</td>\n",
       "      <td>Female</td>\n",
       "      <td>32</td>\n",
       "      <td>5</td>\n",
       "      <td>106290.64</td>\n",
       "      <td>1</td>\n",
       "      <td>1</td>\n",
       "      <td>0</td>\n",
       "      <td>121982.73</td>\n",
       "      <td>0</td>\n",
       "      <td>(31.0, 35.0]</td>\n",
       "      <td>0.140449</td>\n",
       "      <td>0.087403</td>\n",
       "    </tr>\n",
       "    <tr>\n",
       "      <th>4</th>\n",
       "      <td>6234</td>\n",
       "      <td>15682914</td>\n",
       "      <td>Bolton</td>\n",
       "      <td>850</td>\n",
       "      <td>France</td>\n",
       "      <td>Male</td>\n",
       "      <td>34</td>\n",
       "      <td>2</td>\n",
       "      <td>72079.71</td>\n",
       "      <td>1</td>\n",
       "      <td>1</td>\n",
       "      <td>1</td>\n",
       "      <td>115767.93</td>\n",
       "      <td>0</td>\n",
       "      <td>(31.0, 35.0]</td>\n",
       "      <td>0.140449</td>\n",
       "      <td>0.056658</td>\n",
       "    </tr>\n",
       "  </tbody>\n",
       "</table>\n",
       "</div>"
      ],
      "text/plain": [
       "   RowNumber  CustomerId  Surname  CreditScore Geography  Gender  Age  Tenure  \\\n",
       "0       9168    15645353    Chubb          607    France    Male   26       1   \n",
       "1       9388    15594576  Zhdanov          524    France    Male   32       1   \n",
       "2       6860    15811927  Marcelo          733    France  Female   38       3   \n",
       "3       3501    15675675    Slate          850    France  Female   32       5   \n",
       "4       6234    15682914   Bolton          850    France    Male   34       2   \n",
       "\n",
       "     Balance  NumOfProducts  HasCrCard  IsActiveMember  EstimatedSalary  \\\n",
       "0       0.00              1          1               0         29818.20   \n",
       "1  144875.71              1          0               0        187740.04   \n",
       "2  157658.36              1          0               0         19658.43   \n",
       "3  106290.64              1          1               0        121982.73   \n",
       "4   72079.71              1          1               1        115767.93   \n",
       "\n",
       "   Exited     age_group  score_prod_age  score_catboost  \n",
       "0       0   (0.0, 31.0]        0.110764        0.131844  \n",
       "1       0  (31.0, 35.0]        0.140449        0.074020  \n",
       "2       0  (35.0, 40.0]        0.209337        0.186876  \n",
       "3       0  (31.0, 35.0]        0.140449        0.087403  \n",
       "4       0  (31.0, 35.0]        0.140449        0.056658  "
      ]
     },
     "execution_count": 17,
     "metadata": {},
     "output_type": "execute_result"
    }
   ],
   "source": [
    "test.head()"
   ]
  },
  {
   "cell_type": "markdown",
   "id": "229c7e2d",
   "metadata": {},
   "source": [
    "Есть два скора: 1) на человеческом 2) на катбусте"
   ]
  },
  {
   "cell_type": "code",
   "execution_count": 18,
   "id": "561cea12",
   "metadata": {},
   "outputs": [
    {
     "data": {
      "text/html": [
       "<div>\n",
       "<style scoped>\n",
       "    .dataframe tbody tr th:only-of-type {\n",
       "        vertical-align: middle;\n",
       "    }\n",
       "\n",
       "    .dataframe tbody tr th {\n",
       "        vertical-align: top;\n",
       "    }\n",
       "\n",
       "    .dataframe thead th {\n",
       "        text-align: right;\n",
       "    }\n",
       "</style>\n",
       "<table border=\"1\" class=\"dataframe\">\n",
       "  <thead>\n",
       "    <tr style=\"text-align: right;\">\n",
       "      <th></th>\n",
       "      <th>score_prod_age</th>\n",
       "      <th>score_catboost</th>\n",
       "    </tr>\n",
       "  </thead>\n",
       "  <tbody>\n",
       "    <tr>\n",
       "      <th>0</th>\n",
       "      <td>0.110764</td>\n",
       "      <td>0.131844</td>\n",
       "    </tr>\n",
       "    <tr>\n",
       "      <th>1</th>\n",
       "      <td>0.140449</td>\n",
       "      <td>0.074020</td>\n",
       "    </tr>\n",
       "    <tr>\n",
       "      <th>2</th>\n",
       "      <td>0.209337</td>\n",
       "      <td>0.186876</td>\n",
       "    </tr>\n",
       "    <tr>\n",
       "      <th>3</th>\n",
       "      <td>0.140449</td>\n",
       "      <td>0.087403</td>\n",
       "    </tr>\n",
       "    <tr>\n",
       "      <th>4</th>\n",
       "      <td>0.140449</td>\n",
       "      <td>0.056658</td>\n",
       "    </tr>\n",
       "    <tr>\n",
       "      <th>...</th>\n",
       "      <td>...</td>\n",
       "      <td>...</td>\n",
       "    </tr>\n",
       "    <tr>\n",
       "      <th>1995</th>\n",
       "      <td>0.236364</td>\n",
       "      <td>0.026803</td>\n",
       "    </tr>\n",
       "    <tr>\n",
       "      <th>1996</th>\n",
       "      <td>0.209337</td>\n",
       "      <td>0.084712</td>\n",
       "    </tr>\n",
       "    <tr>\n",
       "      <th>1997</th>\n",
       "      <td>0.108647</td>\n",
       "      <td>0.149411</td>\n",
       "    </tr>\n",
       "    <tr>\n",
       "      <th>1998</th>\n",
       "      <td>0.061069</td>\n",
       "      <td>0.063715</td>\n",
       "    </tr>\n",
       "    <tr>\n",
       "      <th>1999</th>\n",
       "      <td>0.061069</td>\n",
       "      <td>0.050231</td>\n",
       "    </tr>\n",
       "  </tbody>\n",
       "</table>\n",
       "<p>2000 rows × 2 columns</p>\n",
       "</div>"
      ],
      "text/plain": [
       "      score_prod_age  score_catboost\n",
       "0           0.110764        0.131844\n",
       "1           0.140449        0.074020\n",
       "2           0.209337        0.186876\n",
       "3           0.140449        0.087403\n",
       "4           0.140449        0.056658\n",
       "...              ...             ...\n",
       "1995        0.236364        0.026803\n",
       "1996        0.209337        0.084712\n",
       "1997        0.108647        0.149411\n",
       "1998        0.061069        0.063715\n",
       "1999        0.061069        0.050231\n",
       "\n",
       "[2000 rows x 2 columns]"
      ]
     },
     "execution_count": 18,
     "metadata": {},
     "output_type": "execute_result"
    }
   ],
   "source": [
    "test[['score_prod_age','score_catboost']]"
   ]
  },
  {
   "cell_type": "markdown",
   "id": "0c9cdcf5",
   "metadata": {},
   "source": [
    "Скор - это оценка, которая показывает склонность человека, к оттоку."
   ]
  },
  {
   "cell_type": "markdown",
   "id": "1ce3d995",
   "metadata": {},
   "source": [
    "Как понять, что клиент все-таки уйдет?"
   ]
  },
  {
   "cell_type": "code",
   "execution_count": 21,
   "id": "6ba90178",
   "metadata": {},
   "outputs": [
    {
     "data": {
      "text/plain": [
       "<AxesSubplot:>"
      ]
     },
     "execution_count": 21,
     "metadata": {},
     "output_type": "execute_result"
    },
    {
     "data": {
      "image/png": "[encoded data removed]",
      "text/plain": [
       "<Figure size 432x288 with 1 Axes>"
      ]
     },
     "metadata": {
      "needs_background": "light"
     },
     "output_type": "display_data"
    }
   ],
   "source": [
    "test['score_catboost'].hist()"
   ]
  },
  {
   "cell_type": "markdown",
   "id": "73dc00ba",
   "metadata": {},
   "source": [
    "В основом значеня в нуле, много людей все-таки не уходят."
   ]
  },
  {
   "cell_type": "code",
   "execution_count": 23,
   "id": "438797b4",
   "metadata": {},
   "outputs": [
    {
     "data": {
      "text/plain": [
       "0.20366666666666666"
      ]
     },
     "execution_count": 23,
     "metadata": {},
     "output_type": "execute_result"
    }
   ],
   "source": [
    "train['Exited'].mean() #среднее значение"
   ]
  },
  {
   "cell_type": "markdown",
   "id": "ad06e081",
   "metadata": {},
   "source": [
    "Переведем в нули и единицы:"
   ]
  },
  {
   "cell_type": "code",
   "execution_count": 24,
   "id": "ac641312",
   "metadata": {},
   "outputs": [
    {
     "data": {
      "text/plain": [
       "0"
      ]
     },
     "execution_count": 24,
     "metadata": {},
     "output_type": "execute_result"
    }
   ],
   "source": [
    "False * 1"
   ]
  },
  {
   "cell_type": "code",
   "execution_count": 26,
   "id": "447d6471",
   "metadata": {},
   "outputs": [],
   "source": [
    "test['y_pred'] = (test['score_catboost'] > 0.5) * 1"
   ]
  },
  {
   "cell_type": "code",
   "execution_count": 27,
   "id": "63ef7e7e",
   "metadata": {},
   "outputs": [
    {
     "data": {
      "text/html": [
       "<div>\n",
       "<style scoped>\n",
       "    .dataframe tbody tr th:only-of-type {\n",
       "        vertical-align: middle;\n",
       "    }\n",
       "\n",
       "    .dataframe tbody tr th {\n",
       "        vertical-align: top;\n",
       "    }\n",
       "\n",
       "    .dataframe thead th {\n",
       "        text-align: right;\n",
       "    }\n",
       "</style>\n",
       "<table border=\"1\" class=\"dataframe\">\n",
       "  <thead>\n",
       "    <tr style=\"text-align: right;\">\n",
       "      <th></th>\n",
       "      <th>RowNumber</th>\n",
       "      <th>CustomerId</th>\n",
       "      <th>Surname</th>\n",
       "      <th>CreditScore</th>\n",
       "      <th>Geography</th>\n",
       "      <th>Gender</th>\n",
       "      <th>Age</th>\n",
       "      <th>Tenure</th>\n",
       "      <th>Balance</th>\n",
       "      <th>NumOfProducts</th>\n",
       "      <th>HasCrCard</th>\n",
       "      <th>IsActiveMember</th>\n",
       "      <th>EstimatedSalary</th>\n",
       "      <th>Exited</th>\n",
       "      <th>age_group</th>\n",
       "      <th>score_prod_age</th>\n",
       "      <th>score_catboost</th>\n",
       "      <th>y_pred</th>\n",
       "    </tr>\n",
       "  </thead>\n",
       "  <tbody>\n",
       "    <tr>\n",
       "      <th>0</th>\n",
       "      <td>9168</td>\n",
       "      <td>15645353</td>\n",
       "      <td>Chubb</td>\n",
       "      <td>607</td>\n",
       "      <td>France</td>\n",
       "      <td>Male</td>\n",
       "      <td>26</td>\n",
       "      <td>1</td>\n",
       "      <td>0.00</td>\n",
       "      <td>1</td>\n",
       "      <td>1</td>\n",
       "      <td>0</td>\n",
       "      <td>29818.20</td>\n",
       "      <td>0</td>\n",
       "      <td>(0.0, 31.0]</td>\n",
       "      <td>0.110764</td>\n",
       "      <td>0.131844</td>\n",
       "      <td>0</td>\n",
       "    </tr>\n",
       "    <tr>\n",
       "      <th>1</th>\n",
       "      <td>9388</td>\n",
       "      <td>15594576</td>\n",
       "      <td>Zhdanov</td>\n",
       "      <td>524</td>\n",
       "      <td>France</td>\n",
       "      <td>Male</td>\n",
       "      <td>32</td>\n",
       "      <td>1</td>\n",
       "      <td>144875.71</td>\n",
       "      <td>1</td>\n",
       "      <td>0</td>\n",
       "      <td>0</td>\n",
       "      <td>187740.04</td>\n",
       "      <td>0</td>\n",
       "      <td>(31.0, 35.0]</td>\n",
       "      <td>0.140449</td>\n",
       "      <td>0.074020</td>\n",
       "      <td>0</td>\n",
       "    </tr>\n",
       "    <tr>\n",
       "      <th>2</th>\n",
       "      <td>6860</td>\n",
       "      <td>15811927</td>\n",
       "      <td>Marcelo</td>\n",
       "      <td>733</td>\n",
       "      <td>France</td>\n",
       "      <td>Female</td>\n",
       "      <td>38</td>\n",
       "      <td>3</td>\n",
       "      <td>157658.36</td>\n",
       "      <td>1</td>\n",
       "      <td>0</td>\n",
       "      <td>0</td>\n",
       "      <td>19658.43</td>\n",
       "      <td>0</td>\n",
       "      <td>(35.0, 40.0]</td>\n",
       "      <td>0.209337</td>\n",
       "      <td>0.186876</td>\n",
       "      <td>0</td>\n",
       "    </tr>\n",
       "    <tr>\n",
       "      <th>3</th>\n",
       "      <td>3501</td>\n",
       "      <td>15675675</td>\n",
       "      <td>Slate</td>\n",
       "      <td>850</td>\n",
       "      <td>France</td>\n",
       "      <td>Female</td>\n",
       "      <td>32</td>\n",
       "      <td>5</td>\n",
       "      <td>106290.64</td>\n",
       "      <td>1</td>\n",
       "      <td>1</td>\n",
       "      <td>0</td>\n",
       "      <td>121982.73</td>\n",
       "      <td>0</td>\n",
       "      <td>(31.0, 35.0]</td>\n",
       "      <td>0.140449</td>\n",
       "      <td>0.087403</td>\n",
       "      <td>0</td>\n",
       "    </tr>\n",
       "    <tr>\n",
       "      <th>4</th>\n",
       "      <td>6234</td>\n",
       "      <td>15682914</td>\n",
       "      <td>Bolton</td>\n",
       "      <td>850</td>\n",
       "      <td>France</td>\n",
       "      <td>Male</td>\n",
       "      <td>34</td>\n",
       "      <td>2</td>\n",
       "      <td>72079.71</td>\n",
       "      <td>1</td>\n",
       "      <td>1</td>\n",
       "      <td>1</td>\n",
       "      <td>115767.93</td>\n",
       "      <td>0</td>\n",
       "      <td>(31.0, 35.0]</td>\n",
       "      <td>0.140449</td>\n",
       "      <td>0.056658</td>\n",
       "      <td>0</td>\n",
       "    </tr>\n",
       "  </tbody>\n",
       "</table>\n",
       "</div>"
      ],
      "text/plain": [
       "   RowNumber  CustomerId  Surname  CreditScore Geography  Gender  Age  Tenure  \\\n",
       "0       9168    15645353    Chubb          607    France    Male   26       1   \n",
       "1       9388    15594576  Zhdanov          524    France    Male   32       1   \n",
       "2       6860    15811927  Marcelo          733    France  Female   38       3   \n",
       "3       3501    15675675    Slate          850    France  Female   32       5   \n",
       "4       6234    15682914   Bolton          850    France    Male   34       2   \n",
       "\n",
       "     Balance  NumOfProducts  HasCrCard  IsActiveMember  EstimatedSalary  \\\n",
       "0       0.00              1          1               0         29818.20   \n",
       "1  144875.71              1          0               0        187740.04   \n",
       "2  157658.36              1          0               0         19658.43   \n",
       "3  106290.64              1          1               0        121982.73   \n",
       "4   72079.71              1          1               1        115767.93   \n",
       "\n",
       "   Exited     age_group  score_prod_age  score_catboost  y_pred  \n",
       "0       0   (0.0, 31.0]        0.110764        0.131844       0  \n",
       "1       0  (31.0, 35.0]        0.140449        0.074020       0  \n",
       "2       0  (35.0, 40.0]        0.209337        0.186876       0  \n",
       "3       0  (31.0, 35.0]        0.140449        0.087403       0  \n",
       "4       0  (31.0, 35.0]        0.140449        0.056658       0  "
      ]
     },
     "execution_count": 27,
     "metadata": {},
     "output_type": "execute_result"
    }
   ],
   "source": [
    "test.head()"
   ]
  },
  {
   "cell_type": "code",
   "execution_count": 28,
   "id": "8ef1c41b",
   "metadata": {},
   "outputs": [
    {
     "data": {
      "text/plain": [
       "0.1225"
      ]
     },
     "execution_count": 28,
     "metadata": {},
     "output_type": "execute_result"
    }
   ],
   "source": [
    "test['y_pred'].mean()"
   ]
  },
  {
   "cell_type": "markdown",
   "id": "13f837ce",
   "metadata": {},
   "source": [
    "# Матрица ошибок"
   ]
  },
  {
   "cell_type": "code",
   "execution_count": 29,
   "id": "893ea001",
   "metadata": {},
   "outputs": [],
   "source": [
    "from sklearn.metrics import confusion_matrix"
   ]
  },
  {
   "cell_type": "markdown",
   "id": "95a2d88f",
   "metadata": {},
   "source": [
    "Exicted и y_pred сравниваем дял формирования матрицы ошибок"
   ]
  },
  {
   "cell_type": "code",
   "execution_count": 30,
   "id": "353f29a7",
   "metadata": {},
   "outputs": [
    {
     "data": {
      "text/plain": [
       "array([[1537,   56],\n",
       "       [ 218,  189]], dtype=int64)"
      ]
     },
     "execution_count": 30,
     "metadata": {},
     "output_type": "execute_result"
    }
   ],
   "source": [
    "confusion_matrix(test['Exited'],test['y_pred'])"
   ]
  },
  {
   "cell_type": "code",
   "execution_count": 31,
   "id": "0559261d",
   "metadata": {},
   "outputs": [],
   "source": [
    "tn, fp, fn, tp = confusion_matrix(test['Exited'],test['y_pred']).ravel()"
   ]
  },
  {
   "cell_type": "code",
   "execution_count": 32,
   "id": "abcf0fd3",
   "metadata": {},
   "outputs": [
    {
     "data": {
      "text/plain": [
       "(1537, 56, 218, 189)"
      ]
     },
     "execution_count": 32,
     "metadata": {},
     "output_type": "execute_result"
    }
   ],
   "source": [
    "tn, fp, fn, tp"
   ]
  },
  {
   "cell_type": "markdown",
   "id": "35adabfb",
   "metadata": {},
   "source": [
    "Основная ошибка False negative, модель пропустила ложнй пропуск, модель не поняла, что клиент отточный."
   ]
  },
  {
   "cell_type": "markdown",
   "id": "a9ef3a70",
   "metadata": {},
   "source": [
    "# Recall (полнота) (sensitivity, recall, hit rate, or true positive rate (TPR))"
   ]
  },
  {
   "cell_type": "markdown",
   "id": "01754d1d",
   "metadata": {},
   "source": [
    "Recall - процент правильных единичек. \\\n",
    "Насколько хорошо, единички подсвечивает"
   ]
  },
  {
   "cell_type": "code",
   "execution_count": 33,
   "id": "c6f072c8",
   "metadata": {},
   "outputs": [],
   "source": [
    "recall = tp / (tp + fn)"
   ]
  },
  {
   "cell_type": "code",
   "execution_count": 35,
   "id": "4fb33bb1",
   "metadata": {},
   "outputs": [
    {
     "name": "stdout",
     "output_type": "stream",
     "text": [
      "Recall: 0.4643734643734644\n"
     ]
    }
   ],
   "source": [
    "print('Recall:', recall)"
   ]
  },
  {
   "cell_type": "code",
   "execution_count": 36,
   "id": "f5cfdb05",
   "metadata": {},
   "outputs": [],
   "source": [
    "from sklearn.metrics import recall_score"
   ]
  },
  {
   "cell_type": "code",
   "execution_count": 37,
   "id": "cfde1356",
   "metadata": {},
   "outputs": [
    {
     "data": {
      "text/plain": [
       "0.4643734643734644"
      ]
     },
     "execution_count": 37,
     "metadata": {},
     "output_type": "execute_result"
    }
   ],
   "source": [
    "recall_score(test['Exited'],test['y_pred'])"
   ]
  },
  {
   "cell_type": "markdown",
   "id": "45d9dc39",
   "metadata": {},
   "source": [
    "# Precision (точность) (precision or positive predictive value (PPV))"
   ]
  },
  {
   "cell_type": "markdown",
   "id": "f9cc8a82",
   "metadata": {},
   "source": [
    "Показывает процент правильных единичек, среди предсказанных единичек."
   ]
  },
  {
   "cell_type": "code",
   "execution_count": 39,
   "id": "222e3b00",
   "metadata": {},
   "outputs": [],
   "source": [
    "precision = tp / (tp + fp)"
   ]
  },
  {
   "cell_type": "code",
   "execution_count": 43,
   "id": "b0ff6246",
   "metadata": {},
   "outputs": [
    {
     "name": "stdout",
     "output_type": "stream",
     "text": [
      "Precision: 0.7714285714285715\n"
     ]
    }
   ],
   "source": [
    "print('Precision:', precision)"
   ]
  },
  {
   "cell_type": "code",
   "execution_count": 40,
   "id": "53454089",
   "metadata": {},
   "outputs": [],
   "source": [
    "from sklearn.metrics import precision_score"
   ]
  },
  {
   "cell_type": "code",
   "execution_count": 41,
   "id": "5091aa22",
   "metadata": {},
   "outputs": [
    {
     "data": {
      "text/plain": [
       "0.7714285714285715"
      ]
     },
     "execution_count": 41,
     "metadata": {},
     "output_type": "execute_result"
    }
   ],
   "source": [
    "precision_score(test['Exited'],test['y_pred'])"
   ]
  },
  {
   "cell_type": "markdown",
   "id": "c3cdfd28",
   "metadata": {},
   "source": [
    "77% угадала, как отточники, если показывать отточников и не отточников"
   ]
  },
  {
   "cell_type": "markdown",
   "id": "4c6f30c0",
   "metadata": {},
   "source": [
    "# F1 score"
   ]
  },
  {
   "cell_type": "markdown",
   "id": "d0f6ffb9",
   "metadata": {},
   "source": [
    "является гармоническим средним значением точности и чувствительности:"
   ]
  },
  {
   "cell_type": "code",
   "execution_count": 46,
   "id": "99e35ec6",
   "metadata": {},
   "outputs": [],
   "source": [
    "f1 = (2 * recall * precision) / (recall + precision)"
   ]
  },
  {
   "cell_type": "code",
   "execution_count": 47,
   "id": "40eadfbe",
   "metadata": {},
   "outputs": [
    {
     "name": "stdout",
     "output_type": "stream",
     "text": [
      "f1 score: 0.5797546012269938\n"
     ]
    }
   ],
   "source": [
    "print('f1 score:', f1)"
   ]
  },
  {
   "cell_type": "code",
   "execution_count": 48,
   "id": "2e1f4ee2",
   "metadata": {},
   "outputs": [],
   "source": [
    "from sklearn.metrics import f1_score"
   ]
  },
  {
   "cell_type": "code",
   "execution_count": 49,
   "id": "940a8fec",
   "metadata": {},
   "outputs": [
    {
     "data": {
      "text/plain": [
       "0.5797546012269938"
      ]
     },
     "execution_count": 49,
     "metadata": {},
     "output_type": "execute_result"
    }
   ],
   "source": [
    "f1_score(test['Exited'],test['y_pred'])"
   ]
  },
  {
   "cell_type": "markdown",
   "id": "6e8d3b5a",
   "metadata": {},
   "source": [
    "# Accuracy(ACC)"
   ]
  },
  {
   "cell_type": "markdown",
   "id": "f9574a10",
   "metadata": {},
   "source": [
    "Процент правильных ответов"
   ]
  },
  {
   "cell_type": "code",
   "execution_count": 50,
   "id": "300a4c51",
   "metadata": {},
   "outputs": [
    {
     "data": {
      "text/plain": [
       "0.863"
      ]
     },
     "execution_count": 50,
     "metadata": {},
     "output_type": "execute_result"
    }
   ],
   "source": [
    "(test['Exited'] == test['y_pred']).mean()"
   ]
  },
  {
   "cell_type": "code",
   "execution_count": 51,
   "id": "4fd3b3b5",
   "metadata": {},
   "outputs": [
    {
     "data": {
      "text/plain": [
       "0.863"
      ]
     },
     "execution_count": 51,
     "metadata": {},
     "output_type": "execute_result"
    }
   ],
   "source": [
    "ACC = (tp + tn) / (tp + tn + fp + fn)\n",
    "ACC"
   ]
  },
  {
   "cell_type": "code",
   "execution_count": 52,
   "id": "afb6607c",
   "metadata": {},
   "outputs": [],
   "source": [
    "from sklearn.metrics import accuracy_score"
   ]
  },
  {
   "cell_type": "code",
   "execution_count": 53,
   "id": "23b94fe5",
   "metadata": {},
   "outputs": [
    {
     "data": {
      "text/plain": [
       "0.863"
      ]
     },
     "execution_count": 53,
     "metadata": {},
     "output_type": "execute_result"
    }
   ],
   "source": [
    "accuracy_score(test['Exited'],test['y_pred'])"
   ]
  },
  {
   "cell_type": "markdown",
   "id": "d0eb7f5e",
   "metadata": {},
   "source": [
    "Нельзя её использовать, когда классы не сбалансированные.\n",
    "\n"
   ]
  },
  {
   "cell_type": "markdown",
   "id": "50f34be1",
   "metadata": {},
   "source": [
    "# Classification report"
   ]
  },
  {
   "cell_type": "code",
   "execution_count": 54,
   "id": "9426fe2e",
   "metadata": {},
   "outputs": [],
   "source": [
    "from sklearn.metrics import classification_report"
   ]
  },
  {
   "cell_type": "code",
   "execution_count": 55,
   "id": "91724837",
   "metadata": {},
   "outputs": [
    {
     "name": "stdout",
     "output_type": "stream",
     "text": [
      "              precision    recall  f1-score   support\n",
      "\n",
      "           0       0.88      0.96      0.92      1593\n",
      "           1       0.77      0.46      0.58       407\n",
      "\n",
      "    accuracy                           0.86      2000\n",
      "   macro avg       0.82      0.71      0.75      2000\n",
      "weighted avg       0.85      0.86      0.85      2000\n",
      "\n"
     ]
    }
   ],
   "source": [
    "print(classification_report(test['Exited'],test['y_pred']))"
   ]
  },
  {
   "cell_type": "code",
   "execution_count": 56,
   "id": "e3ab1398",
   "metadata": {},
   "outputs": [
    {
     "data": {
      "text/plain": [
       "0.7714285714285715"
      ]
     },
     "execution_count": 56,
     "metadata": {},
     "output_type": "execute_result"
    }
   ],
   "source": [
    "precision "
   ]
  },
  {
   "cell_type": "code",
   "execution_count": 57,
   "id": "22a5dd9d",
   "metadata": {},
   "outputs": [
    {
     "data": {
      "text/plain": [
       "0.4643734643734644"
      ]
     },
     "execution_count": 57,
     "metadata": {},
     "output_type": "execute_result"
    }
   ],
   "source": [
    "recall  "
   ]
  },
  {
   "cell_type": "code",
   "execution_count": 59,
   "id": "e5cb3e6a",
   "metadata": {},
   "outputs": [
    {
     "data": {
      "text/plain": [
       "0.5797546012269938"
      ]
     },
     "execution_count": 59,
     "metadata": {},
     "output_type": "execute_result"
    }
   ],
   "source": [
    "f1"
   ]
  },
  {
   "cell_type": "markdown",
   "id": "6e31f5fa",
   "metadata": {},
   "source": [
    "## Предикт с другим порогом"
   ]
  },
  {
   "cell_type": "code",
   "execution_count": 60,
   "id": "89d536fa",
   "metadata": {},
   "outputs": [],
   "source": [
    "test['y_pred_new'] = (test['score_catboost'] > 0.4) * 1"
   ]
  },
  {
   "cell_type": "code",
   "execution_count": 61,
   "id": "421f94af",
   "metadata": {},
   "outputs": [
    {
     "data": {
      "text/plain": [
       "0.5797546012269938"
      ]
     },
     "execution_count": 61,
     "metadata": {},
     "output_type": "execute_result"
    }
   ],
   "source": [
    "f1_score(test['Exited'],test['y_pred'])"
   ]
  },
  {
   "cell_type": "code",
   "execution_count": 62,
   "id": "6b21697a",
   "metadata": {},
   "outputs": [
    {
     "data": {
      "text/plain": [
       "0.6104972375690608"
      ]
     },
     "execution_count": 62,
     "metadata": {},
     "output_type": "execute_result"
    }
   ],
   "source": [
    "f1_score(test['Exited'],test['y_pred_new'])"
   ]
  },
  {
   "cell_type": "markdown",
   "id": "de3d89f5",
   "metadata": {},
   "source": [
    "Посчитаем все пороги"
   ]
  },
  {
   "cell_type": "code",
   "execution_count": 63,
   "id": "c545e1ae",
   "metadata": {},
   "outputs": [
    {
     "data": {
      "text/plain": [
       "2000"
      ]
     },
     "execution_count": 63,
     "metadata": {},
     "output_type": "execute_result"
    }
   ],
   "source": [
    "len(test['score_catboost'])"
   ]
  },
  {
   "cell_type": "code",
   "execution_count": 64,
   "id": "f2ed2103",
   "metadata": {},
   "outputs": [
    {
     "data": {
      "text/plain": [
       "2000"
      ]
     },
     "execution_count": 64,
     "metadata": {},
     "output_type": "execute_result"
    }
   ],
   "source": [
    "test['score_catboost'].nunique()"
   ]
  },
  {
   "cell_type": "code",
   "execution_count": 65,
   "id": "357634d4",
   "metadata": {},
   "outputs": [],
   "source": [
    "thrs = [0] + list(test['score_catboost'].unique()) #переменная, храняющая пороги"
   ]
  },
  {
   "cell_type": "code",
   "execution_count": 68,
   "id": "7bd51868",
   "metadata": {
    "scrolled": false
   },
   "outputs": [
    {
     "data": {
      "text/plain": [
       "[0,\n",
       " 0.13184386080460456,\n",
       " 0.07401954387476312,\n",
       " 0.186875674742704,\n",
       " 0.08740349387157287,\n",
       " 0.056658162909274626,\n",
       " 0.06161072773132969,\n",
       " 0.5563161171624524,\n",
       " 0.20388734500811354,\n",
       " 0.04555554026765728,\n",
       " 0.3665912024509706,\n",
       " 0.05285404501123435,\n",
       " 0.02389861383169527,\n",
       " 0.025687510422433397,\n",
       " 0.16369028198188673,\n",
       " 0.25392676705939893,\n",
       " 0.7564224487666255,\n",
       " 0.018690614421304177,\n",
       " 0.5052261796760975,\n",
       " 0.07183857505482741]"
      ]
     },
     "execution_count": 68,
     "metadata": {},
     "output_type": "execute_result"
    }
   ],
   "source": [
    "thrs[:20]"
   ]
  },
  {
   "cell_type": "code",
   "execution_count": 70,
   "id": "690be269",
   "metadata": {},
   "outputs": [],
   "source": [
    "from tqdm.notebook import tqdm"
   ]
  },
  {
   "cell_type": "code",
   "execution_count": 75,
   "id": "69d05934",
   "metadata": {},
   "outputs": [
    {
     "data": {
      "application/vnd.jupyter.widget-view+json": {
       "model_id": "d1726ce48daf4af4b4fa761f03e2e06c",
       "version_major": 2,
       "version_minor": 0
      },
      "text/plain": [
       "  0%|          | 0/2001 [00:00<?, ?it/s]"
      ]
     },
     "metadata": {},
     "output_type": "display_data"
    }
   ],
   "source": [
    "result = []\n",
    "for thr in tqdm(thrs):\n",
    "    test['y_pred_new'] = (test['score_catboost'] > thr) * 1\n",
    "    result.append((thr,\n",
    "                 f1_score(test['Exited'],test['y_pred_new'])))"
   ]
  },
  {
   "cell_type": "code",
   "execution_count": 76,
   "id": "d27b5b80",
   "metadata": {},
   "outputs": [
    {
     "data": {
      "text/plain": [
       "[(0, 0.3381803074366431),\n",
       " (0.13184386080460456, 0.5536277602523659),\n",
       " (0.07401954387476312, 0.47174447174447176),\n",
       " (0.186875674742704, 0.5938069216757741),\n",
       " (0.08740349387157287, 0.4940239043824701),\n",
       " (0.056658162909274626, 0.43680709534368073),\n",
       " (0.06161072773132969, 0.44610091743119257),\n",
       " (0.5563161171624524, 0.5544871794871795),\n",
       " (0.20388734500811354, 0.6096153846153847),\n",
       " (0.04555554026765728, 0.40841457157516675)]"
      ]
     },
     "execution_count": 76,
     "metadata": {},
     "output_type": "execute_result"
    }
   ],
   "source": [
    "result[:10]"
   ]
  },
  {
   "cell_type": "code",
   "execution_count": 77,
   "id": "af30e4c1",
   "metadata": {},
   "outputs": [],
   "source": [
    "t = pd.DataFrame(result,columns=['thr','f1'])"
   ]
  },
  {
   "cell_type": "code",
   "execution_count": 78,
   "id": "5efda22b",
   "metadata": {},
   "outputs": [
    {
     "data": {
      "text/html": [
       "<div>\n",
       "<style scoped>\n",
       "    .dataframe tbody tr th:only-of-type {\n",
       "        vertical-align: middle;\n",
       "    }\n",
       "\n",
       "    .dataframe tbody tr th {\n",
       "        vertical-align: top;\n",
       "    }\n",
       "\n",
       "    .dataframe thead th {\n",
       "        text-align: right;\n",
       "    }\n",
       "</style>\n",
       "<table border=\"1\" class=\"dataframe\">\n",
       "  <thead>\n",
       "    <tr style=\"text-align: right;\">\n",
       "      <th></th>\n",
       "      <th>thr</th>\n",
       "      <th>f1</th>\n",
       "    </tr>\n",
       "  </thead>\n",
       "  <tbody>\n",
       "    <tr>\n",
       "      <th>640</th>\n",
       "      <td>0.277932</td>\n",
       "      <td>0.636771</td>\n",
       "    </tr>\n",
       "    <tr>\n",
       "      <th>623</th>\n",
       "      <td>0.280837</td>\n",
       "      <td>0.636569</td>\n",
       "    </tr>\n",
       "    <tr>\n",
       "      <th>1343</th>\n",
       "      <td>0.276637</td>\n",
       "      <td>0.636058</td>\n",
       "    </tr>\n",
       "    <tr>\n",
       "      <th>1756</th>\n",
       "      <td>0.331582</td>\n",
       "      <td>0.636025</td>\n",
       "    </tr>\n",
       "    <tr>\n",
       "      <th>1228</th>\n",
       "      <td>0.278005</td>\n",
       "      <td>0.635955</td>\n",
       "    </tr>\n",
       "    <tr>\n",
       "      <th>...</th>\n",
       "      <td>...</td>\n",
       "      <td>...</td>\n",
       "    </tr>\n",
       "    <tr>\n",
       "      <th>238</th>\n",
       "      <td>0.992916</td>\n",
       "      <td>0.019465</td>\n",
       "    </tr>\n",
       "    <tr>\n",
       "      <th>315</th>\n",
       "      <td>0.993195</td>\n",
       "      <td>0.014634</td>\n",
       "    </tr>\n",
       "    <tr>\n",
       "      <th>180</th>\n",
       "      <td>0.994941</td>\n",
       "      <td>0.009780</td>\n",
       "    </tr>\n",
       "    <tr>\n",
       "      <th>1205</th>\n",
       "      <td>0.997245</td>\n",
       "      <td>0.004902</td>\n",
       "    </tr>\n",
       "    <tr>\n",
       "      <th>206</th>\n",
       "      <td>0.997318</td>\n",
       "      <td>0.000000</td>\n",
       "    </tr>\n",
       "  </tbody>\n",
       "</table>\n",
       "<p>2001 rows × 2 columns</p>\n",
       "</div>"
      ],
      "text/plain": [
       "           thr        f1\n",
       "640   0.277932  0.636771\n",
       "623   0.280837  0.636569\n",
       "1343  0.276637  0.636058\n",
       "1756  0.331582  0.636025\n",
       "1228  0.278005  0.635955\n",
       "...        ...       ...\n",
       "238   0.992916  0.019465\n",
       "315   0.993195  0.014634\n",
       "180   0.994941  0.009780\n",
       "1205  0.997245  0.004902\n",
       "206   0.997318  0.000000\n",
       "\n",
       "[2001 rows x 2 columns]"
      ]
     },
     "execution_count": 78,
     "metadata": {},
     "output_type": "execute_result"
    }
   ],
   "source": [
    "t.sort_values('f1',ascending=False)"
   ]
  },
  {
   "cell_type": "code",
   "execution_count": 79,
   "id": "b1323a36",
   "metadata": {},
   "outputs": [
    {
     "data": {
      "text/plain": [
       "<AxesSubplot:xlabel='thr'>"
      ]
     },
     "execution_count": 79,
     "metadata": {},
     "output_type": "execute_result"
    },
    {
     "data": {
      "image/png": "[encoded data removed]",
      "text/plain": [
       "<Figure size 432x288 with 1 Axes>"
      ]
     },
     "metadata": {
      "needs_background": "light"
     },
     "output_type": "display_data"
    }
   ],
   "source": [
    "t.plot(x='thr', y='f1', style='o', grid=True)"
   ]
  },
  {
   "cell_type": "code",
   "execution_count": 80,
   "id": "9f674bd9",
   "metadata": {},
   "outputs": [
    {
     "data": {
      "text/html": [
       "<div>\n",
       "<style scoped>\n",
       "    .dataframe tbody tr th:only-of-type {\n",
       "        vertical-align: middle;\n",
       "    }\n",
       "\n",
       "    .dataframe tbody tr th {\n",
       "        vertical-align: top;\n",
       "    }\n",
       "\n",
       "    .dataframe thead th {\n",
       "        text-align: right;\n",
       "    }\n",
       "</style>\n",
       "<table border=\"1\" class=\"dataframe\">\n",
       "  <thead>\n",
       "    <tr style=\"text-align: right;\">\n",
       "      <th></th>\n",
       "      <th>thr</th>\n",
       "      <th>f1</th>\n",
       "    </tr>\n",
       "  </thead>\n",
       "  <tbody>\n",
       "    <tr>\n",
       "      <th>640</th>\n",
       "      <td>0.277932</td>\n",
       "      <td>0.636771</td>\n",
       "    </tr>\n",
       "  </tbody>\n",
       "</table>\n",
       "</div>"
      ],
      "text/plain": [
       "          thr        f1\n",
       "640  0.277932  0.636771"
      ]
     },
     "execution_count": 80,
     "metadata": {},
     "output_type": "execute_result"
    }
   ],
   "source": [
    "t[t['f1'] == t['f1'].max()]"
   ]
  },
  {
   "cell_type": "code",
   "execution_count": null,
   "id": "38271764",
   "metadata": {},
   "outputs": [],
   "source": []
  },
  {
   "cell_type": "code",
   "execution_count": 65,
   "id": "7f91e666",
   "metadata": {},
   "outputs": [],
   "source": [
    "thrs = [0] + list(test['score_catboost'].unique()) #переменная, храняющая пороги"
   ]
  },
  {
   "cell_type": "code",
   "execution_count": 68,
   "id": "8d10cd20",
   "metadata": {
    "scrolled": false
   },
   "outputs": [
    {
     "data": {
      "text/plain": [
       "[0,\n",
       " 0.13184386080460456,\n",
       " 0.07401954387476312,\n",
       " 0.186875674742704,\n",
       " 0.08740349387157287,\n",
       " 0.056658162909274626,\n",
       " 0.06161072773132969,\n",
       " 0.5563161171624524,\n",
       " 0.20388734500811354,\n",
       " 0.04555554026765728,\n",
       " 0.3665912024509706,\n",
       " 0.05285404501123435,\n",
       " 0.02389861383169527,\n",
       " 0.025687510422433397,\n",
       " 0.16369028198188673,\n",
       " 0.25392676705939893,\n",
       " 0.7564224487666255,\n",
       " 0.018690614421304177,\n",
       " 0.5052261796760975,\n",
       " 0.07183857505482741]"
      ]
     },
     "execution_count": 68,
     "metadata": {},
     "output_type": "execute_result"
    }
   ],
   "source": [
    "thrs[:20]"
   ]
  },
  {
   "cell_type": "code",
   "execution_count": 70,
   "id": "03ddf718",
   "metadata": {},
   "outputs": [],
   "source": [
    "from tqdm.notebook import tqdm"
   ]
  },
  {
   "cell_type": "code",
   "execution_count": 75,
   "id": "109a4158",
   "metadata": {},
   "outputs": [
    {
     "data": {
      "application/vnd.jupyter.widget-view+json": {
       "model_id": "d1726ce48daf4af4b4fa761f03e2e06c",
       "version_major": 2,
       "version_minor": 0
      },
      "text/plain": [
       "  0%|          | 0/2001 [00:00<?, ?it/s]"
      ]
     },
     "metadata": {},
     "output_type": "display_data"
    }
   ],
   "source": [
    "result = []\n",
    "for thr in tqdm(thrs):\n",
    "    test['y_pred_new'] = (test['score_catboost'] > thr) * 1\n",
    "    result.append((thr,\n",
    "                 f1_score(test['Exited'],test['y_pred_new'])))"
   ]
  },
  {
   "cell_type": "code",
   "execution_count": 76,
   "id": "200fb9e0",
   "metadata": {},
   "outputs": [
    {
     "data": {
      "text/plain": [
       "[(0, 0.3381803074366431),\n",
       " (0.13184386080460456, 0.5536277602523659),\n",
       " (0.07401954387476312, 0.47174447174447176),\n",
       " (0.186875674742704, 0.5938069216757741),\n",
       " (0.08740349387157287, 0.4940239043824701),\n",
       " (0.056658162909274626, 0.43680709534368073),\n",
       " (0.06161072773132969, 0.44610091743119257),\n",
       " (0.5563161171624524, 0.5544871794871795),\n",
       " (0.20388734500811354, 0.6096153846153847),\n",
       " (0.04555554026765728, 0.40841457157516675)]"
      ]
     },
     "execution_count": 76,
     "metadata": {},
     "output_type": "execute_result"
    }
   ],
   "source": [
    "result[:10]"
   ]
  },
  {
   "cell_type": "code",
   "execution_count": 77,
   "id": "da806abe",
   "metadata": {},
   "outputs": [],
   "source": [
    "t = pd.DataFrame(result,columns=['thr','f1'])"
   ]
  },
  {
   "cell_type": "code",
   "execution_count": 78,
   "id": "0766535c",
   "metadata": {},
   "outputs": [
    {
     "data": {
      "text/html": [
       "<div>\n",
       "<style scoped>\n",
       "    .dataframe tbody tr th:only-of-type {\n",
       "        vertical-align: middle;\n",
       "    }\n",
       "\n",
       "    .dataframe tbody tr th {\n",
       "        vertical-align: top;\n",
       "    }\n",
       "\n",
       "    .dataframe thead th {\n",
       "        text-align: right;\n",
       "    }\n",
       "</style>\n",
       "<table border=\"1\" class=\"dataframe\">\n",
       "  <thead>\n",
       "    <tr style=\"text-align: right;\">\n",
       "      <th></th>\n",
       "      <th>thr</th>\n",
       "      <th>f1</th>\n",
       "    </tr>\n",
       "  </thead>\n",
       "  <tbody>\n",
       "    <tr>\n",
       "      <th>640</th>\n",
       "      <td>0.277932</td>\n",
       "      <td>0.636771</td>\n",
       "    </tr>\n",
       "    <tr>\n",
       "      <th>623</th>\n",
       "      <td>0.280837</td>\n",
       "      <td>0.636569</td>\n",
       "    </tr>\n",
       "    <tr>\n",
       "      <th>1343</th>\n",
       "      <td>0.276637</td>\n",
       "      <td>0.636058</td>\n",
       "    </tr>\n",
       "    <tr>\n",
       "      <th>1756</th>\n",
       "      <td>0.331582</td>\n",
       "      <td>0.636025</td>\n",
       "    </tr>\n",
       "    <tr>\n",
       "      <th>1228</th>\n",
       "      <td>0.278005</td>\n",
       "      <td>0.635955</td>\n",
       "    </tr>\n",
       "    <tr>\n",
       "      <th>...</th>\n",
       "      <td>...</td>\n",
       "      <td>...</td>\n",
       "    </tr>\n",
       "    <tr>\n",
       "      <th>238</th>\n",
       "      <td>0.992916</td>\n",
       "      <td>0.019465</td>\n",
       "    </tr>\n",
       "    <tr>\n",
       "      <th>315</th>\n",
       "      <td>0.993195</td>\n",
       "      <td>0.014634</td>\n",
       "    </tr>\n",
       "    <tr>\n",
       "      <th>180</th>\n",
       "      <td>0.994941</td>\n",
       "      <td>0.009780</td>\n",
       "    </tr>\n",
       "    <tr>\n",
       "      <th>1205</th>\n",
       "      <td>0.997245</td>\n",
       "      <td>0.004902</td>\n",
       "    </tr>\n",
       "    <tr>\n",
       "      <th>206</th>\n",
       "      <td>0.997318</td>\n",
       "      <td>0.000000</td>\n",
       "    </tr>\n",
       "  </tbody>\n",
       "</table>\n",
       "<p>2001 rows × 2 columns</p>\n",
       "</div>"
      ],
      "text/plain": [
       "           thr        f1\n",
       "640   0.277932  0.636771\n",
       "623   0.280837  0.636569\n",
       "1343  0.276637  0.636058\n",
       "1756  0.331582  0.636025\n",
       "1228  0.278005  0.635955\n",
       "...        ...       ...\n",
       "238   0.992916  0.019465\n",
       "315   0.993195  0.014634\n",
       "180   0.994941  0.009780\n",
       "1205  0.997245  0.004902\n",
       "206   0.997318  0.000000\n",
       "\n",
       "[2001 rows x 2 columns]"
      ]
     },
     "execution_count": 78,
     "metadata": {},
     "output_type": "execute_result"
    }
   ],
   "source": [
    "t.sort_values('f1',ascending=False)"
   ]
  },
  {
   "cell_type": "code",
   "execution_count": 79,
   "id": "f3bf88d0",
   "metadata": {},
   "outputs": [
    {
     "data": {
      "text/plain": [
       "<AxesSubplot:xlabel='thr'>"
      ]
     },
     "execution_count": 79,
     "metadata": {},
     "output_type": "execute_result"
    },
    {
     "data": {
      "image/png": "[encoded data removed]",
      "text/plain": [
       "<Figure size 432x288 with 1 Axes>"
      ]
     },
     "metadata": {
      "needs_background": "light"
     },
     "output_type": "display_data"
    }
   ],
   "source": [
    "t.plot(x='thr', y='f1', style='o', grid=True)"
   ]
  },
  {
   "cell_type": "code",
   "execution_count": 80,
   "id": "972d0c92",
   "metadata": {
    "scrolled": true
   },
   "outputs": [
    {
     "data": {
      "text/html": [
       "<div>\n",
       "<style scoped>\n",
       "    .dataframe tbody tr th:only-of-type {\n",
       "        vertical-align: middle;\n",
       "    }\n",
       "\n",
       "    .dataframe tbody tr th {\n",
       "        vertical-align: top;\n",
       "    }\n",
       "\n",
       "    .dataframe thead th {\n",
       "        text-align: right;\n",
       "    }\n",
       "</style>\n",
       "<table border=\"1\" class=\"dataframe\">\n",
       "  <thead>\n",
       "    <tr style=\"text-align: right;\">\n",
       "      <th></th>\n",
       "      <th>thr</th>\n",
       "      <th>f1</th>\n",
       "    </tr>\n",
       "  </thead>\n",
       "  <tbody>\n",
       "    <tr>\n",
       "      <th>640</th>\n",
       "      <td>0.277932</td>\n",
       "      <td>0.636771</td>\n",
       "    </tr>\n",
       "  </tbody>\n",
       "</table>\n",
       "</div>"
      ],
      "text/plain": [
       "          thr        f1\n",
       "640  0.277932  0.636771"
      ]
     },
     "execution_count": 80,
     "metadata": {},
     "output_type": "execute_result"
    }
   ],
   "source": [
    "t[t['f1'] == t['f1'].max()]"
   ]
  },
  {
   "cell_type": "code",
   "execution_count": 65,
   "id": "f1045254",
   "metadata": {},
   "outputs": [],
   "source": [
    "thrs = [0] + list(test['score_catboost'].unique()) #переменная, храняющая пороги"
   ]
  },
  {
   "cell_type": "code",
   "execution_count": 68,
   "id": "c11087ad",
   "metadata": {
    "scrolled": false
   },
   "outputs": [
    {
     "data": {
      "text/plain": [
       "[0,\n",
       " 0.13184386080460456,\n",
       " 0.07401954387476312,\n",
       " 0.186875674742704,\n",
       " 0.08740349387157287,\n",
       " 0.056658162909274626,\n",
       " 0.06161072773132969,\n",
       " 0.5563161171624524,\n",
       " 0.20388734500811354,\n",
       " 0.04555554026765728,\n",
       " 0.3665912024509706,\n",
       " 0.05285404501123435,\n",
       " 0.02389861383169527,\n",
       " 0.025687510422433397,\n",
       " 0.16369028198188673,\n",
       " 0.25392676705939893,\n",
       " 0.7564224487666255,\n",
       " 0.018690614421304177,\n",
       " 0.5052261796760975,\n",
       " 0.07183857505482741]"
      ]
     },
     "execution_count": 68,
     "metadata": {},
     "output_type": "execute_result"
    }
   ],
   "source": [
    "thrs[:20]"
   ]
  },
  {
   "cell_type": "code",
   "execution_count": 70,
   "id": "7662d2ca",
   "metadata": {},
   "outputs": [],
   "source": [
    "from tqdm.notebook import tqdm"
   ]
  },
  {
   "cell_type": "code",
   "execution_count": 75,
   "id": "adb412d2",
   "metadata": {},
   "outputs": [
    {
     "data": {
      "application/vnd.jupyter.widget-view+json": {
       "model_id": "d1726ce48daf4af4b4fa761f03e2e06c",
       "version_major": 2,
       "version_minor": 0
      },
      "text/plain": [
       "  0%|          | 0/2001 [00:00<?, ?it/s]"
      ]
     },
     "metadata": {},
     "output_type": "display_data"
    }
   ],
   "source": [
    "result = []\n",
    "for thr in tqdm(thrs):\n",
    "    test['y_pred_new'] = (test['score_catboost'] > thr) * 1\n",
    "    result.append((thr,\n",
    "                 f1_score(test['Exited'],test['y_pred_new'])))"
   ]
  },
  {
   "cell_type": "code",
   "execution_count": 76,
   "id": "e2b6bc88",
   "metadata": {},
   "outputs": [
    {
     "data": {
      "text/plain": [
       "[(0, 0.3381803074366431),\n",
       " (0.13184386080460456, 0.5536277602523659),\n",
       " (0.07401954387476312, 0.47174447174447176),\n",
       " (0.186875674742704, 0.5938069216757741),\n",
       " (0.08740349387157287, 0.4940239043824701),\n",
       " (0.056658162909274626, 0.43680709534368073),\n",
       " (0.06161072773132969, 0.44610091743119257),\n",
       " (0.5563161171624524, 0.5544871794871795),\n",
       " (0.20388734500811354, 0.6096153846153847),\n",
       " (0.04555554026765728, 0.40841457157516675)]"
      ]
     },
     "execution_count": 76,
     "metadata": {},
     "output_type": "execute_result"
    }
   ],
   "source": [
    "result[:10]"
   ]
  },
  {
   "cell_type": "code",
   "execution_count": 77,
   "id": "19a04d42",
   "metadata": {},
   "outputs": [],
   "source": [
    "t = pd.DataFrame(result,columns=['thr','f1'])"
   ]
  },
  {
   "cell_type": "code",
   "execution_count": 78,
   "id": "339faeea",
   "metadata": {},
   "outputs": [
    {
     "data": {
      "text/html": [
       "<div>\n",
       "<style scoped>\n",
       "    .dataframe tbody tr th:only-of-type {\n",
       "        vertical-align: middle;\n",
       "    }\n",
       "\n",
       "    .dataframe tbody tr th {\n",
       "        vertical-align: top;\n",
       "    }\n",
       "\n",
       "    .dataframe thead th {\n",
       "        text-align: right;\n",
       "    }\n",
       "</style>\n",
       "<table border=\"1\" class=\"dataframe\">\n",
       "  <thead>\n",
       "    <tr style=\"text-align: right;\">\n",
       "      <th></th>\n",
       "      <th>thr</th>\n",
       "      <th>f1</th>\n",
       "    </tr>\n",
       "  </thead>\n",
       "  <tbody>\n",
       "    <tr>\n",
       "      <th>640</th>\n",
       "      <td>0.277932</td>\n",
       "      <td>0.636771</td>\n",
       "    </tr>\n",
       "    <tr>\n",
       "      <th>623</th>\n",
       "      <td>0.280837</td>\n",
       "      <td>0.636569</td>\n",
       "    </tr>\n",
       "    <tr>\n",
       "      <th>1343</th>\n",
       "      <td>0.276637</td>\n",
       "      <td>0.636058</td>\n",
       "    </tr>\n",
       "    <tr>\n",
       "      <th>1756</th>\n",
       "      <td>0.331582</td>\n",
       "      <td>0.636025</td>\n",
       "    </tr>\n",
       "    <tr>\n",
       "      <th>1228</th>\n",
       "      <td>0.278005</td>\n",
       "      <td>0.635955</td>\n",
       "    </tr>\n",
       "    <tr>\n",
       "      <th>...</th>\n",
       "      <td>...</td>\n",
       "      <td>...</td>\n",
       "    </tr>\n",
       "    <tr>\n",
       "      <th>238</th>\n",
       "      <td>0.992916</td>\n",
       "      <td>0.019465</td>\n",
       "    </tr>\n",
       "    <tr>\n",
       "      <th>315</th>\n",
       "      <td>0.993195</td>\n",
       "      <td>0.014634</td>\n",
       "    </tr>\n",
       "    <tr>\n",
       "      <th>180</th>\n",
       "      <td>0.994941</td>\n",
       "      <td>0.009780</td>\n",
       "    </tr>\n",
       "    <tr>\n",
       "      <th>1205</th>\n",
       "      <td>0.997245</td>\n",
       "      <td>0.004902</td>\n",
       "    </tr>\n",
       "    <tr>\n",
       "      <th>206</th>\n",
       "      <td>0.997318</td>\n",
       "      <td>0.000000</td>\n",
       "    </tr>\n",
       "  </tbody>\n",
       "</table>\n",
       "<p>2001 rows × 2 columns</p>\n",
       "</div>"
      ],
      "text/plain": [
       "           thr        f1\n",
       "640   0.277932  0.636771\n",
       "623   0.280837  0.636569\n",
       "1343  0.276637  0.636058\n",
       "1756  0.331582  0.636025\n",
       "1228  0.278005  0.635955\n",
       "...        ...       ...\n",
       "238   0.992916  0.019465\n",
       "315   0.993195  0.014634\n",
       "180   0.994941  0.009780\n",
       "1205  0.997245  0.004902\n",
       "206   0.997318  0.000000\n",
       "\n",
       "[2001 rows x 2 columns]"
      ]
     },
     "execution_count": 78,
     "metadata": {},
     "output_type": "execute_result"
    }
   ],
   "source": [
    "t.sort_values('f1',ascending=False)"
   ]
  },
  {
   "cell_type": "code",
   "execution_count": 79,
   "id": "99858628",
   "metadata": {},
   "outputs": [
    {
     "data": {
      "text/plain": [
       "<AxesSubplot:xlabel='thr'>"
      ]
     },
     "execution_count": 79,
     "metadata": {},
     "output_type": "execute_result"
    },
    {
     "data": {
      "image/png": "[encoded data removed]",
      "text/plain": [
       "<Figure size 432x288 with 1 Axes>"
      ]
     },
     "metadata": {
      "needs_background": "light"
     },
     "output_type": "display_data"
    }
   ],
   "source": [
    "t.plot(x='thr', y='f1', style='o', grid=True)"
   ]
  },
  {
   "cell_type": "code",
   "execution_count": 80,
   "id": "b57a77f0",
   "metadata": {},
   "outputs": [
    {
     "data": {
      "text/html": [
       "<div>\n",
       "<style scoped>\n",
       "    .dataframe tbody tr th:only-of-type {\n",
       "        vertical-align: middle;\n",
       "    }\n",
       "\n",
       "    .dataframe tbody tr th {\n",
       "        vertical-align: top;\n",
       "    }\n",
       "\n",
       "    .dataframe thead th {\n",
       "        text-align: right;\n",
       "    }\n",
       "</style>\n",
       "<table border=\"1\" class=\"dataframe\">\n",
       "  <thead>\n",
       "    <tr style=\"text-align: right;\">\n",
       "      <th></th>\n",
       "      <th>thr</th>\n",
       "      <th>f1</th>\n",
       "    </tr>\n",
       "  </thead>\n",
       "  <tbody>\n",
       "    <tr>\n",
       "      <th>640</th>\n",
       "      <td>0.277932</td>\n",
       "      <td>0.636771</td>\n",
       "    </tr>\n",
       "  </tbody>\n",
       "</table>\n",
       "</div>"
      ],
      "text/plain": [
       "          thr        f1\n",
       "640  0.277932  0.636771"
      ]
     },
     "execution_count": 80,
     "metadata": {},
     "output_type": "execute_result"
    }
   ],
   "source": [
    "t[t['f1'] == t['f1'].max()]"
   ]
  },
  {
   "cell_type": "code",
   "execution_count": 81,
   "id": "3c2b1eaa",
   "metadata": {},
   "outputs": [],
   "source": [
    "thrs = [0] + list(test['score_prod_age'].unique())"
   ]
  },
  {
   "cell_type": "code",
   "execution_count": 82,
   "id": "cddca8f7",
   "metadata": {},
   "outputs": [
    {
     "data": {
      "text/plain": [
       "17"
      ]
     },
     "execution_count": 82,
     "metadata": {},
     "output_type": "execute_result"
    }
   ],
   "source": [
    "len(thrs)"
   ]
  },
  {
   "cell_type": "code",
   "execution_count": 83,
   "id": "97a85f12",
   "metadata": {},
   "outputs": [
    {
     "data": {
      "application/vnd.jupyter.widget-view+json": {
       "model_id": "3b948a4edc8744f8945180d39e17ba69",
       "version_major": 2,
       "version_minor": 0
      },
      "text/plain": [
       "  0%|          | 0/17 [00:00<?, ?it/s]"
      ]
     },
     "metadata": {},
     "output_type": "display_data"
    }
   ],
   "source": [
    "result = []\n",
    "for thr in tqdm(thrs):\n",
    "  test['y_pred_new'] = (test['score_prod_age'] > thr) * 1\n",
    "  result.append((thr,\n",
    "                 f1_score(test['Exited'],test['y_pred_new'])))"
   ]
  },
  {
   "cell_type": "code",
   "execution_count": 84,
   "id": "8af2021d",
   "metadata": {},
   "outputs": [
    {
     "data": {
      "text/plain": [
       "[(0, 0.3381803074366431),\n",
       " (0.11076443057722309, 0.4838940586972082),\n",
       " (0.1404494382022472, 0.5156507413509062),\n",
       " (0.20933734939759036, 0.5372233400402414),\n",
       " (0.5276073619631901, 0.21888412017167383),\n",
       " (0.10864745011086474, 0.45387453874538747),\n",
       " (0.028037383177570093, 0.3596608656849621),\n",
       " (0.061068702290076333, 0.43132803632236094),\n",
       " (0.23636363636363636, 0.5594405594405594),\n",
       " (0.033288948069241014, 0.3991995997999)]"
      ]
     },
     "execution_count": 84,
     "metadata": {},
     "output_type": "execute_result"
    }
   ],
   "source": [
    "result[:10]"
   ]
  },
  {
   "cell_type": "code",
   "execution_count": 85,
   "id": "b460918d",
   "metadata": {},
   "outputs": [],
   "source": [
    "t = pd.DataFrame(result,columns=['thr','f1'])b"
   ]
  },
  {
   "cell_type": "code",
   "execution_count": 86,
   "id": "32e8d56c",
   "metadata": {},
   "outputs": [
    {
     "data": {
      "text/html": [
       "<div>\n",
       "<style scoped>\n",
       "    .dataframe tbody tr th:only-of-type {\n",
       "        vertical-align: middle;\n",
       "    }\n",
       "\n",
       "    .dataframe tbody tr th {\n",
       "        vertical-align: top;\n",
       "    }\n",
       "\n",
       "    .dataframe thead th {\n",
       "        text-align: right;\n",
       "    }\n",
       "</style>\n",
       "<table border=\"1\" class=\"dataframe\">\n",
       "  <thead>\n",
       "    <tr style=\"text-align: right;\">\n",
       "      <th></th>\n",
       "      <th>thr</th>\n",
       "      <th>f1</th>\n",
       "    </tr>\n",
       "  </thead>\n",
       "  <tbody>\n",
       "    <tr>\n",
       "      <th>8</th>\n",
       "      <td>0.236364</td>\n",
       "      <td>0.559441</td>\n",
       "    </tr>\n",
       "  </tbody>\n",
       "</table>\n",
       "</div>"
      ],
      "text/plain": [
       "        thr        f1\n",
       "8  0.236364  0.559441"
      ]
     },
     "execution_count": 86,
     "metadata": {},
     "output_type": "execute_result"
    }
   ],
   "source": [
    "t[t['f1'] == t['f1'].max()]"
   ]
  },
  {
   "cell_type": "code",
   "execution_count": 87,
   "id": "3446590d",
   "metadata": {},
   "outputs": [
    {
     "data": {
      "text/plain": [
       "<AxesSubplot:xlabel='thr'>"
      ]
     },
     "execution_count": 87,
     "metadata": {},
     "output_type": "execute_result"
    },
    {
     "data": {
      "image/png": "[encoded data removed]",
      "text/plain": [
       "<Figure size 432x288 with 1 Axes>"
      ]
     },
     "metadata": {
      "needs_background": "light"
     },
     "output_type": "display_data"
    }
   ],
   "source": [
    "t.plot(x='thr', y='f1', style='o', grid=True)"
   ]
  },
  {
   "cell_type": "markdown",
   "id": "db499bd7",
   "metadata": {},
   "source": [
    "# ROC"
   ]
  },
  {
   "cell_type": "code",
   "execution_count": 88,
   "id": "51e50fe3",
   "metadata": {},
   "outputs": [],
   "source": [
    "from sklearn.metrics import roc_curve"
   ]
  },
  {
   "cell_type": "code",
   "execution_count": 89,
   "id": "c57764e7",
   "metadata": {},
   "outputs": [],
   "source": [
    "fprs, tprs, thrs = roc_curve(test['Exited'],test['score_catboost'])"
   ]
  },
  {
   "cell_type": "code",
   "execution_count": 90,
   "id": "5621123c",
   "metadata": {},
   "outputs": [],
   "source": [
    "roc = pd.DataFrame({'fpr':fprs,'tpr':tprs,'thr':thrs})"
   ]
  },
  {
   "cell_type": "code",
   "execution_count": 91,
   "id": "e7050c41",
   "metadata": {},
   "outputs": [
    {
     "data": {
      "text/html": [
       "<div>\n",
       "<style scoped>\n",
       "    .dataframe tbody tr th:only-of-type {\n",
       "        vertical-align: middle;\n",
       "    }\n",
       "\n",
       "    .dataframe tbody tr th {\n",
       "        vertical-align: top;\n",
       "    }\n",
       "\n",
       "    .dataframe thead th {\n",
       "        text-align: right;\n",
       "    }\n",
       "</style>\n",
       "<table border=\"1\" class=\"dataframe\">\n",
       "  <thead>\n",
       "    <tr style=\"text-align: right;\">\n",
       "      <th></th>\n",
       "      <th>fpr</th>\n",
       "      <th>tpr</th>\n",
       "      <th>thr</th>\n",
       "    </tr>\n",
       "  </thead>\n",
       "  <tbody>\n",
       "    <tr>\n",
       "      <th>0</th>\n",
       "      <td>0.000000</td>\n",
       "      <td>0.000000</td>\n",
       "      <td>1.997318</td>\n",
       "    </tr>\n",
       "    <tr>\n",
       "      <th>1</th>\n",
       "      <td>0.000000</td>\n",
       "      <td>0.002457</td>\n",
       "      <td>0.997318</td>\n",
       "    </tr>\n",
       "    <tr>\n",
       "      <th>2</th>\n",
       "      <td>0.000000</td>\n",
       "      <td>0.061425</td>\n",
       "      <td>0.933737</td>\n",
       "    </tr>\n",
       "    <tr>\n",
       "      <th>3</th>\n",
       "      <td>0.000628</td>\n",
       "      <td>0.061425</td>\n",
       "      <td>0.933203</td>\n",
       "    </tr>\n",
       "    <tr>\n",
       "      <th>4</th>\n",
       "      <td>0.000628</td>\n",
       "      <td>0.120393</td>\n",
       "      <td>0.891551</td>\n",
       "    </tr>\n",
       "  </tbody>\n",
       "</table>\n",
       "</div>"
      ],
      "text/plain": [
       "        fpr       tpr       thr\n",
       "0  0.000000  0.000000  1.997318\n",
       "1  0.000000  0.002457  0.997318\n",
       "2  0.000000  0.061425  0.933737\n",
       "3  0.000628  0.061425  0.933203\n",
       "4  0.000628  0.120393  0.891551"
      ]
     },
     "execution_count": 91,
     "metadata": {},
     "output_type": "execute_result"
    }
   ],
   "source": [
    "roc.head()"
   ]
  },
  {
   "cell_type": "code",
   "execution_count": 92,
   "id": "e0f0ed31",
   "metadata": {},
   "outputs": [
    {
     "data": {
      "text/plain": [
       "<AxesSubplot:xlabel='fpr'>"
      ]
     },
     "execution_count": 92,
     "metadata": {},
     "output_type": "execute_result"
    },
    {
     "data": {
      "image/png": "[encoded data removed]",
      "text/plain": [
       "<Figure size 432x432 with 1 Axes>"
      ]
     },
     "metadata": {
      "needs_background": "light"
     },
     "output_type": "display_data"
    }
   ],
   "source": [
    "roc.set_index('fpr')['tpr'].plot(figsize=(6,6))"
   ]
  },
  {
   "cell_type": "code",
   "execution_count": 93,
   "id": "db4bdb59",
   "metadata": {},
   "outputs": [],
   "source": [
    "roc['random'] = roc['fpr']\n",
    "roc['ideal'] = 1"
   ]
  },
  {
   "cell_type": "code",
   "execution_count": 94,
   "id": "b1b52c79",
   "metadata": {},
   "outputs": [
    {
     "data": {
      "text/plain": [
       "<AxesSubplot:xlabel='fpr'>"
      ]
     },
     "execution_count": 94,
     "metadata": {},
     "output_type": "execute_result"
    },
    {
     "data": {
      "image/png": "[encoded data removed]",
      "text/plain": [
       "<Figure size 432x432 with 1 Axes>"
      ]
     },
     "metadata": {
      "needs_background": "light"
     },
     "output_type": "display_data"
    }
   ],
   "source": [
    "roc.plot(x='fpr',y=['tpr','random','ideal'],figsize=(6,6),grid=True)"
   ]
  },
  {
   "cell_type": "code",
   "execution_count": 95,
   "id": "69835339",
   "metadata": {},
   "outputs": [
    {
     "data": {
      "image/png": "[encoded data removed]",
      "text/plain": [
       "<Figure size 432x288 with 1 Axes>"
      ]
     },
     "metadata": {
      "needs_background": "light"
     },
     "output_type": "display_data"
    }
   ],
   "source": [
    "import sklearn.metrics as metrics\n",
    "# calculate the fpr and tpr for all thresholds of the classification\n",
    "\n",
    "fpr, tpr, threshold = metrics.roc_curve(test['Exited'], test['score_catboost'])\n",
    "roc_auc = metrics.auc(fpr, tpr)\n",
    "\n",
    "# method I: plt\n",
    "import matplotlib.pyplot as plt\n",
    "plt.title('Receiver Operating Characteristic')\n",
    "plt.plot(fpr, tpr, 'b', label = 'AUC = %0.2f' % roc_auc)\n",
    "plt.legend(loc = 'lower right')\n",
    "plt.plot([0, 1], [0, 1],'r--')\n",
    "plt.xlim([0, 1])\n",
    "plt.ylim([0, 1])\n",
    "plt.ylabel('True Positive Rate')\n",
    "plt.xlabel('False Positive Rate')\n",
    "plt.show()"
   ]
  },
  {
   "cell_type": "code",
   "execution_count": 96,
   "id": "fc246fe0",
   "metadata": {},
   "outputs": [],
   "source": [
    "from catboost.utils import get_roc_curve"
   ]
  },
  {
   "cell_type": "code",
   "execution_count": 97,
   "id": "3421c5fd",
   "metadata": {},
   "outputs": [],
   "source": [
    "test_data = Pool(data=test[X],\n",
    "                  label=test[y],\n",
    "                  cat_features=cat_features\n",
    "                 )"
   ]
  },
  {
   "cell_type": "code",
   "execution_count": 98,
   "id": "cdc5c921",
   "metadata": {},
   "outputs": [
    {
     "data": {
      "image/png": "[encoded data removed]",
      "text/plain": [
       "<Figure size 1152x576 with 1 Axes>"
      ]
     },
     "metadata": {
      "needs_background": "light"
     },
     "output_type": "display_data"
    }
   ],
   "source": [
    "get_roc_curve(model,test_data,plot=True);"
   ]
  },
  {
   "cell_type": "markdown",
   "id": "b7f821a5",
   "metadata": {},
   "source": [
    "# AUC"
   ]
  },
  {
   "cell_type": "code",
   "execution_count": 99,
   "id": "fa9b362a",
   "metadata": {},
   "outputs": [],
   "source": [
    "from sklearn.metrics import roc_auc_score"
   ]
  },
  {
   "cell_type": "code",
   "execution_count": 100,
   "id": "61276119",
   "metadata": {},
   "outputs": [
    {
     "data": {
      "text/plain": [
       "0.8703063618317854"
      ]
     },
     "execution_count": 100,
     "metadata": {},
     "output_type": "execute_result"
    }
   ],
   "source": [
    "roc_auc_score(test['Exited'],test['score_catboost'])"
   ]
  },
  {
   "cell_type": "code",
   "execution_count": 101,
   "id": "d077af7b",
   "metadata": {},
   "outputs": [],
   "source": [
    "params = {'verbose':100,\n",
    "          'eval_metric':'AUC',\n",
    "          'random_seed':42,\n",
    "          'learning_rate':0.01}"
   ]
  },
  {
   "cell_type": "code",
   "execution_count": 102,
   "id": "ec0d47f2",
   "metadata": {},
   "outputs": [],
   "source": [
    "model = CatBoostClassifier(**params)"
   ]
  },
  {
   "cell_type": "code",
   "execution_count": 103,
   "id": "4df0edd8",
   "metadata": {},
   "outputs": [
    {
     "name": "stdout",
     "output_type": "stream",
     "text": [
      "0:\ttest: 0.8338545\tbest: 0.8338545 (0)\ttotal: 45.8ms\tremaining: 45.8s\n",
      "100:\ttest: 0.8725090\tbest: 0.8725090 (100)\ttotal: 4.28s\tremaining: 38.1s\n",
      "200:\ttest: 0.8784656\tbest: 0.8784656 (200)\ttotal: 8.91s\tremaining: 35.4s\n",
      "300:\ttest: 0.8812676\tbest: 0.8812676 (300)\ttotal: 13.6s\tremaining: 31.7s\n",
      "400:\ttest: 0.8823868\tbest: 0.8824376 (390)\ttotal: 18.4s\tremaining: 27.4s\n",
      "500:\ttest: 0.8834491\tbest: 0.8834522 (498)\ttotal: 23.1s\tremaining: 23s\n",
      "600:\ttest: 0.8834737\tbest: 0.8836554 (564)\ttotal: 27.7s\tremaining: 18.4s\n",
      "700:\ttest: 0.8837847\tbest: 0.8838694 (685)\ttotal: 32.4s\tremaining: 13.8s\n",
      "800:\ttest: 0.8834383\tbest: 0.8838694 (685)\ttotal: 37s\tremaining: 9.19s\n",
      "900:\ttest: 0.8829318\tbest: 0.8838694 (685)\ttotal: 41.6s\tremaining: 4.58s\n",
      "999:\ttest: 0.8822744\tbest: 0.8838694 (685)\ttotal: 46.4s\tremaining: 0us\n",
      "\n",
      "bestTest = 0.8838694083\n",
      "bestIteration = 685\n",
      "\n",
      "Shrink model to first 686 iterations.\n"
     ]
    },
    {
     "data": {
      "text/plain": [
       "<catboost.core.CatBoostClassifier at 0x1e3749dd760>"
      ]
     },
     "execution_count": 103,
     "metadata": {},
     "output_type": "execute_result"
    }
   ],
   "source": [
    "model.fit(train_data,eval_set=valid_data)"
   ]
  },
  {
   "cell_type": "markdown",
   "id": "402fd850",
   "metadata": {},
   "source": [
    "# ROC AUC при сильно несбалансированных классах"
   ]
  },
  {
   "cell_type": "code",
   "execution_count": 104,
   "id": "c20ce2f7",
   "metadata": {},
   "outputs": [],
   "source": [
    "t = pd.DataFrame({'y_true':[0]*990 + [1]*10})"
   ]
  },
  {
   "cell_type": "code",
   "execution_count": 105,
   "id": "417afe7b",
   "metadata": {},
   "outputs": [
    {
     "data": {
      "text/plain": [
       "0.01"
      ]
     },
     "execution_count": 105,
     "metadata": {},
     "output_type": "execute_result"
    }
   ],
   "source": [
    "t['y_true'].mean()"
   ]
  },
  {
   "cell_type": "code",
   "execution_count": 106,
   "id": "968bf11d",
   "metadata": {},
   "outputs": [],
   "source": [
    "import numpy as np"
   ]
  },
  {
   "cell_type": "code",
   "execution_count": 107,
   "id": "428d85fb",
   "metadata": {},
   "outputs": [
    {
     "data": {
      "text/plain": [
       "0.03854831443424907"
      ]
     },
     "execution_count": 107,
     "metadata": {},
     "output_type": "execute_result"
    }
   ],
   "source": [
    "np.random.uniform(0,0.2)"
   ]
  },
  {
   "cell_type": "code",
   "execution_count": 108,
   "id": "7d75b6f5",
   "metadata": {},
   "outputs": [
    {
     "data": {
      "text/plain": [
       "0.9000091765212654"
      ]
     },
     "execution_count": 108,
     "metadata": {},
     "output_type": "execute_result"
    }
   ],
   "source": [
    "np.random.uniform(0.8,1)"
   ]
  },
  {
   "cell_type": "code",
   "execution_count": 109,
   "id": "e961befd",
   "metadata": {},
   "outputs": [
    {
     "data": {
      "text/plain": [
       "array([0.17947807, 0.18901214, 0.81610965, 0.83378124, 0.99500185])"
      ]
     },
     "execution_count": 109,
     "metadata": {},
     "output_type": "execute_result"
    }
   ],
   "source": [
    "np.concatenate([np.random.uniform(0,0.2,size=2),np.random.uniform(0.8,1,size=3)])"
   ]
  },
  {
   "cell_type": "code",
   "execution_count": 110,
   "id": "f1b05854",
   "metadata": {},
   "outputs": [],
   "source": [
    "t = pd.DataFrame({'y_true':[0]*990 + [1]*10})"
   ]
  },
  {
   "cell_type": "code",
   "execution_count": 111,
   "id": "47f87655",
   "metadata": {},
   "outputs": [],
   "source": [
    "np.random.seed(42)\n",
    "t['y_score1'] = np.concatenate([np.random.uniform(0,0.2,size=970), # TN\n",
    "                                np.random.uniform(0.8,1,size=20), # FP\n",
    "                                np.random.uniform(0,0.2,size=5), # FN\n",
    "                                np.random.uniform(0.8,1,size=5)]) # TP"
   ]
  },
  {
   "cell_type": "code",
   "execution_count": 112,
   "id": "403f559e",
   "metadata": {},
   "outputs": [
    {
     "data": {
      "text/plain": [
       "0.7664646464646465"
      ]
     },
     "execution_count": 112,
     "metadata": {},
     "output_type": "execute_result"
    }
   ],
   "source": [
    "roc_auc_score(t['y_true'],t['y_score1'])"
   ]
  },
  {
   "cell_type": "code",
   "execution_count": 113,
   "id": "24027750",
   "metadata": {},
   "outputs": [],
   "source": [
    "np.random.seed(42)\n",
    "t['y_score2'] = np.concatenate([np.random.uniform(0,0.2,size=850), # TN\n",
    "                                np.random.uniform(0.8,1,size=140), # FP\n",
    "                                np.random.uniform(0,0.2,size=2), # FN\n",
    "                                np.random.uniform(0.8,1,size=8)]) # TP"
   ]
  },
  {
   "cell_type": "code",
   "execution_count": 114,
   "id": "af88b7a8",
   "metadata": {},
   "outputs": [
    {
     "data": {
      "text/plain": [
       "0.873939393939394"
      ]
     },
     "execution_count": 114,
     "metadata": {},
     "output_type": "execute_result"
    }
   ],
   "source": [
    "roc_auc_score(t['y_true'],t['y_score2'])"
   ]
  },
  {
   "cell_type": "markdown",
   "id": "67555f9d",
   "metadata": {},
   "source": [
    "# Precision recall curve"
   ]
  },
  {
   "cell_type": "code",
   "execution_count": 115,
   "id": "612abbf9",
   "metadata": {},
   "outputs": [
    {
     "data": {
      "image/png": "[encoded data removed]",
      "text/plain": [
       "<Figure size 432x288 with 1 Axes>"
      ]
     },
     "metadata": {
      "needs_background": "light"
     },
     "output_type": "display_data"
    }
   ],
   "source": [
    "from sklearn.datasets import make_classification\n",
    "from sklearn.linear_model import LogisticRegression\n",
    "from sklearn.model_selection import train_test_split\n",
    "from sklearn.metrics import precision_recall_curve\n",
    "from sklearn.metrics import f1_score\n",
    "from sklearn.metrics import auc\n",
    "from matplotlib import pyplot\n",
    "\n",
    "precision1, recall1, _ = precision_recall_curve(t['y_true'], t['y_score1'])\n",
    "precision2, recall2, _ = precision_recall_curve(t['y_true'], t['y_score2'])\n",
    "\n",
    "\n",
    "# plot the precision-recall curves\n",
    "pyplot.plot(recall1, precision1, marker='.', label='score1')\n",
    "pyplot.plot(recall2, precision2, marker='.', label='score2')\n",
    "# axis labels\n",
    "pyplot.xlabel('Recall')\n",
    "pyplot.ylabel('Precision')\n",
    "# show the legend\n",
    "pyplot.legend()\n",
    "# show the plot\n",
    "pyplot.show()"
   ]
  },
  {
   "cell_type": "code",
   "execution_count": 125,
   "id": "42e44a69",
   "metadata": {},
   "outputs": [],
   "source": [
    "from sklearn.metrics import average_precision_score"
   ]
  },
  {
   "cell_type": "code",
   "execution_count": 126,
   "id": "ce470125",
   "metadata": {},
   "outputs": [
    {
     "data": {
      "text/plain": [
       "0.24047423356816472"
      ]
     },
     "execution_count": 126,
     "metadata": {},
     "output_type": "execute_result"
    }
   ],
   "source": [
    "average_precision_score(t['y_true'],t['y_score1'])"
   ]
  },
  {
   "cell_type": "code",
   "execution_count": 127,
   "id": "30a9af04",
   "metadata": {},
   "outputs": [
    {
     "data": {
      "text/plain": [
       "0.12387717860283662"
      ]
     },
     "execution_count": 127,
     "metadata": {},
     "output_type": "execute_result"
    }
   ],
   "source": [
    "average_precision_score(t['y_true'],t['y_score2'])"
   ]
  },
  {
   "cell_type": "markdown",
   "id": "a5eb908a",
   "metadata": {},
   "source": [
    "## Сравним человеческое и машинное обучение"
   ]
  },
  {
   "cell_type": "code",
   "execution_count": 119,
   "id": "184fed21",
   "metadata": {},
   "outputs": [
    {
     "data": {
      "image/png": "[encoded data removed]",
      "text/plain": [
       "<Figure size 432x288 with 1 Axes>"
      ]
     },
     "metadata": {
      "needs_background": "light"
     },
     "output_type": "display_data"
    }
   ],
   "source": [
    "fpr1, tpr1, _ = roc_curve(test['Exited'], test['score_prod_age'])\n",
    "fpr2, tpr2, _ = roc_curve(test['Exited'], test['score_catboost'])\n",
    "\n",
    "\n",
    "# plot the precision-recall curves\n",
    "pyplot.plot(fpr1, tpr1, label='human')\n",
    "pyplot.plot(fpr2, tpr2, label='machine')\n",
    "# axis labels\n",
    "pyplot.xlabel('FPR')\n",
    "pyplot.ylabel('TPR')\n",
    "# show the legend\n",
    "pyplot.legend()\n",
    "# show the plot\n",
    "pyplot.show()"
   ]
  },
  {
   "cell_type": "code",
   "execution_count": 120,
   "id": "b278c23b",
   "metadata": {},
   "outputs": [
    {
     "data": {
      "text/plain": [
       "0.8115241589817861"
      ]
     },
     "execution_count": 120,
     "metadata": {},
     "output_type": "execute_result"
    }
   ],
   "source": [
    "roc_auc_score(test['Exited'], test['score_prod_age'])"
   ]
  },
  {
   "cell_type": "code",
   "execution_count": 121,
   "id": "7848bcf5",
   "metadata": {},
   "outputs": [
    {
     "data": {
      "text/plain": [
       "0.8703063618317854"
      ]
     },
     "execution_count": 121,
     "metadata": {},
     "output_type": "execute_result"
    }
   ],
   "source": [
    "roc_auc_score(test['Exited'], test['score_catboost'])"
   ]
  },
  {
   "cell_type": "code",
   "execution_count": 122,
   "id": "bad8f537",
   "metadata": {},
   "outputs": [
    {
     "data": {
      "image/png": "[encoded data removed]",
      "text/plain": [
       "<Figure size 432x288 with 1 Axes>"
      ]
     },
     "metadata": {
      "needs_background": "light"
     },
     "output_type": "display_data"
    }
   ],
   "source": [
    "precision1, recall1, _ = precision_recall_curve(test['Exited'], test['score_prod_age'])\n",
    "precision2, recall2, _ = precision_recall_curve(test['Exited'], test['score_catboost'])\n",
    "\n",
    "\n",
    "# plot the precision-recall curves\n",
    "pyplot.plot(recall1, precision1, label='human')\n",
    "pyplot.plot(recall2, precision2, label='machine')\n",
    "# axis labels\n",
    "pyplot.xlabel('Recall')\n",
    "pyplot.ylabel('Precision')\n",
    "# show the legend\n",
    "pyplot.legend()\n",
    "# show the plot\n",
    "pyplot.show()"
   ]
  },
  {
   "cell_type": "code",
   "execution_count": 130,
   "id": "c7fde100",
   "metadata": {},
   "outputs": [
    {
     "data": {
      "text/plain": [
       "0.539602947873155"
      ]
     },
     "execution_count": 130,
     "metadata": {},
     "output_type": "execute_result"
    }
   ],
   "source": [
    "average_precision_score(test['Exited'], test['score_prod_age'])"
   ]
  },
  {
   "cell_type": "code",
   "execution_count": 131,
   "id": "803e5343",
   "metadata": {},
   "outputs": [
    {
     "data": {
      "text/plain": [
       "0.7138074084585948"
      ]
     },
     "execution_count": 131,
     "metadata": {},
     "output_type": "execute_result"
    }
   ],
   "source": [
    "average_precision_score(test['Exited'], test['score_catboost'])"
   ]
  },
  {
   "cell_type": "markdown",
   "id": "98af0955",
   "metadata": {},
   "source": [
    "# Дисбаланс классов не проблема"
   ]
  },
  {
   "cell_type": "code",
   "execution_count": 132,
   "id": "1d284d3e",
   "metadata": {},
   "outputs": [
    {
     "data": {
      "text/plain": [
       "0.2035"
      ]
     },
     "execution_count": 132,
     "metadata": {},
     "output_type": "execute_result"
    }
   ],
   "source": [
    "test['Exited'].mean()"
   ]
  },
  {
   "cell_type": "code",
   "execution_count": 133,
   "id": "adb25862",
   "metadata": {},
   "outputs": [],
   "source": [
    "params = {'verbose':100,\n",
    "          'eval_metric':'AUC',\n",
    "          'auto_class_weights':'Balanced',\n",
    "          'random_seed':42,\n",
    "          'learning_rate':0.01}"
   ]
  },
  {
   "cell_type": "code",
   "execution_count": 134,
   "id": "c506bf30",
   "metadata": {},
   "outputs": [],
   "source": [
    "model = CatBoostClassifier(**params)"
   ]
  },
  {
   "cell_type": "code",
   "execution_count": 135,
   "id": "d57f249e",
   "metadata": {},
   "outputs": [
    {
     "name": "stdout",
     "output_type": "stream",
     "text": [
      "0:\ttest: 0.8310171\tbest: 0.8310171 (0)\ttotal: 43.9ms\tremaining: 43.9s\n",
      "100:\ttest: 0.8726691\tbest: 0.8727215 (99)\ttotal: 4.76s\tremaining: 42.4s\n",
      "200:\ttest: 0.8780837\tbest: 0.8781684 (199)\ttotal: 9.07s\tremaining: 36.1s\n",
      "300:\ttest: 0.8805532\tbest: 0.8806579 (293)\ttotal: 13.7s\tremaining: 31.9s\n",
      "400:\ttest: 0.8818510\tbest: 0.8818649 (397)\ttotal: 17.3s\tremaining: 25.8s\n",
      "500:\ttest: 0.8821682\tbest: 0.8822452 (481)\ttotal: 20.5s\tremaining: 20.4s\n",
      "600:\ttest: 0.8824284\tbest: 0.8826070 (561)\ttotal: 23.7s\tremaining: 15.7s\n",
      "700:\ttest: 0.8823145\tbest: 0.8826070 (561)\ttotal: 26.8s\tremaining: 11.4s\n",
      "800:\ttest: 0.8819619\tbest: 0.8826070 (561)\ttotal: 30.1s\tremaining: 7.48s\n",
      "900:\ttest: 0.8814015\tbest: 0.8826070 (561)\ttotal: 33.2s\tremaining: 3.65s\n",
      "999:\ttest: 0.8803392\tbest: 0.8826070 (561)\ttotal: 36.6s\tremaining: 0us\n",
      "\n",
      "bestTest = 0.8826069687\n",
      "bestIteration = 561\n",
      "\n",
      "Shrink model to first 562 iterations.\n"
     ]
    },
    {
     "data": {
      "text/plain": [
       "<catboost.core.CatBoostClassifier at 0x1e37f4f85b0>"
      ]
     },
     "execution_count": 135,
     "metadata": {},
     "output_type": "execute_result"
    }
   ],
   "source": [
    "model.fit(train_data,eval_set=valid_data)"
   ]
  },
  {
   "cell_type": "code",
   "execution_count": 136,
   "id": "dd4a5bb7",
   "metadata": {},
   "outputs": [
    {
     "data": {
      "text/plain": [
       "<AxesSubplot:>"
      ]
     },
     "execution_count": 136,
     "metadata": {},
     "output_type": "execute_result"
    },
    {
     "data": {
      "image/png": "[encoded data removed]",
      "text/plain": [
       "<Figure size 432x288 with 1 Axes>"
      ]
     },
     "metadata": {
      "needs_background": "light"
     },
     "output_type": "display_data"
    }
   ],
   "source": [
    "test['score_catboost'].hist()"
   ]
  },
  {
   "cell_type": "code",
   "execution_count": 137,
   "id": "c9fe1ef2",
   "metadata": {},
   "outputs": [
    {
     "data": {
      "text/plain": [
       "<AxesSubplot:>"
      ]
     },
     "execution_count": 137,
     "metadata": {},
     "output_type": "execute_result"
    },
    {
     "data": {
      "image/png": "[encoded data removed]",
      "text/plain": [
       "<Figure size 432x288 with 1 Axes>"
      ]
     },
     "metadata": {
      "needs_background": "light"
     },
     "output_type": "display_data"
    }
   ],
   "source": [
    "pd.Series(model.predict_proba(test[X])[:,1]).hist()"
   ]
  },
  {
   "cell_type": "code",
   "execution_count": 138,
   "id": "7afc9156",
   "metadata": {},
   "outputs": [],
   "source": [
    "test['score_cat_non_balanced_bins'] = pd.cut(test['score_catboost'],10)"
   ]
  },
  {
   "cell_type": "code",
   "execution_count": 139,
   "id": "cb96a384",
   "metadata": {},
   "outputs": [
    {
     "data": {
      "text/html": [
       "<div>\n",
       "<style scoped>\n",
       "    .dataframe tbody tr th:only-of-type {\n",
       "        vertical-align: middle;\n",
       "    }\n",
       "\n",
       "    .dataframe tbody tr th {\n",
       "        vertical-align: top;\n",
       "    }\n",
       "\n",
       "    .dataframe thead th {\n",
       "        text-align: right;\n",
       "    }\n",
       "</style>\n",
       "<table border=\"1\" class=\"dataframe\">\n",
       "  <thead>\n",
       "    <tr style=\"text-align: right;\">\n",
       "      <th></th>\n",
       "      <th>count</th>\n",
       "      <th>mean</th>\n",
       "    </tr>\n",
       "    <tr>\n",
       "      <th>score_cat_non_balanced_bins</th>\n",
       "      <th></th>\n",
       "      <th></th>\n",
       "    </tr>\n",
       "  </thead>\n",
       "  <tbody>\n",
       "    <tr>\n",
       "      <th>(0.00838, 0.108]</th>\n",
       "      <td>1032</td>\n",
       "      <td>0.043605</td>\n",
       "    </tr>\n",
       "    <tr>\n",
       "      <th>(0.108, 0.207]</th>\n",
       "      <td>343</td>\n",
       "      <td>0.142857</td>\n",
       "    </tr>\n",
       "    <tr>\n",
       "      <th>(0.207, 0.306]</th>\n",
       "      <td>184</td>\n",
       "      <td>0.260870</td>\n",
       "    </tr>\n",
       "    <tr>\n",
       "      <th>(0.306, 0.405]</th>\n",
       "      <td>128</td>\n",
       "      <td>0.359375</td>\n",
       "    </tr>\n",
       "    <tr>\n",
       "      <th>(0.405, 0.503]</th>\n",
       "      <td>69</td>\n",
       "      <td>0.434783</td>\n",
       "    </tr>\n",
       "    <tr>\n",
       "      <th>(0.503, 0.602]</th>\n",
       "      <td>49</td>\n",
       "      <td>0.530612</td>\n",
       "    </tr>\n",
       "    <tr>\n",
       "      <th>(0.602, 0.701]</th>\n",
       "      <td>42</td>\n",
       "      <td>0.595238</td>\n",
       "    </tr>\n",
       "    <tr>\n",
       "      <th>(0.701, 0.8]</th>\n",
       "      <td>59</td>\n",
       "      <td>0.830508</td>\n",
       "    </tr>\n",
       "    <tr>\n",
       "      <th>(0.8, 0.899]</th>\n",
       "      <td>45</td>\n",
       "      <td>0.911111</td>\n",
       "    </tr>\n",
       "    <tr>\n",
       "      <th>(0.899, 0.997]</th>\n",
       "      <td>49</td>\n",
       "      <td>0.979592</td>\n",
       "    </tr>\n",
       "  </tbody>\n",
       "</table>\n",
       "</div>"
      ],
      "text/plain": [
       "                             count      mean\n",
       "score_cat_non_balanced_bins                 \n",
       "(0.00838, 0.108]              1032  0.043605\n",
       "(0.108, 0.207]                 343  0.142857\n",
       "(0.207, 0.306]                 184  0.260870\n",
       "(0.306, 0.405]                 128  0.359375\n",
       "(0.405, 0.503]                  69  0.434783\n",
       "(0.503, 0.602]                  49  0.530612\n",
       "(0.602, 0.701]                  42  0.595238\n",
       "(0.701, 0.8]                    59  0.830508\n",
       "(0.8, 0.899]                    45  0.911111\n",
       "(0.899, 0.997]                  49  0.979592"
      ]
     },
     "execution_count": 139,
     "metadata": {},
     "output_type": "execute_result"
    }
   ],
   "source": [
    "test.groupby('score_cat_non_balanced_bins')['Exited'].agg(['count','mean'])"
   ]
  },
  {
   "cell_type": "code",
   "execution_count": 140,
   "id": "9c3ddf4a",
   "metadata": {},
   "outputs": [],
   "source": [
    "test['score_catboost_balanced'] = model.predict_proba(test[X])[:,1]"
   ]
  },
  {
   "cell_type": "code",
   "execution_count": 141,
   "id": "257b5334",
   "metadata": {},
   "outputs": [],
   "source": [
    "test['score_cat_balanced_bins'] = pd.cut(test['score_catboost_balanced'],10)"
   ]
  },
  {
   "cell_type": "code",
   "execution_count": 142,
   "id": "8ca2bba8",
   "metadata": {},
   "outputs": [
    {
     "data": {
      "text/html": [
       "<div>\n",
       "<style scoped>\n",
       "    .dataframe tbody tr th:only-of-type {\n",
       "        vertical-align: middle;\n",
       "    }\n",
       "\n",
       "    .dataframe tbody tr th {\n",
       "        vertical-align: top;\n",
       "    }\n",
       "\n",
       "    .dataframe thead th {\n",
       "        text-align: right;\n",
       "    }\n",
       "</style>\n",
       "<table border=\"1\" class=\"dataframe\">\n",
       "  <thead>\n",
       "    <tr style=\"text-align: right;\">\n",
       "      <th></th>\n",
       "      <th>count</th>\n",
       "      <th>mean</th>\n",
       "    </tr>\n",
       "    <tr>\n",
       "      <th>score_cat_balanced_bins</th>\n",
       "      <th></th>\n",
       "      <th></th>\n",
       "    </tr>\n",
       "  </thead>\n",
       "  <tbody>\n",
       "    <tr>\n",
       "      <th>(0.0404, 0.137]</th>\n",
       "      <td>340</td>\n",
       "      <td>0.011765</td>\n",
       "    </tr>\n",
       "    <tr>\n",
       "      <th>(0.137, 0.232]</th>\n",
       "      <td>387</td>\n",
       "      <td>0.036176</td>\n",
       "    </tr>\n",
       "    <tr>\n",
       "      <th>(0.232, 0.328]</th>\n",
       "      <td>327</td>\n",
       "      <td>0.082569</td>\n",
       "    </tr>\n",
       "    <tr>\n",
       "      <th>(0.328, 0.423]</th>\n",
       "      <td>187</td>\n",
       "      <td>0.139037</td>\n",
       "    </tr>\n",
       "    <tr>\n",
       "      <th>(0.423, 0.518]</th>\n",
       "      <td>190</td>\n",
       "      <td>0.210526</td>\n",
       "    </tr>\n",
       "    <tr>\n",
       "      <th>(0.518, 0.614]</th>\n",
       "      <td>146</td>\n",
       "      <td>0.191781</td>\n",
       "    </tr>\n",
       "    <tr>\n",
       "      <th>(0.614, 0.709]</th>\n",
       "      <td>125</td>\n",
       "      <td>0.464000</td>\n",
       "    </tr>\n",
       "    <tr>\n",
       "      <th>(0.709, 0.805]</th>\n",
       "      <td>85</td>\n",
       "      <td>0.447059</td>\n",
       "    </tr>\n",
       "    <tr>\n",
       "      <th>(0.805, 0.9]</th>\n",
       "      <td>97</td>\n",
       "      <td>0.670103</td>\n",
       "    </tr>\n",
       "    <tr>\n",
       "      <th>(0.9, 0.995]</th>\n",
       "      <td>116</td>\n",
       "      <td>0.922414</td>\n",
       "    </tr>\n",
       "  </tbody>\n",
       "</table>\n",
       "</div>"
      ],
      "text/plain": [
       "                         count      mean\n",
       "score_cat_balanced_bins                 \n",
       "(0.0404, 0.137]            340  0.011765\n",
       "(0.137, 0.232]             387  0.036176\n",
       "(0.232, 0.328]             327  0.082569\n",
       "(0.328, 0.423]             187  0.139037\n",
       "(0.423, 0.518]             190  0.210526\n",
       "(0.518, 0.614]             146  0.191781\n",
       "(0.614, 0.709]             125  0.464000\n",
       "(0.709, 0.805]              85  0.447059\n",
       "(0.805, 0.9]                97  0.670103\n",
       "(0.9, 0.995]               116  0.922414"
      ]
     },
     "execution_count": 142,
     "metadata": {},
     "output_type": "execute_result"
    }
   ],
   "source": [
    "test.groupby('score_cat_balanced_bins')['Exited'].agg(['count','mean'])"
   ]
  },
  {
   "cell_type": "markdown",
   "id": "a8dab978",
   "metadata": {},
   "source": [
    "https://towardsdatascience.com/comprehensive-guide-on-multiclass-classification-metrics-af94cfb83fbd\n",
    "\n",
    "https://towardsdatascience.com/multiclass-classification-evaluation-with-roc-curves-and-roc-auc-294fd4617e3a\n",
    "\n",
    "https://github.com/catboost/tutorials/blob/master/classification/classification_tutorial.ipynb"
   ]
  },
  {
   "cell_type": "code",
   "execution_count": null,
   "id": "9af8d717",
   "metadata": {},
   "outputs": [],
   "source": []
  }
 ],
 "metadata": {
  "kernelspec": {
   "display_name": "Python 3 (ipykernel)",
   "language": "python",
   "name": "python3"
  },
  "language_info": {
   "codemirror_mode": {
    "name": "ipython",
    "version": 3
   },
   "file_extension": ".py",
   "mimetype": "text/x-python",
   "name": "python",
   "nbconvert_exporter": "python",
   "pygments_lexer": "ipython3",
   "version": "3.9.12"
  }
 },
 "nbformat": 4,
 "nbformat_minor": 5
}
