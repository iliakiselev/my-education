{
 "cells": [
  {
   "cell_type": "code",
   "execution_count": 1,
   "id": "23221a22",
   "metadata": {},
   "outputs": [],
   "source": [
    "import pandas as pd"
   ]
  },
  {
   "cell_type": "code",
   "execution_count": 2,
   "id": "b9050224",
   "metadata": {},
   "outputs": [],
   "source": [
    "df = pd.read_csv(r'C:/Work/DataFrames/100000_UK_used_car/bmw.csv')"
   ]
  },
  {
   "cell_type": "code",
   "execution_count": 3,
   "id": "fb8606a3",
   "metadata": {},
   "outputs": [
    {
     "data": {
      "text/html": [
       "<div>\n",
       "<style scoped>\n",
       "    .dataframe tbody tr th:only-of-type {\n",
       "        vertical-align: middle;\n",
       "    }\n",
       "\n",
       "    .dataframe tbody tr th {\n",
       "        vertical-align: top;\n",
       "    }\n",
       "\n",
       "    .dataframe thead th {\n",
       "        text-align: right;\n",
       "    }\n",
       "</style>\n",
       "<table border=\"1\" class=\"dataframe\">\n",
       "  <thead>\n",
       "    <tr style=\"text-align: right;\">\n",
       "      <th></th>\n",
       "      <th>model</th>\n",
       "      <th>year</th>\n",
       "      <th>price</th>\n",
       "      <th>transmission</th>\n",
       "      <th>mileage</th>\n",
       "      <th>fuelType</th>\n",
       "      <th>tax</th>\n",
       "      <th>mpg</th>\n",
       "      <th>engineSize</th>\n",
       "    </tr>\n",
       "  </thead>\n",
       "  <tbody>\n",
       "    <tr>\n",
       "      <th>0</th>\n",
       "      <td>5 Series</td>\n",
       "      <td>2014</td>\n",
       "      <td>11200</td>\n",
       "      <td>Automatic</td>\n",
       "      <td>67068</td>\n",
       "      <td>Diesel</td>\n",
       "      <td>125</td>\n",
       "      <td>57.6</td>\n",
       "      <td>2.0</td>\n",
       "    </tr>\n",
       "    <tr>\n",
       "      <th>1</th>\n",
       "      <td>6 Series</td>\n",
       "      <td>2018</td>\n",
       "      <td>27000</td>\n",
       "      <td>Automatic</td>\n",
       "      <td>14827</td>\n",
       "      <td>Petrol</td>\n",
       "      <td>145</td>\n",
       "      <td>42.8</td>\n",
       "      <td>2.0</td>\n",
       "    </tr>\n",
       "    <tr>\n",
       "      <th>2</th>\n",
       "      <td>5 Series</td>\n",
       "      <td>2016</td>\n",
       "      <td>16000</td>\n",
       "      <td>Automatic</td>\n",
       "      <td>62794</td>\n",
       "      <td>Diesel</td>\n",
       "      <td>160</td>\n",
       "      <td>51.4</td>\n",
       "      <td>3.0</td>\n",
       "    </tr>\n",
       "    <tr>\n",
       "      <th>3</th>\n",
       "      <td>1 Series</td>\n",
       "      <td>2017</td>\n",
       "      <td>12750</td>\n",
       "      <td>Automatic</td>\n",
       "      <td>26676</td>\n",
       "      <td>Diesel</td>\n",
       "      <td>145</td>\n",
       "      <td>72.4</td>\n",
       "      <td>1.5</td>\n",
       "    </tr>\n",
       "    <tr>\n",
       "      <th>4</th>\n",
       "      <td>7 Series</td>\n",
       "      <td>2014</td>\n",
       "      <td>14500</td>\n",
       "      <td>Automatic</td>\n",
       "      <td>39554</td>\n",
       "      <td>Diesel</td>\n",
       "      <td>160</td>\n",
       "      <td>50.4</td>\n",
       "      <td>3.0</td>\n",
       "    </tr>\n",
       "  </tbody>\n",
       "</table>\n",
       "</div>"
      ],
      "text/plain": [
       "       model  year  price transmission  mileage fuelType  tax   mpg  \\\n",
       "0   5 Series  2014  11200    Automatic    67068   Diesel  125  57.6   \n",
       "1   6 Series  2018  27000    Automatic    14827   Petrol  145  42.8   \n",
       "2   5 Series  2016  16000    Automatic    62794   Diesel  160  51.4   \n",
       "3   1 Series  2017  12750    Automatic    26676   Diesel  145  72.4   \n",
       "4   7 Series  2014  14500    Automatic    39554   Diesel  160  50.4   \n",
       "\n",
       "   engineSize  \n",
       "0         2.0  \n",
       "1         2.0  \n",
       "2         3.0  \n",
       "3         1.5  \n",
       "4         3.0  "
      ]
     },
     "execution_count": 3,
     "metadata": {},
     "output_type": "execute_result"
    }
   ],
   "source": [
    "df.head()"
   ]
  },
  {
   "cell_type": "code",
   "execution_count": 4,
   "id": "90f625af",
   "metadata": {},
   "outputs": [],
   "source": [
    "from sklearn.model_selection import train_test_split"
   ]
  },
  {
   "cell_type": "markdown",
   "id": "4f45a8e4",
   "metadata": {},
   "source": [
    "### Тестовая и тренировачная выборки"
   ]
  },
  {
   "cell_type": "code",
   "execution_count": 5,
   "id": "7f4460eb",
   "metadata": {},
   "outputs": [],
   "source": [
    "train, test = train_test_split(df,train_size=0.6,random_state=42)"
   ]
  },
  {
   "cell_type": "code",
   "execution_count": 6,
   "id": "59ba9d8c",
   "metadata": {
    "scrolled": true
   },
   "outputs": [
    {
     "data": {
      "text/plain": [
       "0.5999443465355718"
      ]
     },
     "execution_count": 6,
     "metadata": {},
     "output_type": "execute_result"
    }
   ],
   "source": [
    "len(train) / len(df)"
   ]
  },
  {
   "cell_type": "code",
   "execution_count": 7,
   "id": "399113f7",
   "metadata": {},
   "outputs": [
    {
     "data": {
      "text/plain": [
       "0.4000556534644282"
      ]
     },
     "execution_count": 7,
     "metadata": {},
     "output_type": "execute_result"
    }
   ],
   "source": [
    "len(test) / len(df)"
   ]
  },
  {
   "cell_type": "markdown",
   "id": "dc8210dc",
   "metadata": {},
   "source": [
    "### Валидационная выборка"
   ]
  },
  {
   "cell_type": "code",
   "execution_count": 8,
   "id": "873790c4",
   "metadata": {},
   "outputs": [],
   "source": [
    "val, test = train_test_split(test,train_size=0.5,random_state=42)"
   ]
  },
  {
   "cell_type": "code",
   "execution_count": 9,
   "id": "906f157d",
   "metadata": {},
   "outputs": [
    {
     "data": {
      "text/plain": [
       "0.20007420461923756"
      ]
     },
     "execution_count": 9,
     "metadata": {},
     "output_type": "execute_result"
    }
   ],
   "source": [
    "len(test) / len(df)"
   ]
  },
  {
   "cell_type": "code",
   "execution_count": 10,
   "id": "375d5c0f",
   "metadata": {},
   "outputs": [
    {
     "data": {
      "text/plain": [
       "0.19998144884519062"
      ]
     },
     "execution_count": 10,
     "metadata": {},
     "output_type": "execute_result"
    }
   ],
   "source": [
    "len(val) / len(df)"
   ]
  },
  {
   "cell_type": "code",
   "execution_count": 11,
   "id": "98cba2e9",
   "metadata": {},
   "outputs": [
    {
     "data": {
      "text/plain": [
       "0.5999443465355718"
      ]
     },
     "execution_count": 11,
     "metadata": {},
     "output_type": "execute_result"
    }
   ],
   "source": [
    "len(train) / len(df)"
   ]
  },
  {
   "cell_type": "markdown",
   "id": "47dd0c4c",
   "metadata": {},
   "source": [
    "### Список фичей"
   ]
  },
  {
   "cell_type": "code",
   "execution_count": 12,
   "id": "90850d45",
   "metadata": {},
   "outputs": [
    {
     "data": {
      "text/plain": [
       "Index(['model', 'year', 'price', 'transmission', 'mileage', 'fuelType', 'tax',\n",
       "       'mpg', 'engineSize'],\n",
       "      dtype='object')"
      ]
     },
     "execution_count": 12,
     "metadata": {},
     "output_type": "execute_result"
    }
   ],
   "source": [
    "train.columns"
   ]
  },
  {
   "cell_type": "code",
   "execution_count": 13,
   "id": "10278f05",
   "metadata": {},
   "outputs": [],
   "source": [
    "X = ['model', 'year', 'transmission', 'mileage', 'fuelType', 'tax', 'mpg', 'engineSize']\n",
    "\n",
    "y = ['price']\n",
    "\n",
    "cat_features = ['model', 'transmission', 'fuelType']    #указываем, что здесь текстовые фичи"
   ]
  },
  {
   "cell_type": "markdown",
   "id": "40d0f925",
   "metadata": {},
   "source": [
    "### Принцип преобразования категориальных фичей"
   ]
  },
  {
   "cell_type": "code",
   "execution_count": 14,
   "id": "fb6cad77",
   "metadata": {},
   "outputs": [
    {
     "data": {
      "text/plain": [
       "5133    Semi-Auto\n",
       "2121    Automatic\n",
       "6576    Semi-Auto\n",
       "8330       Manual\n",
       "3161    Semi-Auto\n",
       "          ...    \n",
       "5734    Semi-Auto\n",
       "5191    Semi-Auto\n",
       "5390    Semi-Auto\n",
       "860     Semi-Auto\n",
       "7270    Automatic\n",
       "Name: transmission, Length: 6468, dtype: object"
      ]
     },
     "execution_count": 14,
     "metadata": {},
     "output_type": "execute_result"
    }
   ],
   "source": [
    "train['transmission']"
   ]
  },
  {
   "cell_type": "code",
   "execution_count": 15,
   "id": "fc5eb989",
   "metadata": {},
   "outputs": [
    {
     "data": {
      "text/html": [
       "<div>\n",
       "<style scoped>\n",
       "    .dataframe tbody tr th:only-of-type {\n",
       "        vertical-align: middle;\n",
       "    }\n",
       "\n",
       "    .dataframe tbody tr th {\n",
       "        vertical-align: top;\n",
       "    }\n",
       "\n",
       "    .dataframe thead th {\n",
       "        text-align: right;\n",
       "    }\n",
       "</style>\n",
       "<table border=\"1\" class=\"dataframe\">\n",
       "  <thead>\n",
       "    <tr style=\"text-align: right;\">\n",
       "      <th></th>\n",
       "      <th>Automatic</th>\n",
       "      <th>Manual</th>\n",
       "      <th>Semi-Auto</th>\n",
       "    </tr>\n",
       "  </thead>\n",
       "  <tbody>\n",
       "    <tr>\n",
       "      <th>5133</th>\n",
       "      <td>0</td>\n",
       "      <td>0</td>\n",
       "      <td>1</td>\n",
       "    </tr>\n",
       "    <tr>\n",
       "      <th>2121</th>\n",
       "      <td>1</td>\n",
       "      <td>0</td>\n",
       "      <td>0</td>\n",
       "    </tr>\n",
       "    <tr>\n",
       "      <th>6576</th>\n",
       "      <td>0</td>\n",
       "      <td>0</td>\n",
       "      <td>1</td>\n",
       "    </tr>\n",
       "    <tr>\n",
       "      <th>8330</th>\n",
       "      <td>0</td>\n",
       "      <td>1</td>\n",
       "      <td>0</td>\n",
       "    </tr>\n",
       "    <tr>\n",
       "      <th>3161</th>\n",
       "      <td>0</td>\n",
       "      <td>0</td>\n",
       "      <td>1</td>\n",
       "    </tr>\n",
       "    <tr>\n",
       "      <th>...</th>\n",
       "      <td>...</td>\n",
       "      <td>...</td>\n",
       "      <td>...</td>\n",
       "    </tr>\n",
       "    <tr>\n",
       "      <th>5734</th>\n",
       "      <td>0</td>\n",
       "      <td>0</td>\n",
       "      <td>1</td>\n",
       "    </tr>\n",
       "    <tr>\n",
       "      <th>5191</th>\n",
       "      <td>0</td>\n",
       "      <td>0</td>\n",
       "      <td>1</td>\n",
       "    </tr>\n",
       "    <tr>\n",
       "      <th>5390</th>\n",
       "      <td>0</td>\n",
       "      <td>0</td>\n",
       "      <td>1</td>\n",
       "    </tr>\n",
       "    <tr>\n",
       "      <th>860</th>\n",
       "      <td>0</td>\n",
       "      <td>0</td>\n",
       "      <td>1</td>\n",
       "    </tr>\n",
       "    <tr>\n",
       "      <th>7270</th>\n",
       "      <td>1</td>\n",
       "      <td>0</td>\n",
       "      <td>0</td>\n",
       "    </tr>\n",
       "  </tbody>\n",
       "</table>\n",
       "<p>6468 rows × 3 columns</p>\n",
       "</div>"
      ],
      "text/plain": [
       "      Automatic  Manual  Semi-Auto\n",
       "5133          0       0          1\n",
       "2121          1       0          0\n",
       "6576          0       0          1\n",
       "8330          0       1          0\n",
       "3161          0       0          1\n",
       "...         ...     ...        ...\n",
       "5734          0       0          1\n",
       "5191          0       0          1\n",
       "5390          0       0          1\n",
       "860           0       0          1\n",
       "7270          1       0          0\n",
       "\n",
       "[6468 rows x 3 columns]"
      ]
     },
     "execution_count": 15,
     "metadata": {},
     "output_type": "execute_result"
    }
   ],
   "source": [
    "pd.get_dummies(train['transmission'])"
   ]
  },
  {
   "cell_type": "markdown",
   "id": "f3acc52e",
   "metadata": {},
   "source": [
    "https://catboost.ai/en/docs/concepts/algorithm-main-stages_cat-to-numberic"
   ]
  },
  {
   "cell_type": "markdown",
   "id": "63333734",
   "metadata": {},
   "source": [
    "## Первый запуск Кэтбуста"
   ]
  },
  {
   "cell_type": "code",
   "execution_count": 16,
   "id": "b1cad49e",
   "metadata": {},
   "outputs": [],
   "source": [
    "from catboost import CatBoostRegressor"
   ]
  },
  {
   "cell_type": "code",
   "execution_count": 18,
   "id": "08e0c2c9",
   "metadata": {},
   "outputs": [],
   "source": [
    "X = ['year', 'transmission', 'engineSize']\n",
    "\n",
    "y = ['price']\n",
    "\n",
    "cat_features = [ 'transmission']    #указываем, что здесь текстовые фичи"
   ]
  },
  {
   "cell_type": "code",
   "execution_count": 22,
   "id": "b435f28c",
   "metadata": {},
   "outputs": [],
   "source": [
    "model = CatBoostRegressor(cat_features=cat_features,\n",
    "                          eval_metric='MAPE',\n",
    "                          random_seed=42,\n",
    "                          verbose=100)"
   ]
  },
  {
   "cell_type": "code",
   "execution_count": 23,
   "id": "75f699a9",
   "metadata": {},
   "outputs": [
    {
     "name": "stdout",
     "output_type": "stream",
     "text": [
      "Learning rate set to 0.068263\n",
      "0:\tlearn: 0.4603375\ttest: 0.4555509\tbest: 0.4555509 (0)\ttotal: 39.7ms\tremaining: 39.7s\n",
      "100:\tlearn: 0.1546393\ttest: 0.1529687\tbest: 0.1529687 (100)\ttotal: 3.66s\tremaining: 32.6s\n",
      "200:\tlearn: 0.1528213\ttest: 0.1517332\tbest: 0.1517332 (200)\ttotal: 6.91s\tremaining: 27.5s\n",
      "300:\tlearn: 0.1517532\ttest: 0.1514386\tbest: 0.1514000 (288)\ttotal: 10.6s\tremaining: 24.7s\n",
      "400:\tlearn: 0.1509722\ttest: 0.1515508\tbest: 0.1514000 (288)\ttotal: 14.4s\tremaining: 21.5s\n",
      "500:\tlearn: 0.1502967\ttest: 0.1516166\tbest: 0.1514000 (288)\ttotal: 18.1s\tremaining: 18.1s\n",
      "600:\tlearn: 0.1499412\ttest: 0.1516849\tbest: 0.1514000 (288)\ttotal: 22.1s\tremaining: 14.6s\n",
      "700:\tlearn: 0.1494768\ttest: 0.1516928\tbest: 0.1514000 (288)\ttotal: 25.2s\tremaining: 10.8s\n",
      "800:\tlearn: 0.1490851\ttest: 0.1518297\tbest: 0.1514000 (288)\ttotal: 28s\tremaining: 6.95s\n",
      "900:\tlearn: 0.1487173\ttest: 0.1519119\tbest: 0.1514000 (288)\ttotal: 30.7s\tremaining: 3.37s\n",
      "999:\tlearn: 0.1483869\ttest: 0.1519628\tbest: 0.1514000 (288)\ttotal: 33.4s\tremaining: 0us\n",
      "\n",
      "bestTest = 0.1514000297\n",
      "bestIteration = 288\n",
      "\n",
      "Shrink model to first 289 iterations.\n"
     ]
    },
    {
     "data": {
      "text/plain": [
       "<catboost.core.CatBoostRegressor at 0x226f8a6e580>"
      ]
     },
     "execution_count": 23,
     "metadata": {},
     "output_type": "execute_result"
    }
   ],
   "source": [
    "model.fit(train[X],train[y], eval_set=(val[X],val[y]))"
   ]
  },
  {
   "cell_type": "code",
   "execution_count": 25,
   "id": "c4c41e2c",
   "metadata": {},
   "outputs": [
    {
     "data": {
      "text/html": [
       "<div>\n",
       "<style scoped>\n",
       "    .dataframe tbody tr th:only-of-type {\n",
       "        vertical-align: middle;\n",
       "    }\n",
       "\n",
       "    .dataframe tbody tr th {\n",
       "        vertical-align: top;\n",
       "    }\n",
       "\n",
       "    .dataframe thead th {\n",
       "        text-align: right;\n",
       "    }\n",
       "</style>\n",
       "<table border=\"1\" class=\"dataframe\">\n",
       "  <thead>\n",
       "    <tr style=\"text-align: right;\">\n",
       "      <th></th>\n",
       "      <th>year</th>\n",
       "      <th>transmission</th>\n",
       "      <th>engineSize</th>\n",
       "    </tr>\n",
       "  </thead>\n",
       "  <tbody>\n",
       "    <tr>\n",
       "      <th>4984</th>\n",
       "      <td>2019</td>\n",
       "      <td>Semi-Auto</td>\n",
       "      <td>3.0</td>\n",
       "    </tr>\n",
       "    <tr>\n",
       "      <th>4880</th>\n",
       "      <td>2018</td>\n",
       "      <td>Semi-Auto</td>\n",
       "      <td>2.0</td>\n",
       "    </tr>\n",
       "    <tr>\n",
       "      <th>9132</th>\n",
       "      <td>2016</td>\n",
       "      <td>Automatic</td>\n",
       "      <td>2.0</td>\n",
       "    </tr>\n",
       "    <tr>\n",
       "      <th>6451</th>\n",
       "      <td>2020</td>\n",
       "      <td>Semi-Auto</td>\n",
       "      <td>2.0</td>\n",
       "    </tr>\n",
       "    <tr>\n",
       "      <th>7199</th>\n",
       "      <td>2020</td>\n",
       "      <td>Semi-Auto</td>\n",
       "      <td>2.0</td>\n",
       "    </tr>\n",
       "    <tr>\n",
       "      <th>...</th>\n",
       "      <td>...</td>\n",
       "      <td>...</td>\n",
       "      <td>...</td>\n",
       "    </tr>\n",
       "    <tr>\n",
       "      <th>9627</th>\n",
       "      <td>2015</td>\n",
       "      <td>Automatic</td>\n",
       "      <td>3.0</td>\n",
       "    </tr>\n",
       "    <tr>\n",
       "      <th>6096</th>\n",
       "      <td>2019</td>\n",
       "      <td>Automatic</td>\n",
       "      <td>3.0</td>\n",
       "    </tr>\n",
       "    <tr>\n",
       "      <th>1747</th>\n",
       "      <td>2019</td>\n",
       "      <td>Automatic</td>\n",
       "      <td>2.0</td>\n",
       "    </tr>\n",
       "    <tr>\n",
       "      <th>4023</th>\n",
       "      <td>2016</td>\n",
       "      <td>Automatic</td>\n",
       "      <td>2.0</td>\n",
       "    </tr>\n",
       "    <tr>\n",
       "      <th>4372</th>\n",
       "      <td>2019</td>\n",
       "      <td>Semi-Auto</td>\n",
       "      <td>2.0</td>\n",
       "    </tr>\n",
       "  </tbody>\n",
       "</table>\n",
       "<p>2157 rows × 3 columns</p>\n",
       "</div>"
      ],
      "text/plain": [
       "      year transmission  engineSize\n",
       "4984  2019    Semi-Auto         3.0\n",
       "4880  2018    Semi-Auto         2.0\n",
       "9132  2016    Automatic         2.0\n",
       "6451  2020    Semi-Auto         2.0\n",
       "7199  2020    Semi-Auto         2.0\n",
       "...    ...          ...         ...\n",
       "9627  2015    Automatic         3.0\n",
       "6096  2019    Automatic         3.0\n",
       "1747  2019    Automatic         2.0\n",
       "4023  2016    Automatic         2.0\n",
       "4372  2019    Semi-Auto         2.0\n",
       "\n",
       "[2157 rows x 3 columns]"
      ]
     },
     "execution_count": 25,
     "metadata": {},
     "output_type": "execute_result"
    }
   ],
   "source": [
    "test[X]"
   ]
  },
  {
   "cell_type": "code",
   "execution_count": 24,
   "id": "3f82d8ed",
   "metadata": {},
   "outputs": [
    {
     "data": {
      "text/plain": [
       "array([45436.28801924, 21738.83525716, 16205.32627896, ...,\n",
       "       28444.11570854, 16205.32627896, 27824.78614511])"
      ]
     },
     "execution_count": 24,
     "metadata": {},
     "output_type": "execute_result"
    }
   ],
   "source": [
    "model.predict(test[X])"
   ]
  },
  {
   "cell_type": "code",
   "execution_count": 26,
   "id": "879d82ba",
   "metadata": {},
   "outputs": [],
   "source": [
    "test['price_pred'] = model.predict(test[X])"
   ]
  },
  {
   "cell_type": "code",
   "execution_count": 27,
   "id": "07aa538a",
   "metadata": {},
   "outputs": [
    {
     "data": {
      "text/html": [
       "<div>\n",
       "<style scoped>\n",
       "    .dataframe tbody tr th:only-of-type {\n",
       "        vertical-align: middle;\n",
       "    }\n",
       "\n",
       "    .dataframe tbody tr th {\n",
       "        vertical-align: top;\n",
       "    }\n",
       "\n",
       "    .dataframe thead th {\n",
       "        text-align: right;\n",
       "    }\n",
       "</style>\n",
       "<table border=\"1\" class=\"dataframe\">\n",
       "  <thead>\n",
       "    <tr style=\"text-align: right;\">\n",
       "      <th></th>\n",
       "      <th>model</th>\n",
       "      <th>year</th>\n",
       "      <th>price</th>\n",
       "      <th>transmission</th>\n",
       "      <th>mileage</th>\n",
       "      <th>fuelType</th>\n",
       "      <th>tax</th>\n",
       "      <th>mpg</th>\n",
       "      <th>engineSize</th>\n",
       "      <th>price_pred</th>\n",
       "    </tr>\n",
       "  </thead>\n",
       "  <tbody>\n",
       "    <tr>\n",
       "      <th>4984</th>\n",
       "      <td>X6</td>\n",
       "      <td>2019</td>\n",
       "      <td>52990</td>\n",
       "      <td>Semi-Auto</td>\n",
       "      <td>3086</td>\n",
       "      <td>Diesel</td>\n",
       "      <td>145</td>\n",
       "      <td>34.9</td>\n",
       "      <td>3.0</td>\n",
       "      <td>45436.288019</td>\n",
       "    </tr>\n",
       "    <tr>\n",
       "      <th>4880</th>\n",
       "      <td>X1</td>\n",
       "      <td>2018</td>\n",
       "      <td>24081</td>\n",
       "      <td>Semi-Auto</td>\n",
       "      <td>13245</td>\n",
       "      <td>Diesel</td>\n",
       "      <td>150</td>\n",
       "      <td>60.1</td>\n",
       "      <td>2.0</td>\n",
       "      <td>21738.835257</td>\n",
       "    </tr>\n",
       "    <tr>\n",
       "      <th>9132</th>\n",
       "      <td>1 Series</td>\n",
       "      <td>2016</td>\n",
       "      <td>12999</td>\n",
       "      <td>Automatic</td>\n",
       "      <td>68949</td>\n",
       "      <td>Petrol</td>\n",
       "      <td>200</td>\n",
       "      <td>43.5</td>\n",
       "      <td>2.0</td>\n",
       "      <td>16205.326279</td>\n",
       "    </tr>\n",
       "    <tr>\n",
       "      <th>6451</th>\n",
       "      <td>1 Series</td>\n",
       "      <td>2020</td>\n",
       "      <td>11995</td>\n",
       "      <td>Semi-Auto</td>\n",
       "      <td>10</td>\n",
       "      <td>Petrol</td>\n",
       "      <td>150</td>\n",
       "      <td>34.5</td>\n",
       "      <td>2.0</td>\n",
       "      <td>32088.707415</td>\n",
       "    </tr>\n",
       "    <tr>\n",
       "      <th>7199</th>\n",
       "      <td>3 Series</td>\n",
       "      <td>2020</td>\n",
       "      <td>29875</td>\n",
       "      <td>Semi-Auto</td>\n",
       "      <td>150</td>\n",
       "      <td>Petrol</td>\n",
       "      <td>145</td>\n",
       "      <td>42.2</td>\n",
       "      <td>2.0</td>\n",
       "      <td>32088.707415</td>\n",
       "    </tr>\n",
       "  </tbody>\n",
       "</table>\n",
       "</div>"
      ],
      "text/plain": [
       "          model  year  price transmission  mileage fuelType  tax   mpg  \\\n",
       "4984         X6  2019  52990    Semi-Auto     3086   Diesel  145  34.9   \n",
       "4880         X1  2018  24081    Semi-Auto    13245   Diesel  150  60.1   \n",
       "9132   1 Series  2016  12999    Automatic    68949   Petrol  200  43.5   \n",
       "6451   1 Series  2020  11995    Semi-Auto       10   Petrol  150  34.5   \n",
       "7199   3 Series  2020  29875    Semi-Auto      150   Petrol  145  42.2   \n",
       "\n",
       "      engineSize    price_pred  \n",
       "4984         3.0  45436.288019  \n",
       "4880         2.0  21738.835257  \n",
       "9132         2.0  16205.326279  \n",
       "6451         2.0  32088.707415  \n",
       "7199         2.0  32088.707415  "
      ]
     },
     "execution_count": 27,
     "metadata": {},
     "output_type": "execute_result"
    }
   ],
   "source": [
    "test.head()"
   ]
  },
  {
   "cell_type": "code",
   "execution_count": 28,
   "id": "8628fc0b",
   "metadata": {},
   "outputs": [],
   "source": [
    "from sklearn.metrics import mean_absolute_error, mean_absolute_percentage_error"
   ]
  },
  {
   "cell_type": "code",
   "execution_count": 29,
   "id": "be6ba58b",
   "metadata": {},
   "outputs": [],
   "source": [
    "def error(y_true,y_pred):\n",
    "    print(mean_absolute_error(y_true,y_pred))\n",
    "    print(mean_absolute_percentage_error(y_true,y_pred))"
   ]
  },
  {
   "cell_type": "code",
   "execution_count": 30,
   "id": "2c4583bc",
   "metadata": {},
   "outputs": [
    {
     "name": "stdout",
     "output_type": "stream",
     "text": [
      "3366.679482256595\n",
      "0.15363582890850797\n"
     ]
    }
   ],
   "source": [
    "error(test['price'],test['price_pred'])"
   ]
  },
  {
   "cell_type": "markdown",
   "id": "498d6d34",
   "metadata": {},
   "source": [
    "## Обучаемся на всех фичах"
   ]
  },
  {
   "cell_type": "code",
   "execution_count": 31,
   "id": "38af1345",
   "metadata": {},
   "outputs": [],
   "source": [
    "X = ['model', 'year', 'transmission', 'mileage', 'fuelType', 'tax',\n",
    "       'mpg', 'engineSize']\n",
    "\n",
    "y = ['price']\n",
    "\n",
    "cat_features = ['model', 'transmission', 'fuelType']"
   ]
  },
  {
   "cell_type": "code",
   "execution_count": 32,
   "id": "450f5bde",
   "metadata": {},
   "outputs": [],
   "source": [
    "parameters = {'cat_features': cat_features,\n",
    "              'eval_metric': 'MAPE',\n",
    "              'random_seed':42,\n",
    "              'verbose':100}"
   ]
  },
  {
   "cell_type": "code",
   "execution_count": 33,
   "id": "5c14bc4d",
   "metadata": {},
   "outputs": [],
   "source": [
    "model = CatBoostRegressor(**parameters)"
   ]
  },
  {
   "cell_type": "code",
   "execution_count": 34,
   "id": "759e6bd3",
   "metadata": {},
   "outputs": [
    {
     "name": "stdout",
     "output_type": "stream",
     "text": [
      "Learning rate set to 0.068263\n",
      "0:\tlearn: 0.4607438\ttest: 0.4563750\tbest: 0.4563750 (0)\ttotal: 36.2ms\tremaining: 36.1s\n",
      "100:\tlearn: 0.0904302\ttest: 0.0896388\tbest: 0.0896388 (100)\ttotal: 4.39s\tremaining: 39s\n",
      "200:\tlearn: 0.0781784\ttest: 0.0803125\tbest: 0.0803125 (200)\ttotal: 8.99s\tremaining: 35.7s\n",
      "300:\tlearn: 0.0729925\ttest: 0.0764506\tbest: 0.0764506 (300)\ttotal: 13.9s\tremaining: 32.2s\n",
      "400:\tlearn: 0.0695552\ttest: 0.0744676\tbest: 0.0744553 (399)\ttotal: 17.3s\tremaining: 25.9s\n",
      "500:\tlearn: 0.0670683\ttest: 0.0732827\tbest: 0.0732827 (500)\ttotal: 20.9s\tremaining: 20.8s\n",
      "600:\tlearn: 0.0652835\ttest: 0.0726170\tbest: 0.0726128 (597)\ttotal: 24.5s\tremaining: 16.3s\n",
      "700:\tlearn: 0.0636320\ttest: 0.0720622\tbest: 0.0720500 (695)\ttotal: 27.9s\tremaining: 11.9s\n",
      "800:\tlearn: 0.0623408\ttest: 0.0714586\tbest: 0.0714329 (794)\ttotal: 31.2s\tremaining: 7.76s\n",
      "900:\tlearn: 0.0611487\ttest: 0.0711564\tbest: 0.0711321 (898)\ttotal: 34.4s\tremaining: 3.78s\n",
      "999:\tlearn: 0.0601407\ttest: 0.0708439\tbest: 0.0708403 (998)\ttotal: 37.8s\tremaining: 0us\n",
      "\n",
      "bestTest = 0.07084025495\n",
      "bestIteration = 998\n",
      "\n",
      "Shrink model to first 999 iterations.\n"
     ]
    },
    {
     "data": {
      "text/plain": [
       "<catboost.core.CatBoostRegressor at 0x226f7f6de50>"
      ]
     },
     "execution_count": 34,
     "metadata": {},
     "output_type": "execute_result"
    }
   ],
   "source": [
    "model.fit(train[X],train[y],eval_set=(val[X],val[y]))"
   ]
  },
  {
   "cell_type": "code",
   "execution_count": 35,
   "id": "abf3e172",
   "metadata": {},
   "outputs": [],
   "source": [
    "test['price_pred_all'] = model.predict(test[X])"
   ]
  },
  {
   "cell_type": "code",
   "execution_count": 36,
   "id": "798f7bae",
   "metadata": {},
   "outputs": [
    {
     "name": "stdout",
     "output_type": "stream",
     "text": [
      "1556.5378327680894\n",
      "0.07367840910148211\n"
     ]
    }
   ],
   "source": [
    "error(test['price'],test['price_pred_all'])"
   ]
  },
  {
   "cell_type": "markdown",
   "id": "30485ea1",
   "metadata": {},
   "source": [
    "# Количество итераций и learning rate"
   ]
  },
  {
   "cell_type": "markdown",
   "id": "da1fb345",
   "metadata": {},
   "source": [
    "### Уменьшим learning rate"
   ]
  },
  {
   "cell_type": "code",
   "execution_count": 37,
   "id": "d2e134ba",
   "metadata": {},
   "outputs": [],
   "source": [
    "X = ['year', 'transmission', 'engineSize']\n",
    "\n",
    "cat_features = ['transmission']\n",
    "\n",
    "y = ['price']"
   ]
  },
  {
   "cell_type": "code",
   "execution_count": 38,
   "id": "7047c8b5",
   "metadata": {},
   "outputs": [],
   "source": [
    "model = CatBoostRegressor(cat_features=cat_features,\n",
    "                          learning_rate = 0.03,\n",
    "                          eval_metric='MAPE',\n",
    "                          random_seed=42,\n",
    "                          verbose=100)"
   ]
  },
  {
   "cell_type": "code",
   "execution_count": 39,
   "id": "b0b896db",
   "metadata": {},
   "outputs": [
    {
     "name": "stdout",
     "output_type": "stream",
     "text": [
      "0:\tlearn: 0.4746987\ttest: 0.4699730\tbest: 0.4699730 (0)\ttotal: 36.1ms\tremaining: 36s\n",
      "100:\tlearn: 0.1681230\ttest: 0.1638970\tbest: 0.1638970 (100)\ttotal: 3.9s\tremaining: 34.7s\n",
      "200:\tlearn: 0.1561398\ttest: 0.1538311\tbest: 0.1538311 (200)\ttotal: 7.49s\tremaining: 29.8s\n",
      "300:\tlearn: 0.1543096\ttest: 0.1525317\tbest: 0.1525309 (299)\ttotal: 10.5s\tremaining: 24.3s\n",
      "400:\tlearn: 0.1534465\ttest: 0.1519221\tbest: 0.1519198 (397)\ttotal: 13s\tremaining: 19.3s\n",
      "500:\tlearn: 0.1527824\ttest: 0.1516330\tbest: 0.1516164 (480)\ttotal: 15.8s\tremaining: 15.7s\n",
      "600:\tlearn: 0.1522590\ttest: 0.1514284\tbest: 0.1514284 (600)\ttotal: 18.5s\tremaining: 12.3s\n",
      "700:\tlearn: 0.1518052\ttest: 0.1513704\tbest: 0.1513673 (689)\ttotal: 21.2s\tremaining: 9.04s\n",
      "800:\tlearn: 0.1514495\ttest: 0.1513967\tbest: 0.1513651 (703)\ttotal: 23.9s\tremaining: 5.95s\n",
      "900:\tlearn: 0.1510958\ttest: 0.1513657\tbest: 0.1513489 (873)\ttotal: 26.7s\tremaining: 2.93s\n",
      "999:\tlearn: 0.1508297\ttest: 0.1513297\tbest: 0.1513168 (992)\ttotal: 29.4s\tremaining: 0us\n",
      "\n",
      "bestTest = 0.1513167711\n",
      "bestIteration = 992\n",
      "\n",
      "Shrink model to first 993 iterations.\n"
     ]
    },
    {
     "data": {
      "text/plain": [
       "<catboost.core.CatBoostRegressor at 0x226fc207550>"
      ]
     },
     "execution_count": 39,
     "metadata": {},
     "output_type": "execute_result"
    }
   ],
   "source": [
    "model.fit(train[X],train[y],eval_set=(val[X],val[y]))"
   ]
  },
  {
   "cell_type": "markdown",
   "id": "c14cc513",
   "metadata": {},
   "source": [
    "### Увеличим learning rate"
   ]
  },
  {
   "cell_type": "code",
   "execution_count": 40,
   "id": "a94bc220",
   "metadata": {},
   "outputs": [],
   "source": [
    "X = ['model', 'year', 'transmission', 'mileage', 'fuelType', 'tax',\n",
    "       'mpg', 'engineSize']\n",
    "\n",
    "cat_features = ['model', 'transmission', 'fuelType']\n",
    "\n",
    "y = ['price']"
   ]
  },
  {
   "cell_type": "code",
   "execution_count": 41,
   "id": "75fe24b3",
   "metadata": {},
   "outputs": [],
   "source": [
    "parameters = {'cat_features': cat_features,\n",
    "              'eval_metric': 'MAPE',\n",
    "              'learning_rate': 0.08,\n",
    "              'random_seed':42,\n",
    "              'verbose':100}"
   ]
  },
  {
   "cell_type": "code",
   "execution_count": 42,
   "id": "ba0f2e79",
   "metadata": {},
   "outputs": [],
   "source": [
    "model = CatBoostRegressor(**parameters)"
   ]
  },
  {
   "cell_type": "code",
   "execution_count": 43,
   "id": "026741e0",
   "metadata": {},
   "outputs": [
    {
     "name": "stdout",
     "output_type": "stream",
     "text": [
      "0:\tlearn: 0.4564416\ttest: 0.4521294\tbest: 0.4521294 (0)\ttotal: 35.3ms\tremaining: 35.3s\n",
      "100:\tlearn: 0.0875290\ttest: 0.0867329\tbest: 0.0867329 (100)\ttotal: 4.68s\tremaining: 41.7s\n",
      "200:\tlearn: 0.0760834\ttest: 0.0779235\tbest: 0.0779235 (200)\ttotal: 8.64s\tremaining: 34.3s\n",
      "300:\tlearn: 0.0708670\ttest: 0.0740290\tbest: 0.0740290 (300)\ttotal: 12.4s\tremaining: 28.7s\n",
      "400:\tlearn: 0.0676240\ttest: 0.0718814\tbest: 0.0718814 (400)\ttotal: 15.8s\tremaining: 23.6s\n",
      "500:\tlearn: 0.0654070\ttest: 0.0709221\tbest: 0.0708594 (496)\ttotal: 19.4s\tremaining: 19.3s\n",
      "600:\tlearn: 0.0638577\ttest: 0.0704606\tbest: 0.0704490 (599)\ttotal: 22.8s\tremaining: 15.1s\n",
      "700:\tlearn: 0.0622969\ttest: 0.0698226\tbest: 0.0698226 (700)\ttotal: 26.3s\tremaining: 11.2s\n",
      "800:\tlearn: 0.0609583\ttest: 0.0694169\tbest: 0.0694004 (791)\ttotal: 29.7s\tremaining: 7.37s\n",
      "900:\tlearn: 0.0596089\ttest: 0.0689968\tbest: 0.0689945 (895)\ttotal: 33.3s\tremaining: 3.66s\n",
      "999:\tlearn: 0.0584626\ttest: 0.0686829\tbest: 0.0686377 (993)\ttotal: 36.6s\tremaining: 0us\n",
      "\n",
      "bestTest = 0.06863774536\n",
      "bestIteration = 993\n",
      "\n",
      "Shrink model to first 994 iterations.\n"
     ]
    },
    {
     "data": {
      "text/plain": [
       "<catboost.core.CatBoostRegressor at 0x226fc207310>"
      ]
     },
     "execution_count": 43,
     "metadata": {},
     "output_type": "execute_result"
    }
   ],
   "source": [
    "model.fit(train[X],train[y],eval_set=(val[X],val[y]))"
   ]
  },
  {
   "cell_type": "markdown",
   "id": "07a2912e",
   "metadata": {},
   "source": [
    "## Останавливаем, если нет улучшения\n"
   ]
  },
  {
   "cell_type": "code",
   "execution_count": 44,
   "id": "8714ddcd",
   "metadata": {},
   "outputs": [],
   "source": [
    "X = ['year', 'transmission', 'engineSize']\n",
    "\n",
    "cat_features = ['transmission']\n",
    "\n",
    "y = ['price']\n"
   ]
  },
  {
   "cell_type": "code",
   "execution_count": 45,
   "id": "e62a83dd",
   "metadata": {},
   "outputs": [],
   "source": [
    "model = CatBoostRegressor(cat_features=cat_features,\n",
    "                          early_stopping_rounds=200,\n",
    "                          eval_metric='MAPE',\n",
    "                          random_seed=42,\n",
    "                          verbose=100)"
   ]
  },
  {
   "cell_type": "code",
   "execution_count": 46,
   "id": "bdad7f34",
   "metadata": {},
   "outputs": [
    {
     "name": "stdout",
     "output_type": "stream",
     "text": [
      "Learning rate set to 0.068263\n",
      "0:\tlearn: 0.4603375\ttest: 0.4555509\tbest: 0.4555509 (0)\ttotal: 35.6ms\tremaining: 35.6s\n",
      "100:\tlearn: 0.1546393\ttest: 0.1529687\tbest: 0.1529687 (100)\ttotal: 3.83s\tremaining: 34.1s\n",
      "200:\tlearn: 0.1528213\ttest: 0.1517332\tbest: 0.1517332 (200)\ttotal: 7.34s\tremaining: 29.2s\n",
      "300:\tlearn: 0.1517532\ttest: 0.1514386\tbest: 0.1514000 (288)\ttotal: 11.6s\tremaining: 26.9s\n",
      "400:\tlearn: 0.1509722\ttest: 0.1515508\tbest: 0.1514000 (288)\ttotal: 14.9s\tremaining: 22.2s\n",
      "Stopped by overfitting detector  (200 iterations wait)\n",
      "\n",
      "bestTest = 0.1514000297\n",
      "bestIteration = 288\n",
      "\n",
      "Shrink model to first 289 iterations.\n"
     ]
    },
    {
     "data": {
      "text/plain": [
       "<catboost.core.CatBoostRegressor at 0x226fc207d60>"
      ]
     },
     "execution_count": 46,
     "metadata": {},
     "output_type": "execute_result"
    }
   ],
   "source": [
    "model.fit(train[X],train[y],eval_set=(val[X],val[y]))"
   ]
  },
  {
   "cell_type": "markdown",
   "id": "9e70085c",
   "metadata": {},
   "source": [
    "# Обучаемся на всех данных"
   ]
  },
  {
   "cell_type": "code",
   "execution_count": 47,
   "id": "c41ae999",
   "metadata": {},
   "outputs": [
    {
     "data": {
      "text/plain": [
       "6468"
      ]
     },
     "execution_count": 47,
     "metadata": {},
     "output_type": "execute_result"
    }
   ],
   "source": [
    "len(train)"
   ]
  },
  {
   "cell_type": "code",
   "execution_count": 48,
   "id": "85fd419e",
   "metadata": {},
   "outputs": [
    {
     "data": {
      "text/plain": [
       "2156"
      ]
     },
     "execution_count": 48,
     "metadata": {},
     "output_type": "execute_result"
    }
   ],
   "source": [
    "len(val)"
   ]
  },
  {
   "cell_type": "code",
   "execution_count": 49,
   "id": "44d58e31",
   "metadata": {},
   "outputs": [
    {
     "data": {
      "text/plain": [
       "8624"
      ]
     },
     "execution_count": 49,
     "metadata": {},
     "output_type": "execute_result"
    }
   ],
   "source": [
    "len(train) + len(val)"
   ]
  },
  {
   "cell_type": "code",
   "execution_count": 50,
   "id": "bf84380f",
   "metadata": {},
   "outputs": [],
   "source": [
    "train_full = pd.concat([train,val])"
   ]
  },
  {
   "cell_type": "code",
   "execution_count": 51,
   "id": "878a8942",
   "metadata": {},
   "outputs": [
    {
     "data": {
      "text/html": [
       "<div>\n",
       "<style scoped>\n",
       "    .dataframe tbody tr th:only-of-type {\n",
       "        vertical-align: middle;\n",
       "    }\n",
       "\n",
       "    .dataframe tbody tr th {\n",
       "        vertical-align: top;\n",
       "    }\n",
       "\n",
       "    .dataframe thead th {\n",
       "        text-align: right;\n",
       "    }\n",
       "</style>\n",
       "<table border=\"1\" class=\"dataframe\">\n",
       "  <thead>\n",
       "    <tr style=\"text-align: right;\">\n",
       "      <th></th>\n",
       "      <th>model</th>\n",
       "      <th>year</th>\n",
       "      <th>price</th>\n",
       "      <th>transmission</th>\n",
       "      <th>mileage</th>\n",
       "      <th>fuelType</th>\n",
       "      <th>tax</th>\n",
       "      <th>mpg</th>\n",
       "      <th>engineSize</th>\n",
       "    </tr>\n",
       "  </thead>\n",
       "  <tbody>\n",
       "    <tr>\n",
       "      <th>5133</th>\n",
       "      <td>X6</td>\n",
       "      <td>2015</td>\n",
       "      <td>25000</td>\n",
       "      <td>Semi-Auto</td>\n",
       "      <td>26100</td>\n",
       "      <td>Diesel</td>\n",
       "      <td>205</td>\n",
       "      <td>45.6</td>\n",
       "      <td>3.0</td>\n",
       "    </tr>\n",
       "    <tr>\n",
       "      <th>2121</th>\n",
       "      <td>X2</td>\n",
       "      <td>2019</td>\n",
       "      <td>31980</td>\n",
       "      <td>Automatic</td>\n",
       "      <td>4804</td>\n",
       "      <td>Petrol</td>\n",
       "      <td>145</td>\n",
       "      <td>34.0</td>\n",
       "      <td>2.0</td>\n",
       "    </tr>\n",
       "    <tr>\n",
       "      <th>6576</th>\n",
       "      <td>X2</td>\n",
       "      <td>2018</td>\n",
       "      <td>22995</td>\n",
       "      <td>Semi-Auto</td>\n",
       "      <td>24136</td>\n",
       "      <td>Petrol</td>\n",
       "      <td>145</td>\n",
       "      <td>38.7</td>\n",
       "      <td>2.0</td>\n",
       "    </tr>\n",
       "    <tr>\n",
       "      <th>8330</th>\n",
       "      <td>3 Series</td>\n",
       "      <td>2016</td>\n",
       "      <td>12999</td>\n",
       "      <td>Manual</td>\n",
       "      <td>52224</td>\n",
       "      <td>Diesel</td>\n",
       "      <td>125</td>\n",
       "      <td>62.8</td>\n",
       "      <td>2.0</td>\n",
       "    </tr>\n",
       "    <tr>\n",
       "      <th>3161</th>\n",
       "      <td>X3</td>\n",
       "      <td>2019</td>\n",
       "      <td>32980</td>\n",
       "      <td>Semi-Auto</td>\n",
       "      <td>1961</td>\n",
       "      <td>Diesel</td>\n",
       "      <td>150</td>\n",
       "      <td>54.3</td>\n",
       "      <td>2.0</td>\n",
       "    </tr>\n",
       "  </tbody>\n",
       "</table>\n",
       "</div>"
      ],
      "text/plain": [
       "          model  year  price transmission  mileage fuelType  tax   mpg  \\\n",
       "5133         X6  2015  25000    Semi-Auto    26100   Diesel  205  45.6   \n",
       "2121         X2  2019  31980    Automatic     4804   Petrol  145  34.0   \n",
       "6576         X2  2018  22995    Semi-Auto    24136   Petrol  145  38.7   \n",
       "8330   3 Series  2016  12999       Manual    52224   Diesel  125  62.8   \n",
       "3161         X3  2019  32980    Semi-Auto     1961   Diesel  150  54.3   \n",
       "\n",
       "      engineSize  \n",
       "5133         3.0  \n",
       "2121         2.0  \n",
       "6576         2.0  \n",
       "8330         2.0  \n",
       "3161         2.0  "
      ]
     },
     "execution_count": 51,
     "metadata": {},
     "output_type": "execute_result"
    }
   ],
   "source": [
    "train_full.head()"
   ]
  },
  {
   "cell_type": "code",
   "execution_count": 52,
   "id": "8f46db94",
   "metadata": {},
   "outputs": [],
   "source": [
    "X = ['model', 'year', 'transmission', 'mileage', 'fuelType', 'tax',\n",
    "       'mpg', 'engineSize']\n",
    "\n",
    "cat_features = ['model', 'transmission', 'fuelType']\n",
    "\n",
    "y = ['price']"
   ]
  },
  {
   "cell_type": "code",
   "execution_count": 53,
   "id": "93438dad",
   "metadata": {},
   "outputs": [],
   "source": [
    "parameters = {'cat_features': cat_features,\n",
    "              'eval_metric': 'MAPE',\n",
    "              'learning_rate': 0.08,\n",
    "              'random_seed':42,\n",
    "              'verbose':100}"
   ]
  },
  {
   "cell_type": "code",
   "execution_count": 54,
   "id": "e6401d9b",
   "metadata": {},
   "outputs": [],
   "source": [
    "model = CatBoostRegressor(**parameters)"
   ]
  },
  {
   "cell_type": "code",
   "execution_count": 55,
   "id": "384d4e51",
   "metadata": {},
   "outputs": [
    {
     "name": "stdout",
     "output_type": "stream",
     "text": [
      "0:\tlearn: 0.4564416\ttest: 0.4521294\tbest: 0.4521294 (0)\ttotal: 36.3ms\tremaining: 36.3s\n",
      "100:\tlearn: 0.0875290\ttest: 0.0867329\tbest: 0.0867329 (100)\ttotal: 4.19s\tremaining: 37.3s\n",
      "200:\tlearn: 0.0760834\ttest: 0.0779235\tbest: 0.0779235 (200)\ttotal: 8.87s\tremaining: 35.2s\n",
      "300:\tlearn: 0.0708670\ttest: 0.0740290\tbest: 0.0740290 (300)\ttotal: 12.7s\tremaining: 29.5s\n",
      "400:\tlearn: 0.0676240\ttest: 0.0718814\tbest: 0.0718814 (400)\ttotal: 17.4s\tremaining: 26s\n",
      "500:\tlearn: 0.0654070\ttest: 0.0709221\tbest: 0.0708594 (496)\ttotal: 20.9s\tremaining: 20.8s\n",
      "600:\tlearn: 0.0638577\ttest: 0.0704606\tbest: 0.0704490 (599)\ttotal: 24.4s\tremaining: 16.2s\n",
      "700:\tlearn: 0.0622969\ttest: 0.0698226\tbest: 0.0698226 (700)\ttotal: 28s\tremaining: 12s\n",
      "800:\tlearn: 0.0609583\ttest: 0.0694169\tbest: 0.0694004 (791)\ttotal: 31.5s\tremaining: 7.82s\n",
      "900:\tlearn: 0.0596089\ttest: 0.0689968\tbest: 0.0689945 (895)\ttotal: 35s\tremaining: 3.85s\n",
      "999:\tlearn: 0.0584626\ttest: 0.0686829\tbest: 0.0686377 (993)\ttotal: 38.7s\tremaining: 0us\n",
      "\n",
      "bestTest = 0.06863774536\n",
      "bestIteration = 993\n",
      "\n",
      "Shrink model to first 994 iterations.\n"
     ]
    },
    {
     "data": {
      "text/plain": [
       "<catboost.core.CatBoostRegressor at 0x226fabc68e0>"
      ]
     },
     "execution_count": 55,
     "metadata": {},
     "output_type": "execute_result"
    }
   ],
   "source": [
    "model.fit(train[X],train[y],eval_set=(val[X],val[y]))"
   ]
  },
  {
   "cell_type": "code",
   "execution_count": 56,
   "id": "2d83a7b2",
   "metadata": {},
   "outputs": [
    {
     "data": {
      "text/plain": [
       "993"
      ]
     },
     "execution_count": 56,
     "metadata": {},
     "output_type": "execute_result"
    }
   ],
   "source": [
    "model.best_iteration_"
   ]
  },
  {
   "cell_type": "code",
   "execution_count": 57,
   "id": "291a6a21",
   "metadata": {},
   "outputs": [],
   "source": [
    "parameters = {'iterations': model.best_iteration_ + 1,\n",
    "              'cat_features': cat_features,\n",
    "              'eval_metric': 'MAPE',\n",
    "              'learning_rate': 0.08,\n",
    "              'random_seed':42,\n",
    "              'verbose':100}"
   ]
  },
  {
   "cell_type": "code",
   "execution_count": 58,
   "id": "f615a682",
   "metadata": {},
   "outputs": [
    {
     "data": {
      "text/plain": [
       "{'iterations': 994,\n",
       " 'cat_features': ['model', 'transmission', 'fuelType'],\n",
       " 'eval_metric': 'MAPE',\n",
       " 'learning_rate': 0.08,\n",
       " 'random_seed': 42,\n",
       " 'verbose': 100}"
      ]
     },
     "execution_count": 58,
     "metadata": {},
     "output_type": "execute_result"
    }
   ],
   "source": [
    "parameters"
   ]
  },
  {
   "cell_type": "code",
   "execution_count": 59,
   "id": "03ad4572",
   "metadata": {},
   "outputs": [],
   "source": [
    "model = CatBoostRegressor(**parameters)"
   ]
  },
  {
   "cell_type": "code",
   "execution_count": 60,
   "id": "781d4267",
   "metadata": {},
   "outputs": [
    {
     "name": "stdout",
     "output_type": "stream",
     "text": [
      "0:\tlearn: 0.4538016\ttotal: 27.8ms\tremaining: 27.6s\n",
      "100:\tlearn: 0.0854178\ttotal: 3.3s\tremaining: 29.2s\n",
      "200:\tlearn: 0.0745022\ttotal: 6.79s\tremaining: 26.8s\n",
      "300:\tlearn: 0.0701717\ttotal: 10.4s\tremaining: 23.9s\n",
      "400:\tlearn: 0.0676577\ttotal: 15.2s\tremaining: 22.5s\n",
      "500:\tlearn: 0.0656926\ttotal: 20s\tremaining: 19.7s\n",
      "600:\tlearn: 0.0638104\ttotal: 24.3s\tremaining: 15.9s\n",
      "700:\tlearn: 0.0624302\ttotal: 27.6s\tremaining: 11.6s\n",
      "800:\tlearn: 0.0612275\ttotal: 30.9s\tremaining: 7.45s\n",
      "900:\tlearn: 0.0599823\ttotal: 34.3s\tremaining: 3.54s\n",
      "993:\tlearn: 0.0590330\ttotal: 37.4s\tremaining: 0us\n"
     ]
    },
    {
     "data": {
      "text/plain": [
       "<catboost.core.CatBoostRegressor at 0x226faf6cac0>"
      ]
     },
     "execution_count": 60,
     "metadata": {},
     "output_type": "execute_result"
    }
   ],
   "source": [
    "model.fit(train_full[X],train_full[y])"
   ]
  },
  {
   "cell_type": "code",
   "execution_count": 61,
   "id": "95132d4e",
   "metadata": {},
   "outputs": [],
   "source": [
    "test['price_pred_all_features_and_data'] = model.predict(test[X])"
   ]
  },
  {
   "cell_type": "code",
   "execution_count": 62,
   "id": "8ad2e529",
   "metadata": {},
   "outputs": [
    {
     "name": "stdout",
     "output_type": "stream",
     "text": [
      "1556.5378327680894\n",
      "0.07367840910148211\n"
     ]
    }
   ],
   "source": [
    "error(test['price'],test['price_pred_all'])"
   ]
  },
  {
   "cell_type": "code",
   "execution_count": 63,
   "id": "007d0c4d",
   "metadata": {},
   "outputs": [
    {
     "name": "stdout",
     "output_type": "stream",
     "text": [
      "1512.6160783572977\n",
      "0.07305203023986592\n"
     ]
    }
   ],
   "source": [
    "error(test['price'],test['price_pred_all_features_and_data'])"
   ]
  },
  {
   "cell_type": "markdown",
   "id": "73d19be6",
   "metadata": {},
   "source": [
    "## Метрики регрессии"
   ]
  },
  {
   "cell_type": "markdown",
   "id": "aca7a7cf",
   "metadata": {},
   "source": [
    "https://catboost.ai/en/docs/concepts/loss-functions-regression#objectives-and-metrics"
   ]
  },
  {
   "cell_type": "markdown",
   "id": "3ce5c919",
   "metadata": {},
   "source": [
    "## Меняем функцию оптимизации"
   ]
  },
  {
   "cell_type": "code",
   "execution_count": 64,
   "id": "c4f84778",
   "metadata": {},
   "outputs": [],
   "source": [
    "X = ['model', 'year', 'transmission', 'mileage', 'fuelType', 'tax',\n",
    "       'mpg', 'engineSize']\n",
    "\n",
    "cat_features = ['model', 'transmission', 'fuelType']\n",
    "\n",
    "y = ['price']"
   ]
  },
  {
   "cell_type": "code",
   "execution_count": 65,
   "id": "13783d50",
   "metadata": {},
   "outputs": [],
   "source": [
    "parameters = {'cat_features': cat_features,\n",
    "              'loss_function': 'MAE',\n",
    "              'eval_metric': 'MAPE',\n",
    "              'learning_rate': 0.1,\n",
    "              'random_seed':42,\n",
    "              'verbose':100}"
   ]
  },
  {
   "cell_type": "code",
   "execution_count": 66,
   "id": "07049fef",
   "metadata": {},
   "outputs": [],
   "source": [
    "model = CatBoostRegressor(**parameters)"
   ]
  },
  {
   "cell_type": "code",
   "execution_count": 67,
   "id": "a7f717a7",
   "metadata": {},
   "outputs": [
    {
     "name": "stdout",
     "output_type": "stream",
     "text": [
      "0:\tlearn: 0.3849345\ttest: 0.3793341\tbest: 0.3793341 (0)\ttotal: 41.5ms\tremaining: 41.5s\n",
      "100:\tlearn: 0.0764009\ttest: 0.0774578\tbest: 0.0774578 (100)\ttotal: 4.82s\tremaining: 42.9s\n",
      "200:\tlearn: 0.0666216\ttest: 0.0706498\tbest: 0.0706498 (200)\ttotal: 9.5s\tremaining: 37.8s\n",
      "300:\tlearn: 0.0628577\ttest: 0.0695086\tbest: 0.0694924 (298)\ttotal: 14.5s\tremaining: 33.6s\n",
      "400:\tlearn: 0.0605748\ttest: 0.0687890\tbest: 0.0687826 (399)\ttotal: 19.5s\tremaining: 29.1s\n",
      "500:\tlearn: 0.0589764\ttest: 0.0683467\tbest: 0.0683222 (490)\ttotal: 24.5s\tremaining: 24.4s\n",
      "600:\tlearn: 0.0579201\ttest: 0.0680567\tbest: 0.0680567 (600)\ttotal: 29.4s\tremaining: 19.5s\n",
      "700:\tlearn: 0.0570454\ttest: 0.0678671\tbest: 0.0678659 (681)\ttotal: 34.1s\tremaining: 14.5s\n",
      "800:\tlearn: 0.0563072\ttest: 0.0676018\tbest: 0.0676018 (800)\ttotal: 38.9s\tremaining: 9.66s\n",
      "900:\tlearn: 0.0555798\ttest: 0.0674500\tbest: 0.0674384 (889)\ttotal: 43.6s\tremaining: 4.79s\n",
      "999:\tlearn: 0.0548863\ttest: 0.0673326\tbest: 0.0672972 (972)\ttotal: 47.8s\tremaining: 0us\n",
      "\n",
      "bestTest = 0.0672972276\n",
      "bestIteration = 972\n",
      "\n",
      "Shrink model to first 973 iterations.\n"
     ]
    },
    {
     "data": {
      "text/plain": [
       "<catboost.core.CatBoostRegressor at 0x226f8a42280>"
      ]
     },
     "execution_count": 67,
     "metadata": {},
     "output_type": "execute_result"
    }
   ],
   "source": [
    "model.fit(train[X],train[y],eval_set=(val[X],val[y]))"
   ]
  },
  {
   "cell_type": "code",
   "execution_count": null,
   "id": "15cef76f",
   "metadata": {},
   "outputs": [],
   "source": []
  }
 ],
 "metadata": {
  "kernelspec": {
   "display_name": "Python 3 (ipykernel)",
   "language": "python",
   "name": "python3"
  },
  "language_info": {
   "codemirror_mode": {
    "name": "ipython",
    "version": 3
   },
   "file_extension": ".py",
   "mimetype": "text/x-python",
   "name": "python",
   "nbconvert_exporter": "python",
   "pygments_lexer": "ipython3",
   "version": "3.9.12"
  }
 },
 "nbformat": 4,
 "nbformat_minor": 5
}
