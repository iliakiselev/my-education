{
 "cells": [
  {
   "cell_type": "code",
   "execution_count": 1,
   "id": "c83ed017",
   "metadata": {},
   "outputs": [],
   "source": [
    "import pandas as pd"
   ]
  },
  {
   "cell_type": "code",
   "execution_count": 2,
   "id": "01d5c1be",
   "metadata": {},
   "outputs": [],
   "source": [
    "df = pd.read_csv(r'C:\\Work\\DataFrames\\Churn_Modelling.csv')"
   ]
  },
  {
   "cell_type": "code",
   "execution_count": 3,
   "id": "ffc2193d",
   "metadata": {},
   "outputs": [],
   "source": [
    "from sklearn.model_selection import train_test_split"
   ]
  },
  {
   "cell_type": "code",
   "execution_count": 4,
   "id": "c76cdfa7",
   "metadata": {},
   "outputs": [],
   "source": [
    "train, test = train_test_split(df,train_size=0.6,random_state=42,stratify=df['Exited'])"
   ]
  },
  {
   "cell_type": "code",
   "execution_count": 5,
   "id": "0ba87821",
   "metadata": {},
   "outputs": [],
   "source": [
    "val, test = train_test_split(test,train_size=0.5,random_state=42,stratify=test['Exited'])"
   ]
  },
  {
   "cell_type": "code",
   "execution_count": 6,
   "id": "83eb3fd0",
   "metadata": {},
   "outputs": [],
   "source": [
    "from catboost import CatBoostClassifier"
   ]
  },
  {
   "cell_type": "code",
   "execution_count": 7,
   "id": "833ebf1b",
   "metadata": {},
   "outputs": [],
   "source": [
    "X = ['CustomerId', 'CreditScore', 'Geography',\n",
    "       'Gender', 'Age', 'Tenure', 'Balance', 'NumOfProducts', 'HasCrCard',\n",
    "       'IsActiveMember', 'EstimatedSalary']\n",
    "\n",
    "cat_features = ['Geography','Gender']\n",
    "\n",
    "y = ['Exited']"
   ]
  },
  {
   "cell_type": "code",
   "execution_count": 8,
   "id": "011af115",
   "metadata": {},
   "outputs": [],
   "source": [
    "from catboost import Pool\n",
    "\n",
    "train_data = Pool(data=train[X],\n",
    "                  label=train[y],\n",
    "                  cat_features=cat_features\n",
    "                 )\n",
    "\n",
    "valid_data = Pool(data=val[X],\n",
    "                  label=val[y],\n",
    "                  cat_features=cat_features\n",
    "                 )\n",
    "\n",
    "test_data = Pool(data=test[X],\n",
    "                  label=test[y],\n",
    "                  cat_features=cat_features\n",
    "                 )"
   ]
  },
  {
   "cell_type": "code",
   "execution_count": 9,
   "id": "1eda02dd",
   "metadata": {},
   "outputs": [],
   "source": [
    "params = {'verbose':100,\n",
    "          'eval_metric':'AUC',\n",
    "          'loss_function': 'Logloss',\n",
    "          'random_seed':42,\n",
    "          'learning_rate':0.01}"
   ]
  },
  {
   "cell_type": "code",
   "execution_count": 10,
   "id": "94ee36f7",
   "metadata": {},
   "outputs": [],
   "source": [
    "model = CatBoostClassifier(**params)"
   ]
  },
  {
   "cell_type": "code",
   "execution_count": 11,
   "id": "15b521c5",
   "metadata": {},
   "outputs": [
    {
     "name": "stdout",
     "output_type": "stream",
     "text": [
      "0:\ttest: 0.8338545\tbest: 0.8338545 (0)\ttotal: 189ms\tremaining: 3m 8s\n",
      "100:\ttest: 0.8725090\tbest: 0.8725090 (100)\ttotal: 3.77s\tremaining: 33.5s\n",
      "200:\ttest: 0.8784656\tbest: 0.8784656 (200)\ttotal: 7.23s\tremaining: 28.7s\n",
      "300:\ttest: 0.8812676\tbest: 0.8812676 (300)\ttotal: 12.2s\tremaining: 28.3s\n",
      "400:\ttest: 0.8823868\tbest: 0.8824376 (390)\ttotal: 17.2s\tremaining: 25.7s\n",
      "500:\ttest: 0.8834491\tbest: 0.8834522 (498)\ttotal: 22.2s\tremaining: 22.1s\n",
      "600:\ttest: 0.8834737\tbest: 0.8836554 (564)\ttotal: 27.3s\tremaining: 18.1s\n",
      "700:\ttest: 0.8837847\tbest: 0.8838694 (685)\ttotal: 32.2s\tremaining: 13.7s\n",
      "800:\ttest: 0.8834383\tbest: 0.8838694 (685)\ttotal: 37.3s\tremaining: 9.26s\n",
      "900:\ttest: 0.8829318\tbest: 0.8838694 (685)\ttotal: 42.2s\tremaining: 4.64s\n",
      "999:\ttest: 0.8822744\tbest: 0.8838694 (685)\ttotal: 47.2s\tremaining: 0us\n",
      "\n",
      "bestTest = 0.8838694083\n",
      "bestIteration = 685\n",
      "\n",
      "Shrink model to first 686 iterations.\n"
     ]
    },
    {
     "data": {
      "text/plain": [
       "<catboost.core.CatBoostClassifier at 0x19083a25f10>"
      ]
     },
     "execution_count": 11,
     "metadata": {},
     "output_type": "execute_result"
    }
   ],
   "source": [
    "model.fit(train_data,eval_set=valid_data)"
   ]
  },
  {
   "cell_type": "code",
   "execution_count": 12,
   "id": "296ce6e3",
   "metadata": {},
   "outputs": [],
   "source": [
    "n_iters = model.best_iteration_ + 1"
   ]
  },
  {
   "cell_type": "code",
   "execution_count": 13,
   "id": "3e607bdb",
   "metadata": {},
   "outputs": [
    {
     "data": {
      "text/plain": [
       "686"
      ]
     },
     "execution_count": 13,
     "metadata": {},
     "output_type": "execute_result"
    }
   ],
   "source": [
    "n_iters"
   ]
  },
  {
   "cell_type": "code",
   "execution_count": 14,
   "id": "e3a5202b",
   "metadata": {},
   "outputs": [],
   "source": [
    "params = {'iterations':n_iters,\n",
    "          'verbose':100,\n",
    "          'eval_metric':'AUC',\n",
    "          'loss_function': 'Logloss',\n",
    "          'random_seed':42,\n",
    "          'learning_rate':0.01}"
   ]
  },
  {
   "cell_type": "code",
   "execution_count": 15,
   "id": "0c8254bf",
   "metadata": {},
   "outputs": [],
   "source": [
    "model = CatBoostClassifier(**params)"
   ]
  },
  {
   "cell_type": "code",
   "execution_count": 16,
   "id": "d85b225b",
   "metadata": {},
   "outputs": [],
   "source": [
    "train_full = pd.concat([train,val])"
   ]
  },
  {
   "cell_type": "code",
   "execution_count": 17,
   "id": "d0e1221b",
   "metadata": {},
   "outputs": [],
   "source": [
    "train_full_data = Pool(train_full[X],\n",
    "                       label=train_full[y],\n",
    "                       cat_features=cat_features)"
   ]
  },
  {
   "cell_type": "code",
   "execution_count": 18,
   "id": "c4a2ae29",
   "metadata": {},
   "outputs": [
    {
     "name": "stdout",
     "output_type": "stream",
     "text": [
      "0:\ttotal: 55.7ms\tremaining: 38.2s\n",
      "100:\ttotal: 4.56s\tremaining: 26.4s\n",
      "200:\ttotal: 8.07s\tremaining: 19.5s\n",
      "300:\ttotal: 11.6s\tremaining: 14.8s\n",
      "400:\ttotal: 15.2s\tremaining: 10.8s\n",
      "500:\ttotal: 18.8s\tremaining: 6.93s\n",
      "600:\ttotal: 23.9s\tremaining: 3.38s\n",
      "685:\ttotal: 26.9s\tremaining: 0us\n"
     ]
    },
    {
     "data": {
      "text/plain": [
       "<catboost.core.CatBoostClassifier at 0x190827a8c70>"
      ]
     },
     "execution_count": 18,
     "metadata": {},
     "output_type": "execute_result"
    }
   ],
   "source": [
    "model.fit(train_full_data)"
   ]
  },
  {
   "cell_type": "code",
   "execution_count": 19,
   "id": "8f68ce8c",
   "metadata": {},
   "outputs": [],
   "source": [
    "test['y_score_no_cross_val'] = model.predict_proba(test_data)[:,1]"
   ]
  },
  {
   "cell_type": "code",
   "execution_count": 20,
   "id": "43043d52",
   "metadata": {},
   "outputs": [],
   "source": [
    "from sklearn.metrics import roc_auc_score"
   ]
  },
  {
   "cell_type": "code",
   "execution_count": 21,
   "id": "d4de55a4",
   "metadata": {},
   "outputs": [
    {
     "data": {
      "text/plain": [
       "0.8735839074822127"
      ]
     },
     "execution_count": 21,
     "metadata": {},
     "output_type": "execute_result"
    }
   ],
   "source": [
    "roc_auc_score(test['Exited'],test['y_score_no_cross_val'])"
   ]
  },
  {
   "cell_type": "markdown",
   "id": "913a3943",
   "metadata": {},
   "source": [
    "# Кросс-валидация"
   ]
  },
  {
   "cell_type": "markdown",
   "id": "b31b2928",
   "metadata": {},
   "source": [
    "https://github.com/catboost/tutorials/blob/master/classification/classification_tutorial.ipynb"
   ]
  },
  {
   "cell_type": "code",
   "execution_count": 22,
   "id": "0655a585",
   "metadata": {},
   "outputs": [],
   "source": [
    "from catboost import cv"
   ]
  },
  {
   "cell_type": "code",
   "execution_count": 23,
   "id": "07608887",
   "metadata": {},
   "outputs": [],
   "source": [
    "params = {'verbose':100,\n",
    "          'eval_metric':'AUC',\n",
    "          'loss_function': 'Logloss',\n",
    "          'random_seed':42,\n",
    "          'learning_rate':0.01}"
   ]
  },
  {
   "cell_type": "code",
   "execution_count": 24,
   "id": "5a5771fc",
   "metadata": {},
   "outputs": [
    {
     "name": "stdout",
     "output_type": "stream",
     "text": [
      "Training on fold [0/5]\n",
      "\n",
      "bestTest = 0.866360207\n",
      "bestIteration = 881\n",
      "\n",
      "Training on fold [1/5]\n",
      "\n",
      "bestTest = 0.8716621864\n",
      "bestIteration = 998\n",
      "\n",
      "Training on fold [2/5]\n",
      "\n",
      "bestTest = 0.8695412245\n",
      "bestIteration = 540\n",
      "\n",
      "Training on fold [3/5]\n",
      "\n",
      "bestTest = 0.8795945701\n",
      "bestIteration = 942\n",
      "\n",
      "Training on fold [4/5]\n",
      "\n",
      "bestTest = 0.8586794872\n",
      "bestIteration = 750\n",
      "\n"
     ]
    }
   ],
   "source": [
    "cv_data = cv(\n",
    "    params = params,\n",
    "    pool = train_full_data,\n",
    "    fold_count=5,\n",
    "    shuffle=True,\n",
    "    partition_random_seed=0,\n",
    "    stratified=False,\n",
    "    verbose=False\n",
    ")"
   ]
  },
  {
   "cell_type": "code",
   "execution_count": 25,
   "id": "72e39127",
   "metadata": {},
   "outputs": [
    {
     "data": {
      "text/html": [
       "<div>\n",
       "<style scoped>\n",
       "    .dataframe tbody tr th:only-of-type {\n",
       "        vertical-align: middle;\n",
       "    }\n",
       "\n",
       "    .dataframe tbody tr th {\n",
       "        vertical-align: top;\n",
       "    }\n",
       "\n",
       "    .dataframe thead th {\n",
       "        text-align: right;\n",
       "    }\n",
       "</style>\n",
       "<table border=\"1\" class=\"dataframe\">\n",
       "  <thead>\n",
       "    <tr style=\"text-align: right;\">\n",
       "      <th></th>\n",
       "      <th>iterations</th>\n",
       "      <th>test-AUC-mean</th>\n",
       "      <th>test-AUC-std</th>\n",
       "      <th>test-Logloss-mean</th>\n",
       "      <th>test-Logloss-std</th>\n",
       "      <th>train-Logloss-mean</th>\n",
       "      <th>train-Logloss-std</th>\n",
       "    </tr>\n",
       "  </thead>\n",
       "  <tbody>\n",
       "    <tr>\n",
       "      <th>0</th>\n",
       "      <td>0</td>\n",
       "      <td>0.818479</td>\n",
       "      <td>0.009480</td>\n",
       "      <td>0.685020</td>\n",
       "      <td>0.000209</td>\n",
       "      <td>0.684939</td>\n",
       "      <td>0.000262</td>\n",
       "    </tr>\n",
       "    <tr>\n",
       "      <th>1</th>\n",
       "      <td>1</td>\n",
       "      <td>0.823848</td>\n",
       "      <td>0.010334</td>\n",
       "      <td>0.677216</td>\n",
       "      <td>0.000374</td>\n",
       "      <td>0.677055</td>\n",
       "      <td>0.000503</td>\n",
       "    </tr>\n",
       "    <tr>\n",
       "      <th>2</th>\n",
       "      <td>2</td>\n",
       "      <td>0.831819</td>\n",
       "      <td>0.009265</td>\n",
       "      <td>0.668989</td>\n",
       "      <td>0.000472</td>\n",
       "      <td>0.668799</td>\n",
       "      <td>0.000751</td>\n",
       "    </tr>\n",
       "    <tr>\n",
       "      <th>3</th>\n",
       "      <td>3</td>\n",
       "      <td>0.834559</td>\n",
       "      <td>0.008771</td>\n",
       "      <td>0.662008</td>\n",
       "      <td>0.001326</td>\n",
       "      <td>0.661753</td>\n",
       "      <td>0.000689</td>\n",
       "    </tr>\n",
       "    <tr>\n",
       "      <th>4</th>\n",
       "      <td>4</td>\n",
       "      <td>0.834483</td>\n",
       "      <td>0.008218</td>\n",
       "      <td>0.654599</td>\n",
       "      <td>0.001429</td>\n",
       "      <td>0.654270</td>\n",
       "      <td>0.000898</td>\n",
       "    </tr>\n",
       "    <tr>\n",
       "      <th>...</th>\n",
       "      <td>...</td>\n",
       "      <td>...</td>\n",
       "      <td>...</td>\n",
       "      <td>...</td>\n",
       "      <td>...</td>\n",
       "      <td>...</td>\n",
       "      <td>...</td>\n",
       "    </tr>\n",
       "    <tr>\n",
       "      <th>995</th>\n",
       "      <td>995</td>\n",
       "      <td>0.868703</td>\n",
       "      <td>0.007809</td>\n",
       "      <td>0.329986</td>\n",
       "      <td>0.016873</td>\n",
       "      <td>0.284097</td>\n",
       "      <td>0.003644</td>\n",
       "    </tr>\n",
       "    <tr>\n",
       "      <th>996</th>\n",
       "      <td>996</td>\n",
       "      <td>0.868715</td>\n",
       "      <td>0.007781</td>\n",
       "      <td>0.329972</td>\n",
       "      <td>0.016875</td>\n",
       "      <td>0.284057</td>\n",
       "      <td>0.003631</td>\n",
       "    </tr>\n",
       "    <tr>\n",
       "      <th>997</th>\n",
       "      <td>997</td>\n",
       "      <td>0.868718</td>\n",
       "      <td>0.007804</td>\n",
       "      <td>0.329972</td>\n",
       "      <td>0.016876</td>\n",
       "      <td>0.284003</td>\n",
       "      <td>0.003636</td>\n",
       "    </tr>\n",
       "    <tr>\n",
       "      <th>998</th>\n",
       "      <td>998</td>\n",
       "      <td>0.868725</td>\n",
       "      <td>0.007777</td>\n",
       "      <td>0.329969</td>\n",
       "      <td>0.016855</td>\n",
       "      <td>0.283943</td>\n",
       "      <td>0.003613</td>\n",
       "    </tr>\n",
       "    <tr>\n",
       "      <th>999</th>\n",
       "      <td>999</td>\n",
       "      <td>0.868729</td>\n",
       "      <td>0.007779</td>\n",
       "      <td>0.329964</td>\n",
       "      <td>0.016869</td>\n",
       "      <td>0.283886</td>\n",
       "      <td>0.003601</td>\n",
       "    </tr>\n",
       "  </tbody>\n",
       "</table>\n",
       "<p>1000 rows × 7 columns</p>\n",
       "</div>"
      ],
      "text/plain": [
       "     iterations  test-AUC-mean  test-AUC-std  test-Logloss-mean  \\\n",
       "0             0       0.818479      0.009480           0.685020   \n",
       "1             1       0.823848      0.010334           0.677216   \n",
       "2             2       0.831819      0.009265           0.668989   \n",
       "3             3       0.834559      0.008771           0.662008   \n",
       "4             4       0.834483      0.008218           0.654599   \n",
       "..          ...            ...           ...                ...   \n",
       "995         995       0.868703      0.007809           0.329986   \n",
       "996         996       0.868715      0.007781           0.329972   \n",
       "997         997       0.868718      0.007804           0.329972   \n",
       "998         998       0.868725      0.007777           0.329969   \n",
       "999         999       0.868729      0.007779           0.329964   \n",
       "\n",
       "     test-Logloss-std  train-Logloss-mean  train-Logloss-std  \n",
       "0            0.000209            0.684939           0.000262  \n",
       "1            0.000374            0.677055           0.000503  \n",
       "2            0.000472            0.668799           0.000751  \n",
       "3            0.001326            0.661753           0.000689  \n",
       "4            0.001429            0.654270           0.000898  \n",
       "..                ...                 ...                ...  \n",
       "995          0.016873            0.284097           0.003644  \n",
       "996          0.016875            0.284057           0.003631  \n",
       "997          0.016876            0.284003           0.003636  \n",
       "998          0.016855            0.283943           0.003613  \n",
       "999          0.016869            0.283886           0.003601  \n",
       "\n",
       "[1000 rows x 7 columns]"
      ]
     },
     "execution_count": 25,
     "metadata": {},
     "output_type": "execute_result"
    }
   ],
   "source": [
    "cv_data"
   ]
  },
  {
   "cell_type": "code",
   "execution_count": 26,
   "id": "301f7db4",
   "metadata": {},
   "outputs": [
    {
     "data": {
      "text/html": [
       "<div>\n",
       "<style scoped>\n",
       "    .dataframe tbody tr th:only-of-type {\n",
       "        vertical-align: middle;\n",
       "    }\n",
       "\n",
       "    .dataframe tbody tr th {\n",
       "        vertical-align: top;\n",
       "    }\n",
       "\n",
       "    .dataframe thead th {\n",
       "        text-align: right;\n",
       "    }\n",
       "</style>\n",
       "<table border=\"1\" class=\"dataframe\">\n",
       "  <thead>\n",
       "    <tr style=\"text-align: right;\">\n",
       "      <th></th>\n",
       "      <th>iterations</th>\n",
       "      <th>test-AUC-mean</th>\n",
       "      <th>test-AUC-std</th>\n",
       "      <th>test-Logloss-mean</th>\n",
       "      <th>test-Logloss-std</th>\n",
       "      <th>train-Logloss-mean</th>\n",
       "      <th>train-Logloss-std</th>\n",
       "    </tr>\n",
       "  </thead>\n",
       "  <tbody>\n",
       "    <tr>\n",
       "      <th>741</th>\n",
       "      <td>741</td>\n",
       "      <td>0.868822</td>\n",
       "      <td>0.007457</td>\n",
       "      <td>0.330818</td>\n",
       "      <td>0.017005</td>\n",
       "      <td>0.297428</td>\n",
       "      <td>0.004326</td>\n",
       "    </tr>\n",
       "  </tbody>\n",
       "</table>\n",
       "</div>"
      ],
      "text/plain": [
       "     iterations  test-AUC-mean  test-AUC-std  test-Logloss-mean  \\\n",
       "741         741       0.868822      0.007457           0.330818   \n",
       "\n",
       "     test-Logloss-std  train-Logloss-mean  train-Logloss-std  \n",
       "741          0.017005            0.297428           0.004326  "
      ]
     },
     "execution_count": 26,
     "metadata": {},
     "output_type": "execute_result"
    }
   ],
   "source": [
    "cv_data[cv_data['test-AUC-mean'] == cv_data['test-AUC-mean'].max()]"
   ]
  },
  {
   "cell_type": "code",
   "execution_count": 27,
   "id": "6e317d99",
   "metadata": {},
   "outputs": [],
   "source": [
    "n_iters = cv_data[cv_data['test-AUC-mean'] == cv_data['test-AUC-mean'].max()]['iterations'].values[0]"
   ]
  },
  {
   "cell_type": "code",
   "execution_count": 28,
   "id": "8ff139a4",
   "metadata": {},
   "outputs": [
    {
     "data": {
      "text/plain": [
       "741"
      ]
     },
     "execution_count": 28,
     "metadata": {},
     "output_type": "execute_result"
    }
   ],
   "source": [
    "n_iters"
   ]
  },
  {
   "cell_type": "code",
   "execution_count": 29,
   "id": "592b4203",
   "metadata": {},
   "outputs": [],
   "source": [
    "params = {'iterations':n_iters,\n",
    "          'verbose':100,\n",
    "          'eval_metric':'AUC',\n",
    "          'loss_function': 'Logloss',\n",
    "          'random_seed':42,\n",
    "          'learning_rate':0.01}"
   ]
  },
  {
   "cell_type": "code",
   "execution_count": 30,
   "id": "7b406a3a",
   "metadata": {},
   "outputs": [],
   "source": [
    "model = CatBoostClassifier(**params)"
   ]
  },
  {
   "cell_type": "code",
   "execution_count": 31,
   "id": "678054f3",
   "metadata": {},
   "outputs": [
    {
     "name": "stdout",
     "output_type": "stream",
     "text": [
      "0:\ttotal: 73.5ms\tremaining: 54.4s\n",
      "100:\ttotal: 5.12s\tremaining: 32.4s\n",
      "200:\ttotal: 9.17s\tremaining: 24.6s\n",
      "300:\ttotal: 12.9s\tremaining: 18.9s\n",
      "400:\ttotal: 16.6s\tremaining: 14.1s\n",
      "500:\ttotal: 20s\tremaining: 9.59s\n",
      "600:\ttotal: 23.6s\tremaining: 5.49s\n",
      "700:\ttotal: 27.1s\tremaining: 1.55s\n",
      "740:\ttotal: 28.5s\tremaining: 0us\n"
     ]
    },
    {
     "data": {
      "text/plain": [
       "<catboost.core.CatBoostClassifier at 0x19082eb0820>"
      ]
     },
     "execution_count": 31,
     "metadata": {},
     "output_type": "execute_result"
    }
   ],
   "source": [
    "model.fit(train_full_data)"
   ]
  },
  {
   "cell_type": "code",
   "execution_count": 32,
   "id": "0cc26264",
   "metadata": {},
   "outputs": [],
   "source": [
    "test['y_score_cross_val'] = model.predict_proba(test_data)[:,1]"
   ]
  },
  {
   "cell_type": "code",
   "execution_count": 33,
   "id": "04a8f0cc",
   "metadata": {},
   "outputs": [],
   "source": [
    "from sklearn.metrics import roc_auc_score"
   ]
  },
  {
   "cell_type": "code",
   "execution_count": 34,
   "id": "7585f361",
   "metadata": {},
   "outputs": [
    {
     "data": {
      "text/plain": [
       "0.8737196364315009"
      ]
     },
     "execution_count": 34,
     "metadata": {},
     "output_type": "execute_result"
    }
   ],
   "source": [
    "roc_auc_score(test['Exited'],test['y_score_cross_val'])"
   ]
  },
  {
   "cell_type": "markdown",
   "id": "b199709a",
   "metadata": {},
   "source": [
    "# Подбор гиперпараметров"
   ]
  },
  {
   "cell_type": "markdown",
   "id": "d3a6d509",
   "metadata": {},
   "source": [
    "https://github.com/catboost/catboost/blob/master/catboost/tutorials/events/2020_06_04_catboost_tutorial/catboost_features.ipynb"
   ]
  },
  {
   "cell_type": "markdown",
   "id": "aab47452",
   "metadata": {},
   "source": [
    "https://youtu.be/ZaP5qFSIcIw?t=2043"
   ]
  },
  {
   "cell_type": "code",
   "execution_count": 35,
   "id": "77a6704e",
   "metadata": {},
   "outputs": [
    {
     "data": {
      "text/plain": [
       "{'nan_mode': 'Min',\n",
       " 'eval_metric': 'AUC',\n",
       " 'combinations_ctr': ['Borders:CtrBorderCount=15:CtrBorderType=Uniform:TargetBorderCount=1:TargetBorderType=MinEntropy:Prior=0/1:Prior=0.5/1:Prior=1/1',\n",
       "  'Counter:CtrBorderCount=15:CtrBorderType=Uniform:Prior=0/1'],\n",
       " 'iterations': 741,\n",
       " 'sampling_frequency': 'PerTree',\n",
       " 'fold_permutation_block': 0,\n",
       " 'leaf_estimation_method': 'Newton',\n",
       " 'counter_calc_method': 'SkipTest',\n",
       " 'grow_policy': 'SymmetricTree',\n",
       " 'penalties_coefficient': 1,\n",
       " 'boosting_type': 'Plain',\n",
       " 'model_shrink_mode': 'Constant',\n",
       " 'feature_border_type': 'GreedyLogSum',\n",
       " 'ctr_leaf_count_limit': 18446744073709551615,\n",
       " 'bayesian_matrix_reg': 0.10000000149011612,\n",
       " 'one_hot_max_size': 2,\n",
       " 'force_unit_auto_pair_weights': False,\n",
       " 'l2_leaf_reg': 3,\n",
       " 'random_strength': 1,\n",
       " 'rsm': 1,\n",
       " 'boost_from_average': False,\n",
       " 'max_ctr_complexity': 4,\n",
       " 'model_size_reg': 0.5,\n",
       " 'simple_ctr': ['Borders:CtrBorderCount=15:CtrBorderType=Uniform:TargetBorderCount=1:TargetBorderType=MinEntropy:Prior=0/1:Prior=0.5/1:Prior=1/1',\n",
       "  'Counter:CtrBorderCount=15:CtrBorderType=Uniform:Prior=0/1'],\n",
       " 'pool_metainfo_options': {'tags': {}},\n",
       " 'subsample': 0.800000011920929,\n",
       " 'use_best_model': False,\n",
       " 'class_names': [0, 1],\n",
       " 'random_seed': 42,\n",
       " 'depth': 6,\n",
       " 'ctr_target_border_count': 1,\n",
       " 'posterior_sampling': False,\n",
       " 'has_time': False,\n",
       " 'store_all_simple_ctr': False,\n",
       " 'border_count': 254,\n",
       " 'classes_count': 0,\n",
       " 'auto_class_weights': 'None',\n",
       " 'sparse_features_conflict_fraction': 0,\n",
       " 'leaf_estimation_backtracking': 'AnyImprovement',\n",
       " 'best_model_min_trees': 1,\n",
       " 'model_shrink_rate': 0,\n",
       " 'min_data_in_leaf': 1,\n",
       " 'loss_function': 'Logloss',\n",
       " 'learning_rate': 0.009999999776482582,\n",
       " 'score_function': 'Cosine',\n",
       " 'task_type': 'CPU',\n",
       " 'leaf_estimation_iterations': 10,\n",
       " 'bootstrap_type': 'MVS',\n",
       " 'max_leaves': 64,\n",
       " 'permutation_count': 4}"
      ]
     },
     "execution_count": 35,
     "metadata": {},
     "output_type": "execute_result"
    }
   ],
   "source": [
    "model.get_all_params()"
   ]
  },
  {
   "cell_type": "code",
   "execution_count": 36,
   "id": "42f8262e",
   "metadata": {},
   "outputs": [],
   "source": [
    "params = {'verbose':100,\n",
    "          'eval_metric':'AUC',\n",
    "          'loss_function': 'Logloss',\n",
    "          'random_seed':42}"
   ]
  },
  {
   "cell_type": "code",
   "execution_count": 38,
   "id": "b0ecd749",
   "metadata": {},
   "outputs": [],
   "source": [
    "model = CatBoostClassifier(**params)"
   ]
  },
  {
   "cell_type": "code",
   "execution_count": 39,
   "id": "0e41fc3d",
   "metadata": {},
   "outputs": [],
   "source": [
    "grid = {'learning_rate': [0.01, 0.1],\n",
    "        'depth': [5, 6]}"
   ]
  },
  {
   "cell_type": "code",
   "execution_count": 40,
   "id": "6ccf30d5",
   "metadata": {},
   "outputs": [
    {
     "name": "stdout",
     "output_type": "stream",
     "text": [
      "0:\ttest: 0.7811641\tbest: 0.7811641 (0)\ttotal: 45.9ms\tremaining: 45.9s\n",
      "100:\ttest: 0.8435462\tbest: 0.8435769 (99)\ttotal: 4.36s\tremaining: 38.8s\n",
      "200:\ttest: 0.8508923\tbest: 0.8508923 (200)\ttotal: 8.38s\tremaining: 33.3s\n",
      "300:\ttest: 0.8547897\tbest: 0.8547897 (300)\ttotal: 11.8s\tremaining: 27.3s\n",
      "400:\ttest: 0.8569385\tbest: 0.8569385 (400)\ttotal: 15.1s\tremaining: 22.5s\n",
      "500:\ttest: 0.8576410\tbest: 0.8576410 (500)\ttotal: 18.5s\tremaining: 18.4s\n",
      "600:\ttest: 0.8585538\tbest: 0.8585538 (600)\ttotal: 21.8s\tremaining: 14.5s\n",
      "700:\ttest: 0.8590923\tbest: 0.8591487 (694)\ttotal: 25.2s\tremaining: 10.8s\n",
      "800:\ttest: 0.8593590\tbest: 0.8595564 (749)\ttotal: 29s\tremaining: 7.22s\n",
      "900:\ttest: 0.8593282\tbest: 0.8595564 (749)\ttotal: 32.9s\tremaining: 3.62s\n",
      "999:\ttest: 0.8593897\tbest: 0.8595974 (986)\ttotal: 36.5s\tremaining: 0us\n",
      "\n",
      "bestTest = 0.8595974359\n",
      "bestIteration = 986\n",
      "\n",
      "Metric AUC is not calculated on train by default. To calculate this metric on train, add hints=skip_train~false to metric parameters.\n",
      "0:\ttest: 0.7811641\tbest: 0.7811641 (0)\ttotal: 43.6ms\tremaining: 43.5s\n",
      "100:\ttest: 0.8601513\tbest: 0.8604077 (89)\ttotal: 3.79s\tremaining: 33.7s\n",
      "200:\ttest: 0.8557769\tbest: 0.8609103 (111)\ttotal: 7.74s\tremaining: 30.8s\n",
      "300:\ttest: 0.8521564\tbest: 0.8609103 (111)\ttotal: 11.8s\tremaining: 27.5s\n",
      "400:\ttest: 0.8456949\tbest: 0.8609103 (111)\ttotal: 15.6s\tremaining: 23.3s\n",
      "500:\ttest: 0.8432923\tbest: 0.8609103 (111)\ttotal: 19.3s\tremaining: 19.2s\n",
      "600:\ttest: 0.8407359\tbest: 0.8609103 (111)\ttotal: 23.1s\tremaining: 15.4s\n",
      "700:\ttest: 0.8388282\tbest: 0.8609103 (111)\ttotal: 26.8s\tremaining: 11.4s\n",
      "800:\ttest: 0.8358282\tbest: 0.8609103 (111)\ttotal: 30.9s\tremaining: 7.67s\n",
      "900:\ttest: 0.8356949\tbest: 0.8609103 (111)\ttotal: 34.5s\tremaining: 3.79s\n",
      "999:\ttest: 0.8335590\tbest: 0.8609103 (111)\ttotal: 38s\tremaining: 0us\n",
      "\n",
      "bestTest = 0.8609102564\n",
      "bestIteration = 111\n",
      "\n",
      "Metric AUC is not calculated on train by default. To calculate this metric on train, add hints=skip_train~false to metric parameters.\n",
      "0:\ttest: 0.8068872\tbest: 0.8068872 (0)\ttotal: 33.9ms\tremaining: 33.9s\n",
      "100:\ttest: 0.8455590\tbest: 0.8455590 (100)\ttotal: 4.1s\tremaining: 36.5s\n",
      "200:\ttest: 0.8530923\tbest: 0.8530923 (200)\ttotal: 7.95s\tremaining: 31.6s\n",
      "300:\ttest: 0.8563026\tbest: 0.8563410 (292)\ttotal: 11.7s\tremaining: 27.3s\n",
      "400:\ttest: 0.8578000\tbest: 0.8578385 (398)\ttotal: 15.8s\tremaining: 23.6s\n",
      "500:\ttest: 0.8583872\tbest: 0.8584821 (476)\ttotal: 19.7s\tremaining: 19.6s\n",
      "600:\ttest: 0.8588821\tbest: 0.8589487 (593)\ttotal: 23.4s\tremaining: 15.5s\n",
      "700:\ttest: 0.8587308\tbest: 0.8590282 (605)\ttotal: 27.2s\tremaining: 11.6s\n",
      "800:\ttest: 0.8584744\tbest: 0.8590282 (605)\ttotal: 31.1s\tremaining: 7.73s\n",
      "900:\ttest: 0.8583590\tbest: 0.8590282 (605)\ttotal: 35.2s\tremaining: 3.87s\n",
      "999:\ttest: 0.8581103\tbest: 0.8590282 (605)\ttotal: 39.1s\tremaining: 0us\n",
      "\n",
      "bestTest = 0.8590282051\n",
      "bestIteration = 605\n",
      "\n",
      "Metric AUC is not calculated on train by default. To calculate this metric on train, add hints=skip_train~false to metric parameters.\n",
      "0:\ttest: 0.8068872\tbest: 0.8068872 (0)\ttotal: 35.5ms\tremaining: 35.5s\n",
      "100:\ttest: 0.8554795\tbest: 0.8574051 (69)\ttotal: 3.83s\tremaining: 34.1s\n",
      "200:\ttest: 0.8486359\tbest: 0.8574051 (69)\ttotal: 7.85s\tremaining: 31.2s\n",
      "300:\ttest: 0.8455051\tbest: 0.8574051 (69)\ttotal: 12.3s\tremaining: 28.6s\n",
      "400:\ttest: 0.8399846\tbest: 0.8574051 (69)\ttotal: 16.7s\tremaining: 25s\n",
      "500:\ttest: 0.8388077\tbest: 0.8574051 (69)\ttotal: 21.3s\tremaining: 21.2s\n",
      "600:\ttest: 0.8364026\tbest: 0.8574051 (69)\ttotal: 25.5s\tremaining: 16.9s\n",
      "700:\ttest: 0.8340974\tbest: 0.8574051 (69)\ttotal: 29.9s\tremaining: 12.8s\n",
      "800:\ttest: 0.8320769\tbest: 0.8574051 (69)\ttotal: 34.2s\tremaining: 8.51s\n",
      "900:\ttest: 0.8298923\tbest: 0.8574051 (69)\ttotal: 38.2s\tremaining: 4.2s\n",
      "999:\ttest: 0.8302846\tbest: 0.8574051 (69)\ttotal: 42.3s\tremaining: 0us\n",
      "\n",
      "bestTest = 0.8574051282\n",
      "bestIteration = 69\n",
      "\n",
      "Metric AUC is not calculated on train by default. To calculate this metric on train, add hints=skip_train~false to metric parameters.\n",
      "Training on fold [0/3]\n",
      "0:\ttest: 0.8023131\tbest: 0.8023131 (0)\ttotal: 41ms\tremaining: 41s\n",
      "100:\ttest: 0.8696792\tbest: 0.8705039 (90)\ttotal: 3.31s\tremaining: 29.5s\n",
      "200:\ttest: 0.8691616\tbest: 0.8705039 (90)\ttotal: 7.05s\tremaining: 28s\n",
      "300:\ttest: 0.8649927\tbest: 0.8705039 (90)\ttotal: 10.9s\tremaining: 25.4s\n",
      "400:\ttest: 0.8618130\tbest: 0.8705039 (90)\ttotal: 14.3s\tremaining: 21.4s\n",
      "500:\ttest: 0.8585372\tbest: 0.8705039 (90)\ttotal: 17.6s\tremaining: 17.5s\n",
      "600:\ttest: 0.8561217\tbest: 0.8705039 (90)\ttotal: 21.5s\tremaining: 14.3s\n",
      "700:\ttest: 0.8537443\tbest: 0.8705039 (90)\ttotal: 25s\tremaining: 10.7s\n",
      "800:\ttest: 0.8515755\tbest: 0.8705039 (90)\ttotal: 28.3s\tremaining: 7.03s\n",
      "900:\ttest: 0.8499874\tbest: 0.8705039 (90)\ttotal: 31.7s\tremaining: 3.48s\n",
      "999:\ttest: 0.8487870\tbest: 0.8705039 (90)\ttotal: 34.9s\tremaining: 0us\n",
      "\n",
      "bestTest = 0.8705039396\n",
      "bestIteration = 90\n",
      "\n",
      "Training on fold [1/3]\n",
      "0:\ttest: 0.7921723\tbest: 0.7921723 (0)\ttotal: 44.9ms\tremaining: 44.8s\n",
      "100:\ttest: 0.8705982\tbest: 0.8712713 (94)\ttotal: 3.77s\tremaining: 33.6s\n",
      "200:\ttest: 0.8665098\tbest: 0.8712713 (94)\ttotal: 7.4s\tremaining: 29.4s\n",
      "300:\ttest: 0.8628075\tbest: 0.8712713 (94)\ttotal: 10.7s\tremaining: 24.9s\n",
      "400:\ttest: 0.8613719\tbest: 0.8712713 (94)\ttotal: 14.4s\tremaining: 21.5s\n",
      "500:\ttest: 0.8585821\tbest: 0.8712713 (94)\ttotal: 18.2s\tremaining: 18.1s\n",
      "600:\ttest: 0.8555946\tbest: 0.8712713 (94)\ttotal: 21.6s\tremaining: 14.3s\n",
      "700:\ttest: 0.8536896\tbest: 0.8712713 (94)\ttotal: 24.9s\tremaining: 10.6s\n",
      "800:\ttest: 0.8512494\tbest: 0.8712713 (94)\ttotal: 28.5s\tremaining: 7.08s\n",
      "900:\ttest: 0.8498849\tbest: 0.8712713 (94)\ttotal: 31.9s\tremaining: 3.5s\n",
      "999:\ttest: 0.8473563\tbest: 0.8712713 (94)\ttotal: 35.6s\tremaining: 0us\n",
      "\n",
      "bestTest = 0.8712713255\n",
      "bestIteration = 94\n",
      "\n",
      "Training on fold [2/3]\n",
      "0:\ttest: 0.7876129\tbest: 0.7876129 (0)\ttotal: 29.9ms\tremaining: 29.9s\n",
      "100:\ttest: 0.8656068\tbest: 0.8656805 (98)\ttotal: 3.6s\tremaining: 32s\n",
      "200:\ttest: 0.8618255\tbest: 0.8657300 (108)\ttotal: 7.33s\tremaining: 29.1s\n",
      "300:\ttest: 0.8583852\tbest: 0.8657300 (108)\ttotal: 11.1s\tremaining: 25.7s\n",
      "400:\ttest: 0.8567639\tbest: 0.8657300 (108)\ttotal: 15.2s\tremaining: 22.7s\n",
      "500:\ttest: 0.8542379\tbest: 0.8657300 (108)\ttotal: 18.7s\tremaining: 18.6s\n",
      "600:\ttest: 0.8524682\tbest: 0.8657300 (108)\ttotal: 22.1s\tremaining: 14.7s\n",
      "700:\ttest: 0.8516927\tbest: 0.8657300 (108)\ttotal: 25.5s\tremaining: 10.9s\n",
      "800:\ttest: 0.8481899\tbest: 0.8657300 (108)\ttotal: 29s\tremaining: 7.21s\n",
      "900:\ttest: 0.8458981\tbest: 0.8657300 (108)\ttotal: 32.6s\tremaining: 3.58s\n",
      "999:\ttest: 0.8452310\tbest: 0.8657300 (108)\ttotal: 35.9s\tremaining: 0us\n",
      "\n",
      "bestTest = 0.8657299818\n",
      "bestIteration = 108\n",
      "\n"
     ]
    }
   ],
   "source": [
    "result = model.grid_search(grid, train_full_data, verbose=False)"
   ]
  },
  {
   "cell_type": "markdown",
   "id": "289d01ad",
   "metadata": {},
   "source": [
    "# Принципы sklearn"
   ]
  },
  {
   "cell_type": "markdown",
   "id": "e343836e",
   "metadata": {},
   "source": [
    "https://towardsdatascience.com/how-to-use-sklearn-pipelines-for-ridiculously-neat-code-a61ab66ca90d"
   ]
  },
  {
   "cell_type": "markdown",
   "id": "244cd60e",
   "metadata": {},
   "source": [
    "# Предобработка и фичеинжениринг"
   ]
  },
  {
   "cell_type": "markdown",
   "id": "a7b162fb",
   "metadata": {},
   "source": [
    "https://www.kaggle.com/learn/feature-engineering"
   ]
  },
  {
   "cell_type": "markdown",
   "id": "1bea2587",
   "metadata": {},
   "source": [
    "https://catboost.ai/en/docs/concepts/quantization"
   ]
  },
  {
   "cell_type": "markdown",
   "id": "dddb72df",
   "metadata": {},
   "source": [
    "# Калибровка"
   ]
  },
  {
   "cell_type": "markdown",
   "id": "e30d8e38",
   "metadata": {},
   "source": [
    "https://www.kaggle.com/residentmario/notes-on-classification-probability-calibration"
   ]
  },
  {
   "cell_type": "markdown",
   "id": "e5d7b7fe",
   "metadata": {},
   "source": [
    "#  Catboost, тексты и эмбеддинги"
   ]
  },
  {
   "cell_type": "markdown",
   "id": "4bf2ac20",
   "metadata": {},
   "source": [
    "https://github.com/catboost/catboost/blob/master/catboost/tutorials/events/2020_06_04_catboost_tutorial/text_features.ipynb"
   ]
  },
  {
   "cell_type": "markdown",
   "id": "57eb2c4d",
   "metadata": {},
   "source": [
    "https://youtu.be/ZaP5qFSIcIw?t=3802"
   ]
  }
 ],
 "metadata": {
  "kernelspec": {
   "display_name": "Python 3 (ipykernel)",
   "language": "python",
   "name": "python3"
  },
  "language_info": {
   "codemirror_mode": {
    "name": "ipython",
    "version": 3
   },
   "file_extension": ".py",
   "mimetype": "text/x-python",
   "name": "python",
   "nbconvert_exporter": "python",
   "pygments_lexer": "ipython3",
   "version": "3.9.12"
  }
 },
 "nbformat": 4,
 "nbformat_minor": 5
}
