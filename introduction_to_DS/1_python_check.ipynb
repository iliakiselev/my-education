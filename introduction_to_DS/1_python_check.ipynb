{
 "cells": [
  {
   "cell_type": "markdown",
   "id": "bb36b79e",
   "metadata": {},
   "source": [
    "## Списки"
   ]
  },
  {
   "cell_type": "code",
   "execution_count": 7,
   "id": "0a7e0ce8",
   "metadata": {},
   "outputs": [
    {
     "data": {
      "text/plain": [
       "[1, 2, 3]"
      ]
     },
     "execution_count": 7,
     "metadata": {},
     "output_type": "execute_result"
    }
   ],
   "source": [
    "nums = [1,2,3]\n",
    "nums"
   ]
  },
  {
   "cell_type": "code",
   "execution_count": 8,
   "id": "a68f46a5",
   "metadata": {},
   "outputs": [
    {
     "name": "stdout",
     "output_type": "stream",
     "text": [
      "1\n",
      "2\n",
      "3\n"
     ]
    }
   ],
   "source": [
    "for i in range(len(nums)):\n",
    "    print(nums[i])"
   ]
  },
  {
   "cell_type": "code",
   "execution_count": 11,
   "id": "235a8800",
   "metadata": {},
   "outputs": [
    {
     "name": "stdout",
     "output_type": "stream",
     "text": [
      "0 1\n",
      "1 2\n",
      "2 3\n"
     ]
    }
   ],
   "source": [
    "for index in range(len(nums)):\n",
    "    print(index,nums[index])"
   ]
  },
  {
   "cell_type": "code",
   "execution_count": 9,
   "id": "c63218ae",
   "metadata": {},
   "outputs": [
    {
     "name": "stdout",
     "output_type": "stream",
     "text": [
      "0 1\n",
      "1 2\n",
      "2 3\n"
     ]
    }
   ],
   "source": [
    "for i, num in enumerate(nums):\n",
    "    print(i,num)"
   ]
  },
  {
   "cell_type": "code",
   "execution_count": 12,
   "id": "b7f96637",
   "metadata": {},
   "outputs": [
    {
     "data": {
      "text/plain": [
       "3"
      ]
     },
     "execution_count": 12,
     "metadata": {},
     "output_type": "execute_result"
    }
   ],
   "source": [
    "nums.pop()"
   ]
  },
  {
   "cell_type": "code",
   "execution_count": 13,
   "id": "a4696fe2",
   "metadata": {},
   "outputs": [
    {
     "data": {
      "text/plain": [
       "[1, 2]"
      ]
     },
     "execution_count": 13,
     "metadata": {},
     "output_type": "execute_result"
    }
   ],
   "source": [
    "nums"
   ]
  },
  {
   "cell_type": "markdown",
   "id": "c7b74ce3",
   "metadata": {},
   "source": [
    "## Слайсинг"
   ]
  },
  {
   "cell_type": "code",
   "execution_count": 6,
   "id": "ff43e928",
   "metadata": {},
   "outputs": [],
   "source": [
    "nums = [1,2,3,4,5]"
   ]
  },
  {
   "cell_type": "code",
   "execution_count": 16,
   "id": "b0b6d3b8",
   "metadata": {},
   "outputs": [
    {
     "data": {
      "text/plain": [
       "[1, 2, 3, 4, 5]"
      ]
     },
     "execution_count": 16,
     "metadata": {},
     "output_type": "execute_result"
    }
   ],
   "source": [
    "nums"
   ]
  },
  {
   "cell_type": "code",
   "execution_count": 17,
   "id": "dcf06cab",
   "metadata": {},
   "outputs": [
    {
     "data": {
      "text/plain": [
       "[1, 2]"
      ]
     },
     "execution_count": 17,
     "metadata": {},
     "output_type": "execute_result"
    }
   ],
   "source": [
    "nums[:2]"
   ]
  },
  {
   "cell_type": "code",
   "execution_count": 18,
   "id": "c1607cc6",
   "metadata": {},
   "outputs": [
    {
     "data": {
      "text/plain": [
       "[1, 2, 3, 4]"
      ]
     },
     "execution_count": 18,
     "metadata": {},
     "output_type": "execute_result"
    }
   ],
   "source": [
    "nums[:-1]"
   ]
  },
  {
   "cell_type": "code",
   "execution_count": 20,
   "id": "a326dd5b",
   "metadata": {},
   "outputs": [
    {
     "data": {
      "text/plain": [
       "[1, 3, 5]"
      ]
     },
     "execution_count": 20,
     "metadata": {},
     "output_type": "execute_result"
    }
   ],
   "source": [
    "nums[::2]"
   ]
  },
  {
   "cell_type": "code",
   "execution_count": 21,
   "id": "41cbacc0",
   "metadata": {},
   "outputs": [
    {
     "data": {
      "text/plain": [
       "[5, 4, 3, 2, 1]"
      ]
     },
     "execution_count": 21,
     "metadata": {},
     "output_type": "execute_result"
    }
   ],
   "source": [
    "nums[::-1]"
   ]
  },
  {
   "cell_type": "markdown",
   "id": "4a2fc21c",
   "metadata": {},
   "source": [
    "## IF/THEN"
   ]
  },
  {
   "cell_type": "code",
   "execution_count": 23,
   "id": "56876bbb",
   "metadata": {},
   "outputs": [
    {
     "name": "stdout",
     "output_type": "stream",
     "text": [
      "Условие выполнилось\n"
     ]
    }
   ],
   "source": [
    "if 2 > 1:\n",
    "    print('Условие выполнилось')"
   ]
  },
  {
   "cell_type": "code",
   "execution_count": 25,
   "id": "5cc58721",
   "metadata": {},
   "outputs": [
    {
     "name": "stdout",
     "output_type": "stream",
     "text": [
      "Условие не выполнилось\n"
     ]
    }
   ],
   "source": [
    "if 1 > 2:\n",
    "    print('Условие выполнилось')\n",
    "else:\n",
    "    print('Условие не выполнилось')"
   ]
  },
  {
   "cell_type": "code",
   "execution_count": 26,
   "id": "ae024219",
   "metadata": {},
   "outputs": [
    {
     "name": "stdout",
     "output_type": "stream",
     "text": [
      "Число меньше 5\n"
     ]
    }
   ],
   "source": [
    "if num > 10:\n",
    "    print('Число больше 10')\n",
    "elif num > 5:\n",
    "    print('Число больше 5')\n",
    "else:\n",
    "    print('Число меньше 5')"
   ]
  },
  {
   "cell_type": "markdown",
   "id": "62f404e0",
   "metadata": {},
   "source": [
    "## Списочные выражения/ List comprehensions"
   ]
  },
  {
   "cell_type": "code",
   "execution_count": 28,
   "id": "cc5c96ab",
   "metadata": {},
   "outputs": [
    {
     "data": {
      "text/plain": [
       "[0, 0, 0, 0, 0, 0, 0, 0, 0, 0]"
      ]
     },
     "execution_count": 28,
     "metadata": {},
     "output_type": "execute_result"
    }
   ],
   "source": [
    "zeros = []\n",
    "for i in range(10):\n",
    "    zeros.append(0)\n",
    "zeros"
   ]
  },
  {
   "cell_type": "code",
   "execution_count": 30,
   "id": "cd555804",
   "metadata": {},
   "outputs": [
    {
     "data": {
      "text/plain": [
       "[0, 0, 0, 0, 0, 0, 0, 0, 0, 0]"
      ]
     },
     "execution_count": 30,
     "metadata": {},
     "output_type": "execute_result"
    }
   ],
   "source": [
    "zeros = [0] * 10\n",
    "zeros"
   ]
  },
  {
   "cell_type": "code",
   "execution_count": 32,
   "id": "d5c1bf2a",
   "metadata": {},
   "outputs": [
    {
     "data": {
      "text/plain": [
       "[0, 1, 2, 3, 4, 5, 6, 7, 8, 9]"
      ]
     },
     "execution_count": 32,
     "metadata": {},
     "output_type": "execute_result"
    }
   ],
   "source": [
    "numbers = []\n",
    "for i in range(10):\n",
    "    numbers.append(i)\n",
    "numbers\n"
   ]
  },
  {
   "cell_type": "code",
   "execution_count": 34,
   "id": "dbd1bc0e",
   "metadata": {},
   "outputs": [
    {
     "data": {
      "text/plain": [
       "[0, 1, 2, 3, 4, 5, 6, 7, 8, 9]"
      ]
     },
     "execution_count": 34,
     "metadata": {},
     "output_type": "execute_result"
    }
   ],
   "source": [
    "numbers = [i for i in range(10)]\n",
    "numbers"
   ]
  },
  {
   "cell_type": "raw",
   "id": "f1f2347b",
   "metadata": {},
   "source": [
    "[выражение for переменная in последовательность]"
   ]
  },
  {
   "cell_type": "markdown",
   "id": "f4bcb873",
   "metadata": {},
   "source": [
    "Создать список, заполненный кубами целых чисел от 10 до 20 можно так:`"
   ]
  },
  {
   "cell_type": "code",
   "execution_count": 36,
   "id": "07855a79",
   "metadata": {},
   "outputs": [
    {
     "data": {
      "text/plain": [
       "[1000, 1331, 1728, 2197, 2744, 3375, 4096, 4913, 5832, 6859, 8000]"
      ]
     },
     "execution_count": 36,
     "metadata": {},
     "output_type": "execute_result"
    }
   ],
   "source": [
    "cubes = [i ** 3 for i in range(10, 21)]\n",
    "cubes"
   ]
  },
  {
   "cell_type": "markdown",
   "id": "52390e46",
   "metadata": {},
   "source": [
    "Создать список, заполненный символами строки:"
   ]
  },
  {
   "cell_type": "code",
   "execution_count": 38,
   "id": "bea04932",
   "metadata": {},
   "outputs": [
    {
     "name": "stdout",
     "output_type": "stream",
     "text": [
      "['a', 'b', 'c', 'd', 'e', 'f', 'g']\n"
     ]
    }
   ],
   "source": [
    "chars = [c for c in 'abcdefg']\n",
    "print(chars)\n"
   ]
  },
  {
   "cell_type": "markdown",
   "id": "8662952e",
   "metadata": {},
   "source": [
    "Например, если сначала вводится число n – количество строк, а затем сами строки, то создать список можно так:"
   ]
  },
  {
   "cell_type": "code",
   "execution_count": 2,
   "id": "615f60af",
   "metadata": {
    "scrolled": true
   },
   "outputs": [
    {
     "name": "stdout",
     "output_type": "stream",
     "text": [
      "3\n",
      "12\n",
      "213\n",
      "12\n"
     ]
    },
    {
     "data": {
      "text/plain": [
       "['12', '213', '12']"
      ]
     },
     "execution_count": 2,
     "metadata": {},
     "output_type": "execute_result"
    }
   ],
   "source": [
    "lines = [input() for _ in range(int(input()))]\n",
    "lines"
   ]
  },
  {
   "cell_type": "markdown",
   "id": "bbbd4032",
   "metadata": {},
   "source": [
    "Если требуется считать список чисел, то необходимо добавить преобразование типов:"
   ]
  },
  {
   "cell_type": "code",
   "execution_count": 1,
   "id": "f727aa82",
   "metadata": {},
   "outputs": [
    {
     "name": "stdout",
     "output_type": "stream",
     "text": [
      "2\n",
      "12314\n",
      "123213\n"
     ]
    },
    {
     "data": {
      "text/plain": [
       "[12314, 123213]"
      ]
     },
     "execution_count": 1,
     "metadata": {},
     "output_type": "execute_result"
    }
   ],
   "source": [
    "numbers = [int(input()) for _ in range(int(input()))]\n",
    "numbers\n"
   ]
  },
  {
   "cell_type": "code",
   "execution_count": 3,
   "id": "5de67c4f",
   "metadata": {},
   "outputs": [
    {
     "data": {
      "text/plain": [
       "[0, 2, 4, 6, 8, 10, 12, 14, 16, 18, 20]"
      ]
     },
     "execution_count": 3,
     "metadata": {},
     "output_type": "execute_result"
    }
   ],
   "source": [
    "evens = [i for i in range(21) if i % 2 == 0]\n",
    "evens"
   ]
  },
  {
   "cell_type": "markdown",
   "id": "1c2c2f49",
   "metadata": {},
   "source": [
    "С условием:"
   ]
  },
  {
   "cell_type": "code",
   "execution_count": 8,
   "id": "89474769",
   "metadata": {},
   "outputs": [
    {
     "data": {
      "text/plain": [
       "[False, False, True, True, True]"
      ]
     },
     "execution_count": 8,
     "metadata": {},
     "output_type": "execute_result"
    }
   ],
   "source": [
    "new = []\n",
    "for num in nums:\n",
    "    if num > 2:\n",
    "        new.append(True)\n",
    "    else:\n",
    "        new.append(False)\n",
    "new"
   ]
  },
  {
   "cell_type": "code",
   "execution_count": 9,
   "id": "e76140a7",
   "metadata": {},
   "outputs": [
    {
     "data": {
      "text/plain": [
       "[False, False, True, True, True]"
      ]
     },
     "execution_count": 9,
     "metadata": {},
     "output_type": "execute_result"
    }
   ],
   "source": [
    "[True if num > 2 else False for num in nums]"
   ]
  },
  {
   "cell_type": "markdown",
   "id": "b4ffde12",
   "metadata": {},
   "source": [
    "Вложенные списки:"
   ]
  },
  {
   "cell_type": "code",
   "execution_count": 10,
   "id": "59f8b372",
   "metadata": {},
   "outputs": [
    {
     "data": {
      "text/plain": [
       "[[1, 1, 1], [1, 1, 1], [1, 1, 1]]"
      ]
     },
     "execution_count": 10,
     "metadata": {},
     "output_type": "execute_result"
    }
   ],
   "source": [
    "[[1 for _ in range(3)] for _ in range(3)]"
   ]
  },
  {
   "cell_type": "markdown",
   "id": "dafb12ea",
   "metadata": {},
   "source": [
    "## Функции\n"
   ]
  },
  {
   "cell_type": "code",
   "execution_count": 11,
   "id": "f5be40a7",
   "metadata": {},
   "outputs": [],
   "source": [
    "def mult(nums,k):\n",
    "    new = []\n",
    "    for num in nums:\n",
    "        new.append(num * k)\n",
    "    return new"
   ]
  },
  {
   "cell_type": "code",
   "execution_count": 12,
   "id": "1d6915fa",
   "metadata": {},
   "outputs": [
    {
     "data": {
      "text/plain": [
       "[1220, 20, 20]"
      ]
     },
     "execution_count": 12,
     "metadata": {},
     "output_type": "execute_result"
    }
   ],
   "source": [
    "mult([122,2,2],10)"
   ]
  },
  {
   "cell_type": "markdown",
   "id": "15671895",
   "metadata": {},
   "source": [
    "## Словарь"
   ]
  },
  {
   "cell_type": "markdown",
   "id": "4d2cfc66",
   "metadata": {},
   "source": [
    "Списочки"
   ]
  },
  {
   "cell_type": "code",
   "execution_count": 13,
   "id": "e397c026",
   "metadata": {},
   "outputs": [
    {
     "data": {
      "text/plain": [
       "[('a', 11), ('b', 1234), ('c', 33)]"
      ]
     },
     "execution_count": 13,
     "metadata": {},
     "output_type": "execute_result"
    }
   ],
   "source": [
    "arr = [('a',11),('b',1234),('c',33)]\n",
    "arr"
   ]
  },
  {
   "cell_type": "code",
   "execution_count": 21,
   "id": "de3e4798",
   "metadata": {},
   "outputs": [
    {
     "name": "stdout",
     "output_type": "stream",
     "text": [
      "('a', 11)\n",
      "('b', 1234)\n",
      "('c', 33)\n"
     ]
    }
   ],
   "source": [
    "for element in arr:\n",
    "    print(element)"
   ]
  },
  {
   "cell_type": "code",
   "execution_count": 29,
   "id": "9226fe1d",
   "metadata": {},
   "outputs": [
    {
     "data": {
      "text/plain": [
       "('a', 11)"
      ]
     },
     "execution_count": 29,
     "metadata": {},
     "output_type": "execute_result"
    }
   ],
   "source": [
    "arr[0]"
   ]
  },
  {
   "cell_type": "code",
   "execution_count": 25,
   "id": "22f03620",
   "metadata": {},
   "outputs": [
    {
     "name": "stdout",
     "output_type": "stream",
     "text": [
      "33\n"
     ]
    }
   ],
   "source": [
    "for element in arr:\n",
    "    if element[0] == 'c':\n",
    "        print(element[1])"
   ]
  },
  {
   "cell_type": "code",
   "execution_count": 18,
   "id": "d52881f5",
   "metadata": {},
   "outputs": [
    {
     "data": {
      "text/plain": [
       "('a', 11)"
      ]
     },
     "execution_count": 18,
     "metadata": {},
     "output_type": "execute_result"
    }
   ],
   "source": [
    "arr[0]"
   ]
  },
  {
   "cell_type": "markdown",
   "id": "9223c487",
   "metadata": {},
   "source": [
    "Словарики"
   ]
  },
  {
   "cell_type": "code",
   "execution_count": 30,
   "id": "952733de",
   "metadata": {},
   "outputs": [],
   "source": [
    "d = {'a':11,'b':1234,'c':33}"
   ]
  },
  {
   "cell_type": "code",
   "execution_count": 31,
   "id": "b299bce3",
   "metadata": {},
   "outputs": [
    {
     "data": {
      "text/plain": [
       "33"
      ]
     },
     "execution_count": 31,
     "metadata": {},
     "output_type": "execute_result"
    }
   ],
   "source": [
    "d['c']"
   ]
  },
  {
   "cell_type": "code",
   "execution_count": 33,
   "id": "33e22931",
   "metadata": {},
   "outputs": [],
   "source": [
    "var = 'c'"
   ]
  },
  {
   "cell_type": "code",
   "execution_count": 34,
   "id": "d80e8022",
   "metadata": {},
   "outputs": [
    {
     "data": {
      "text/plain": [
       "33"
      ]
     },
     "execution_count": 34,
     "metadata": {},
     "output_type": "execute_result"
    }
   ],
   "source": [
    "d[var]"
   ]
  },
  {
   "cell_type": "code",
   "execution_count": 36,
   "id": "810be403",
   "metadata": {},
   "outputs": [
    {
     "data": {
      "text/plain": [
       "33"
      ]
     },
     "execution_count": 36,
     "metadata": {},
     "output_type": "execute_result"
    }
   ],
   "source": [
    "d.get('c','ничего не найдено')"
   ]
  },
  {
   "cell_type": "code",
   "execution_count": 37,
   "id": "f183ec72",
   "metadata": {},
   "outputs": [
    {
     "data": {
      "text/plain": [
       "'ничего не найдено'"
      ]
     },
     "execution_count": 37,
     "metadata": {},
     "output_type": "execute_result"
    }
   ],
   "source": [
    "d.get('cdrfsda','ничего не найдено')"
   ]
  },
  {
   "cell_type": "markdown",
   "id": "2a82a07c",
   "metadata": {},
   "source": [
    "## Сэт"
   ]
  },
  {
   "cell_type": "code",
   "execution_count": 39,
   "id": "9ca824ca",
   "metadata": {},
   "outputs": [
    {
     "data": {
      "text/plain": [
       "{1, 2, 3, 4}"
      ]
     },
     "execution_count": 39,
     "metadata": {},
     "output_type": "execute_result"
    }
   ],
   "source": [
    "{1,2,3,4} \n",
    "#всегда уникальные значения"
   ]
  },
  {
   "cell_type": "code",
   "execution_count": 40,
   "id": "185f038c",
   "metadata": {},
   "outputs": [
    {
     "data": {
      "text/plain": [
       "{1, 2, 3}"
      ]
     },
     "execution_count": 40,
     "metadata": {},
     "output_type": "execute_result"
    }
   ],
   "source": [
    "nums = [1,2,2,2,3,3]\n",
    "nums_set = set(nums)\n",
    "nums_set"
   ]
  },
  {
   "cell_type": "code",
   "execution_count": 41,
   "id": "d6f274c5",
   "metadata": {},
   "outputs": [
    {
     "data": {
      "text/plain": [
       "False"
      ]
     },
     "execution_count": 41,
     "metadata": {},
     "output_type": "execute_result"
    }
   ],
   "source": [
    "4 in nums_set"
   ]
  },
  {
   "cell_type": "code",
   "execution_count": 43,
   "id": "e35a5ad5",
   "metadata": {},
   "outputs": [
    {
     "data": {
      "text/plain": [
       "True"
      ]
     },
     "execution_count": 43,
     "metadata": {},
     "output_type": "execute_result"
    }
   ],
   "source": [
    "3 in nums_set"
   ]
  },
  {
   "cell_type": "code",
   "execution_count": 44,
   "id": "621d454d",
   "metadata": {},
   "outputs": [],
   "source": [
    "s1 = {1,2,3}\n",
    "s2 = {2,3}"
   ]
  },
  {
   "cell_type": "code",
   "execution_count": 45,
   "id": "7acd35c8",
   "metadata": {},
   "outputs": [
    {
     "data": {
      "text/plain": [
       "{1}"
      ]
     },
     "execution_count": 45,
     "metadata": {},
     "output_type": "execute_result"
    }
   ],
   "source": [
    "s1 - s2"
   ]
  },
  {
   "cell_type": "code",
   "execution_count": 47,
   "id": "78dda242",
   "metadata": {},
   "outputs": [
    {
     "data": {
      "text/plain": [
       "set()"
      ]
     },
     "execution_count": 47,
     "metadata": {},
     "output_type": "execute_result"
    }
   ],
   "source": [
    "s2 - s1"
   ]
  },
  {
   "cell_type": "code",
   "execution_count": 48,
   "id": "3939fcb2",
   "metadata": {},
   "outputs": [
    {
     "data": {
      "text/plain": [
       "{2, 3}"
      ]
     },
     "execution_count": 48,
     "metadata": {},
     "output_type": "execute_result"
    }
   ],
   "source": [
    "s1.intersection(s2)"
   ]
  },
  {
   "cell_type": "code",
   "execution_count": 49,
   "id": "5d63553e",
   "metadata": {},
   "outputs": [
    {
     "data": {
      "text/plain": [
       "{1, 2, 3, 5}"
      ]
     },
     "execution_count": 49,
     "metadata": {},
     "output_type": "execute_result"
    }
   ],
   "source": [
    "s1 = {1,2,3}\n",
    "s2 = {2,3,5}\n",
    "s1.union(s2)"
   ]
  },
  {
   "cell_type": "markdown",
   "id": "d16e60f1",
   "metadata": {},
   "source": [
    "## Конкатенация"
   ]
  },
  {
   "cell_type": "code",
   "execution_count": 50,
   "id": "e55d3925",
   "metadata": {},
   "outputs": [
    {
     "data": {
      "text/plain": [
       "'глеб-хлеб'"
      ]
     },
     "execution_count": 50,
     "metadata": {},
     "output_type": "execute_result"
    }
   ],
   "source": [
    "'глеб' + '-' + 'хлеб'"
   ]
  },
  {
   "cell_type": "code",
   "execution_count": 51,
   "id": "768ecbef",
   "metadata": {},
   "outputs": [
    {
     "data": {
      "text/plain": [
       "[1, 2, 2]"
      ]
     },
     "execution_count": 51,
     "metadata": {},
     "output_type": "execute_result"
    }
   ],
   "source": [
    "[1] + [2,2]"
   ]
  },
  {
   "cell_type": "code",
   "execution_count": 52,
   "id": "f57456a3",
   "metadata": {},
   "outputs": [
    {
     "data": {
      "text/plain": [
       "'глебглебглеб-хлеб'"
      ]
     },
     "execution_count": 52,
     "metadata": {},
     "output_type": "execute_result"
    }
   ],
   "source": [
    "'глеб' * 3 + '-' + 'хлеб'"
   ]
  },
  {
   "cell_type": "markdown",
   "id": "8046bc26",
   "metadata": {},
   "source": [
    "## While"
   ]
  },
  {
   "cell_type": "code",
   "execution_count": 53,
   "id": "caada2cd",
   "metadata": {},
   "outputs": [],
   "source": [
    "nums = [1,2,3,4,5,6]"
   ]
  },
  {
   "cell_type": "code",
   "execution_count": 54,
   "id": "b0b2147e",
   "metadata": {},
   "outputs": [],
   "source": [
    "while len(nums) > 2:\n",
    "    nums.pop()"
   ]
  },
  {
   "cell_type": "code",
   "execution_count": 55,
   "id": "ded42a6e",
   "metadata": {},
   "outputs": [
    {
     "data": {
      "text/plain": [
       "[1, 2]"
      ]
     },
     "execution_count": 55,
     "metadata": {},
     "output_type": "execute_result"
    }
   ],
   "source": [
    "nums"
   ]
  },
  {
   "cell_type": "markdown",
   "id": "eb5a63e7",
   "metadata": {},
   "source": [
    "## Классы. Основы ООП"
   ]
  },
  {
   "cell_type": "code",
   "execution_count": 56,
   "id": "3a959e74",
   "metadata": {},
   "outputs": [],
   "source": [
    "it_specialists = [('Jon','DE',150),\n",
    "                  ('Carl','DA',120),\n",
    "                  ('Gleb','DS',300)]"
   ]
  },
  {
   "cell_type": "code",
   "execution_count": 69,
   "id": "93249f3d",
   "metadata": {},
   "outputs": [],
   "source": [
    "class ItSpecialists:\n",
    "    def __init__(self, name, speciality, salary):\n",
    "        self.name = name\n",
    "        self.speciality = speciality\n",
    "        self.salary = salary\n",
    "    def tell_about_yourself(self):\n",
    "        return f'Hi! My name is {self.name}. I\\'m a {self.speciality}. My salary is {self.salary}'"
   ]
  },
  {
   "cell_type": "code",
   "execution_count": 58,
   "id": "2851f2e6",
   "metadata": {},
   "outputs": [],
   "source": [
    "jon = ItSpecialists('Jon','DE',150)"
   ]
  },
  {
   "cell_type": "code",
   "execution_count": 59,
   "id": "863b8e9a",
   "metadata": {},
   "outputs": [
    {
     "data": {
      "text/plain": [
       "<__main__.ItSpecialists at 0x6846d30>"
      ]
     },
     "execution_count": 59,
     "metadata": {},
     "output_type": "execute_result"
    }
   ],
   "source": [
    "jon"
   ]
  },
  {
   "cell_type": "code",
   "execution_count": 60,
   "id": "40c0d38f",
   "metadata": {},
   "outputs": [
    {
     "data": {
      "text/plain": [
       "'Jon'"
      ]
     },
     "execution_count": 60,
     "metadata": {},
     "output_type": "execute_result"
    }
   ],
   "source": [
    "jon.name"
   ]
  },
  {
   "cell_type": "code",
   "execution_count": 61,
   "id": "d818aff5",
   "metadata": {},
   "outputs": [
    {
     "data": {
      "text/plain": [
       "150"
      ]
     },
     "execution_count": 61,
     "metadata": {},
     "output_type": "execute_result"
    }
   ],
   "source": [
    "jon.salary"
   ]
  },
  {
   "cell_type": "code",
   "execution_count": 70,
   "id": "41b55b0c",
   "metadata": {},
   "outputs": [],
   "source": [
    "carl = ItSpecialists('Carl','DA',120)"
   ]
  },
  {
   "cell_type": "code",
   "execution_count": 71,
   "id": "37081db2",
   "metadata": {},
   "outputs": [
    {
     "data": {
      "text/plain": [
       "<__main__.ItSpecialists at 0x6846208>"
      ]
     },
     "execution_count": 71,
     "metadata": {},
     "output_type": "execute_result"
    }
   ],
   "source": [
    "carl"
   ]
  },
  {
   "cell_type": "code",
   "execution_count": 72,
   "id": "f966a090",
   "metadata": {},
   "outputs": [
    {
     "data": {
      "text/plain": [
       "\"Hi! My name is Carl. I'm a DA. My salary is 120\""
      ]
     },
     "execution_count": 72,
     "metadata": {},
     "output_type": "execute_result"
    }
   ],
   "source": [
    "carl.tell_about_yourself()"
   ]
  },
  {
   "cell_type": "markdown",
   "id": "a2d97cc1",
   "metadata": {},
   "source": [
    "Про наследование чуть-чуть"
   ]
  },
  {
   "cell_type": "code",
   "execution_count": 74,
   "id": "e44e0a74",
   "metadata": {},
   "outputs": [],
   "source": [
    "class DataScientist(ItSpecialists):\n",
    "    def __init__(self,name,salary):\n",
    "        super().__init__(name,'DS',salary)\n",
    "    def tell_about_yourself(self):\n",
    "        return f'Hi! My name is {self.name}. I\\'m a {self.speciality}. My salary is {self.salary}k per second'\n",
    "    def ml(self,data):\n",
    "        return 'profit for company (and myself)'"
   ]
  },
  {
   "cell_type": "code",
   "execution_count": 75,
   "id": "5f730a5d",
   "metadata": {},
   "outputs": [],
   "source": [
    "gleb = DataScientist('Gleb',300)"
   ]
  },
  {
   "cell_type": "code",
   "execution_count": 80,
   "id": "6b538d46",
   "metadata": {},
   "outputs": [
    {
     "data": {
      "text/plain": [
       "\"Hi! My name is Gleb. I'm a DS. My salary is 300k per second\""
      ]
     },
     "execution_count": 80,
     "metadata": {},
     "output_type": "execute_result"
    }
   ],
   "source": [
    "gleb.tell_about_yourself()"
   ]
  },
  {
   "cell_type": "code",
   "execution_count": 81,
   "id": "fec2613e",
   "metadata": {},
   "outputs": [
    {
     "data": {
      "text/plain": [
       "'DS'"
      ]
     },
     "execution_count": 81,
     "metadata": {},
     "output_type": "execute_result"
    }
   ],
   "source": [
    "gleb.speciality"
   ]
  },
  {
   "cell_type": "code",
   "execution_count": 83,
   "id": "f161fb7f",
   "metadata": {},
   "outputs": [
    {
     "data": {
      "text/plain": [
       "'profit for company (and myself)'"
      ]
     },
     "execution_count": 83,
     "metadata": {},
     "output_type": "execute_result"
    }
   ],
   "source": [
    "gleb.ml(25)"
   ]
  }
 ],
 "metadata": {
  "kernelspec": {
   "display_name": "Python 3 (ipykernel)",
   "language": "python",
   "name": "python3"
  },
  "language_info": {
   "codemirror_mode": {
    "name": "ipython",
    "version": 3
   },
   "file_extension": ".py",
   "mimetype": "text/x-python",
   "name": "python",
   "nbconvert_exporter": "python",
   "pygments_lexer": "ipython3",
   "version": "3.9.7"
  }
 },
 "nbformat": 4,
 "nbformat_minor": 5
}
