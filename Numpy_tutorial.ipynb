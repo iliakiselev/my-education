{
 "cells": [
  {
   "cell_type": "markdown",
   "id": "ca6ea536",
   "metadata": {},
   "source": [
    "NumPy - это open-source модуль для python, который предоставляет общие математические и числовые операции"
   ]
  },
  {
   "cell_type": "markdown",
   "id": "63a33d78",
   "metadata": {},
   "source": [
    "# Подключение"
   ]
  },
  {
   "cell_type": "code",
   "execution_count": 4,
   "id": "59745c7d",
   "metadata": {},
   "outputs": [],
   "source": [
    "#традиционный вариант подключения\n",
    "import numpy as np"
   ]
  },
  {
   "cell_type": "markdown",
   "id": "00b39902",
   "metadata": {},
   "source": [
    "# Особые константы"
   ]
  },
  {
   "cell_type": "markdown",
   "id": "0c63f8d7",
   "metadata": {},
   "source": [
    "Numpy реализует несколько особых значнений через константы. Например:"
   ]
  },
  {
   "cell_type": "code",
   "execution_count": 5,
   "id": "0156f683",
   "metadata": {},
   "outputs": [
    {
     "data": {
      "text/plain": [
       "nan"
      ]
     },
     "execution_count": 5,
     "metadata": {},
     "output_type": "execute_result"
    }
   ],
   "source": [
    "np.NaN\n",
    "# not a number - Не число"
   ]
  },
  {
   "cell_type": "code",
   "execution_count": 6,
   "id": "dd730a93",
   "metadata": {},
   "outputs": [
    {
     "data": {
      "text/plain": [
       "inf"
      ]
     },
     "execution_count": 6,
     "metadata": {},
     "output_type": "execute_result"
    }
   ],
   "source": [
    "np.Inf\n",
    "# infinity - бесконечно "
   ]
  },
  {
   "cell_type": "markdown",
   "id": "f6d75637",
   "metadata": {},
   "source": [
    "# Массивы"
   ]
  },
  {
   "cell_type": "markdown",
   "id": "eab6ae80",
   "metadata": {},
   "source": [
    "Основной элемент в Numpy - это массив. \\\n",
    "\\\n",
    "Массивы из библиотеки Numpy работают быстрее в 10-100 раз чем наши любимые питоновские списки (list).  \\\n",
    "\\\n",
    "А еще они сильно меньше потребляют оперативной памяти. Это важно, когда вы работаете с реальными проектами."
   ]
  },
  {
   "cell_type": "code",
   "execution_count": 12,
   "id": "bcea64eb",
   "metadata": {},
   "outputs": [
    {
     "name": "stdout",
     "output_type": "stream",
     "text": [
      "Wall time: 2.15 s\n"
     ]
    }
   ],
   "source": [
    "lst = list(range(1_000_000))\n",
    "len(lst)\n",
    "\n",
    "%time for _ in range(10): lst2 = [x ** 2 for x in lst]"
   ]
  },
  {
   "cell_type": "code",
   "execution_count": 13,
   "id": "70042df6",
   "metadata": {},
   "outputs": [
    {
     "name": "stdout",
     "output_type": "stream",
     "text": [
      "Wall time: 19 ms\n"
     ]
    }
   ],
   "source": [
    "arr = np.arange(1_000_000)\n",
    "\n",
    "%time for _ in range(10): arr2 = arr ** 2"
   ]
  },
  {
   "cell_type": "markdown",
   "id": "3f7be35a",
   "metadata": {},
   "source": [
    "## Создание массива:"
   ]
  },
  {
   "cell_type": "markdown",
   "id": "4d4484b0",
   "metadata": {},
   "source": [
    "Самый простой способ создать Numpy массив с помощью функции array. \\\n",
    "\\\n",
    "При этом всем элементы в array должны быть одного типа, что отличает его от классического списка (list) Python."
   ]
  },
  {
   "cell_type": "code",
   "execution_count": 9,
   "id": "1f8b0e1b",
   "metadata": {},
   "outputs": [
    {
     "name": "stdout",
     "output_type": "stream",
     "text": [
      "Массив: [1. 2. 3. 4.]\n",
      "Тип:  <class 'numpy.ndarray'>\n",
      "Обратное преобразование:  [1.0, 2.0, 3.0, 4.0]\n"
     ]
    }
   ],
   "source": [
    "a = np.array([1, 2, 3, 4], float)\n",
    "\n",
    "print('Массив:', a)\n",
    "print('Тип: ',type(a))\n",
    "# обратное преобразование\n",
    "print('Обратное преобразование: ', a.tolist())"
   ]
  },
  {
   "cell_type": "code",
   "execution_count": 10,
   "id": "abd1eb2d",
   "metadata": {},
   "outputs": [
    {
     "name": "stdout",
     "output_type": "stream",
     "text": [
      "1:  1.0\n",
      "2:  [2. 3.]\n",
      "3:  4.0\n",
      "4:  5.0\n"
     ]
    }
   ],
   "source": [
    "# показыаем, что можно также работать с np.array, как и с обычным list\n",
    "\n",
    "print('1: ', a[0])\n",
    "print('2: ', a[1:3])\n",
    "print('3: ', a[-1])\n",
    "a[0] = 5\n",
    "print('4: ', a[0])"
   ]
  },
  {
   "cell_type": "code",
   "execution_count": 14,
   "id": "a0478507",
   "metadata": {},
   "outputs": [
    {
     "data": {
      "text/plain": [
       "array([1, 2, 3, 4, 5])"
      ]
     },
     "execution_count": 14,
     "metadata": {},
     "output_type": "execute_result"
    }
   ],
   "source": [
    "lst = [1, 2, 3, 4, 5]\n",
    "arr1 = np.array(lst)\n",
    "arr1"
   ]
  },
  {
   "cell_type": "code",
   "execution_count": 15,
   "id": "32be02ae",
   "metadata": {},
   "outputs": [
    {
     "data": {
      "text/plain": [
       "array([[1, 2, 3],\n",
       "       [4, 5, 6]])"
      ]
     },
     "execution_count": 15,
     "metadata": {},
     "output_type": "execute_result"
    }
   ],
   "source": []
  },
  {
   "cell_type": "markdown",
   "id": "0d16a3d2",
   "metadata": {},
   "source": [
    "## Многомерные массивы"
   ]
  },
  {
   "cell_type": "markdown",
   "id": "30a2f5b1",
   "metadata": {},
   "source": [
    "Большая ценность numpy в том, что можно работать и многомерными массивами. Например, любое изображение - как минимум двумерный массив."
   ]
  },
  {
   "cell_type": "code",
   "execution_count": 16,
   "id": "c2c02c0e",
   "metadata": {},
   "outputs": [
    {
     "name": "stdout",
     "output_type": "stream",
     "text": [
      "0:  [[1 2 3]\n",
      " [4 5 6]]\n",
      "1:  1\n",
      "2:  4\n",
      "3:  2\n"
     ]
    }
   ],
   "source": [
    "a = np.array([[1, 2, 3], [4, 5, 6]], int)\n",
    "print('0: ', a)\n",
    "print('1: ', a[0,0])\n",
    "print('2: ', a[1,0])\n",
    "print('3: ', a[0,1])"
   ]
  },
  {
   "cell_type": "code",
   "execution_count": 17,
   "id": "5ef4b4a5",
   "metadata": {},
   "outputs": [
    {
     "name": "stdout",
     "output_type": "stream",
     "text": [
      "4:  [4 5 6]\n",
      "5:  [3 6]\n",
      "6:  [[5 6]]\n"
     ]
    }
   ],
   "source": [
    "# срезы (сленг - слайсы) с двмерным массивом\n",
    "print('4: ', a[1,:])\n",
    "print('5: ', a[:,2])\n",
    "print('6: ', a[-1:, -2:])"
   ]
  },
  {
   "cell_type": "code",
   "execution_count": 18,
   "id": "f5fd0b15",
   "metadata": {},
   "outputs": [
    {
     "data": {
      "text/plain": [
       "array([[1, 2, 3],\n",
       "       [4, 5, 6]])"
      ]
     },
     "execution_count": 18,
     "metadata": {},
     "output_type": "execute_result"
    }
   ],
   "source": [
    "lst2 = [[1,2,3],[4,5,6]]\n",
    "arr2 = np.array(lst2)\n",
    "arr2"
   ]
  },
  {
   "cell_type": "code",
   "execution_count": null,
   "id": "58dfe104",
   "metadata": {},
   "outputs": [],
   "source": []
  },
  {
   "cell_type": "markdown",
   "id": "571e8ff3",
   "metadata": {},
   "source": [
    "## Как измерить длину списка?\n"
   ]
  },
  {
   "cell_type": "markdown",
   "id": "78eee527",
   "metadata": {},
   "source": [
    "Для списка используется *len* (выводит подмассивы), для массива(С вложенными штуками) используем *shape*, оно выдает количество массивов и количество подмассивов."
   ]
  },
  {
   "cell_type": "code",
   "execution_count": 20,
   "id": "d595d40b",
   "metadata": {},
   "outputs": [
    {
     "data": {
      "text/plain": [
       "5"
      ]
     },
     "execution_count": 20,
     "metadata": {},
     "output_type": "execute_result"
    }
   ],
   "source": [
    "len(lst)"
   ]
  },
  {
   "cell_type": "code",
   "execution_count": 21,
   "id": "fbdd57c0",
   "metadata": {},
   "outputs": [
    {
     "data": {
      "text/plain": [
       "6"
      ]
     },
     "execution_count": 21,
     "metadata": {},
     "output_type": "execute_result"
    }
   ],
   "source": [
    "len(arr2[0])+len(arr2[1])"
   ]
  },
  {
   "cell_type": "markdown",
   "id": "ff82a156",
   "metadata": {},
   "source": [
    "## Характеристики объектов numpy"
   ]
  },
  {
   "cell_type": "code",
   "execution_count": 24,
   "id": "2a805b1a",
   "metadata": {},
   "outputs": [
    {
     "data": {
      "text/plain": [
       "(2, 3)"
      ]
     },
     "execution_count": 24,
     "metadata": {},
     "output_type": "execute_result"
    }
   ],
   "source": [
    "# shape - выводит количество массивов и подмассивов.\n",
    "a.shape"
   ]
  },
  {
   "cell_type": "code",
   "execution_count": 23,
   "id": "8b38578c",
   "metadata": {},
   "outputs": [
    {
     "data": {
      "text/plain": [
       "dtype('int32')"
      ]
     },
     "execution_count": 23,
     "metadata": {},
     "output_type": "execute_result"
    }
   ],
   "source": [
    "# тип данных внутри\n",
    "# напоминаем, массив numpy может хранить только один тип данных\n",
    "a.dtype"
   ]
  },
  {
   "cell_type": "code",
   "execution_count": 25,
   "id": "4be84ca1",
   "metadata": {},
   "outputs": [
    {
     "data": {
      "text/plain": [
       "2"
      ]
     },
     "execution_count": 25,
     "metadata": {},
     "output_type": "execute_result"
    }
   ],
   "source": [
    "# ndim - показывает какое у нас пространство, видно что двухмерное, так как массив двухмерный\n",
    "a.ndim"
   ]
  },
  {
   "cell_type": "markdown",
   "id": "da75c673",
   "metadata": {},
   "source": [
    "1) Когда вы создаете массив, Numpy пытается понять из каких элементов вы пытаетесь его создать и подбирает наиболее подходящий тип данных.\n",
    "\n",
    "2) Свойство dtype подскажет, какой тип данных у каждого элемента вашего массива."
   ]
  },
  {
   "cell_type": "markdown",
   "id": "b7cf4322",
   "metadata": {},
   "source": [
    "## Действия с массивами"
   ]
  },
  {
   "cell_type": "code",
   "execution_count": 31,
   "id": "1b2848ae",
   "metadata": {},
   "outputs": [
    {
     "data": {
      "text/plain": [
       "array([[1, 2],\n",
       "       [3, 4],\n",
       "       [5, 6]])"
      ]
     },
     "execution_count": 31,
     "metadata": {},
     "output_type": "execute_result"
    }
   ],
   "source": [
    "# изменения массива, поменять строки со столбцами\n",
    "a.reshape(3,2)\n",
    "# в процессе изменения размера создан новый массив, а не изменён старый"
   ]
  },
  {
   "cell_type": "code",
   "execution_count": 29,
   "id": "260d528a",
   "metadata": {},
   "outputs": [
    {
     "data": {
      "text/plain": [
       "array([1, 2, 3, 4, 5, 6])"
      ]
     },
     "execution_count": 29,
     "metadata": {},
     "output_type": "execute_result"
    }
   ],
   "source": [
    "# с помощью этой команды можно вытянуть массив в одномерную \"строку\"\n",
    "a.flatten()"
   ]
  },
  {
   "cell_type": "markdown",
   "id": "66164183",
   "metadata": {},
   "source": [
    "## Создание по-разному заполненных массивов"
   ]
  },
  {
   "cell_type": "code",
   "execution_count": 32,
   "id": "ff6d4006",
   "metadata": {},
   "outputs": [
    {
     "name": "stdout",
     "output_type": "stream",
     "text": [
      "[0 1 2 3 4]\n",
      "[1 3 5]\n"
     ]
    }
   ],
   "source": [
    "# аналог range для массивов\n",
    "print(np.arange(5))\n",
    "print(np.arange(1, 6, 2))"
   ]
  },
  {
   "cell_type": "code",
   "execution_count": 33,
   "id": "82f6dd10",
   "metadata": {},
   "outputs": [
    {
     "data": {
      "text/plain": [
       "array([[1., 1., 1.],\n",
       "       [1., 1., 1.]])"
      ]
     },
     "execution_count": 33,
     "metadata": {},
     "output_type": "execute_result"
    }
   ],
   "source": [
    "np.ones((2,3))"
   ]
  },
  {
   "cell_type": "code",
   "execution_count": 34,
   "id": "3cd9f6e1",
   "metadata": {},
   "outputs": [
    {
     "data": {
      "text/plain": [
       "array([[0., 0., 0., 0.],\n",
       "       [0., 0., 0., 0.],\n",
       "       [0., 0., 0., 0.],\n",
       "       [0., 0., 0., 0.],\n",
       "       [0., 0., 0., 0.]])"
      ]
     },
     "execution_count": 34,
     "metadata": {},
     "output_type": "execute_result"
    }
   ],
   "source": [
    "np.zeros((5,4))"
   ]
  },
  {
   "cell_type": "code",
   "execution_count": 35,
   "id": "90a0c016",
   "metadata": {},
   "outputs": [
    {
     "data": {
      "text/plain": [
       "array([[1., 0., 0., 0.],\n",
       "       [0., 1., 0., 0.],\n",
       "       [0., 0., 1., 0.],\n",
       "       [0., 0., 0., 1.]])"
      ]
     },
     "execution_count": 35,
     "metadata": {},
     "output_type": "execute_result"
    }
   ],
   "source": [
    "np.identity(4)"
   ]
  },
  {
   "cell_type": "code",
   "execution_count": 37,
   "id": "21f7ea24",
   "metadata": {},
   "outputs": [
    {
     "data": {
      "text/plain": [
       "array([[0., 0., 0., 0., 0.],\n",
       "       [1., 0., 0., 0., 0.],\n",
       "       [0., 1., 0., 0., 0.],\n",
       "       [0., 0., 1., 0., 0.],\n",
       "       [0., 0., 0., 1., 0.]])"
      ]
     },
     "execution_count": 37,
     "metadata": {},
     "output_type": "execute_result"
    }
   ],
   "source": [
    "# k - номер диагонали, заполненный единицами\n",
    "np.eye(5, k=-1)"
   ]
  },
  {
   "cell_type": "code",
   "execution_count": 38,
   "id": "721cf642",
   "metadata": {},
   "outputs": [
    {
     "data": {
      "text/plain": [
       "array([-1, -1, -1, -1, -1])"
      ]
     },
     "execution_count": 38,
     "metadata": {},
     "output_type": "execute_result"
    }
   ],
   "source": [
    "arr4 = np.full(5, -1)\n",
    "arr4"
   ]
  },
  {
   "cell_type": "code",
   "execution_count": 39,
   "id": "c2a783d5",
   "metadata": {},
   "outputs": [
    {
     "data": {
      "text/plain": [
       "array([ 0,  1,  2,  3,  4,  5,  6,  7,  8,  9, 10, 11, 12, 13, 14, 15, 16,\n",
       "       17, 18, 19, 20, 21, 22, 23, 24, 25, 26, 27, 28, 29, 30, 31, 32, 33,\n",
       "       34, 35, 36, 37, 38, 39, 40, 41, 42, 43, 44, 45, 46, 47, 48, 49, 50,\n",
       "       51, 52, 53, 54, 55, 56, 57, 58, 59, 60, 61, 62, 63, 64, 65, 66, 67,\n",
       "       68, 69, 70, 71, 72, 73, 74, 75, 76, 77, 78, 79, 80, 81, 82, 83, 84,\n",
       "       85, 86, 87, 88, 89, 90, 91, 92, 93, 94, 95, 96, 97, 98, 99])"
      ]
     },
     "execution_count": 39,
     "metadata": {},
     "output_type": "execute_result"
    }
   ],
   "source": [
    "# массив, который будет заполнен значениями от 0 до N\n",
    "N=100\n",
    "np.arange(N)"
   ]
  },
  {
   "cell_type": "code",
   "execution_count": 87,
   "id": "c9d43905",
   "metadata": {},
   "outputs": [
    {
     "name": "stdout",
     "output_type": "stream",
     "text": [
      "[ 1.5  2.5 20. ]\n",
      "[ 1  2 20]\n"
     ]
    }
   ],
   "source": [
    "arr1 = np.array([1.5, 2.5, 20], dtype =np.float64)\n",
    "print(arr1)\n",
    "# astype - меняет тип данных\n",
    "arr2 = arr1.astype(np.int32)\n",
    "print(arr2)"
   ]
  },
  {
   "cell_type": "markdown",
   "id": "009f6329",
   "metadata": {},
   "source": [
    "## Перебор элементов массива"
   ]
  },
  {
   "cell_type": "code",
   "execution_count": 45,
   "id": "885ee3b0",
   "metadata": {},
   "outputs": [
    {
     "name": "stdout",
     "output_type": "stream",
     "text": [
      "1\n",
      "4\n",
      "5\n"
     ]
    }
   ],
   "source": [
    "a = np.array([1, 4, 5], int)\n",
    "# простой перебор\n",
    "for x in a:\n",
    "    print(x)"
   ]
  },
  {
   "cell_type": "code",
   "execution_count": 43,
   "id": "7aba7640",
   "metadata": {},
   "outputs": [
    {
     "name": "stdout",
     "output_type": "stream",
     "text": [
      "[1. 2.]\n",
      "[3. 4.]\n",
      "[5. 6.]\n"
     ]
    }
   ],
   "source": [
    "# простой перебор для многомерного случая срабаотает плохо, он перебирает по первой размерности\n",
    "a = np.array([[1, 2], [3, 4], [5, 6]], float)\n",
    "for x in a:\n",
    "    print(x)"
   ]
  },
  {
   "cell_type": "code",
   "execution_count": 44,
   "id": "5ff4617a",
   "metadata": {},
   "outputs": [
    {
     "name": "stdout",
     "output_type": "stream",
     "text": [
      "1.0\n",
      "2.0\n",
      "3.0\n",
      "4.0\n",
      "5.0\n",
      "6.0\n"
     ]
    }
   ],
   "source": [
    "# перебор правильным способом\n",
    "for x in range(a.shape[0]):\n",
    "    for y in range(a.shape[1]):\n",
    "        print(a[x, y])"
   ]
  },
  {
   "cell_type": "markdown",
   "id": "8e1fdc80",
   "metadata": {},
   "source": [
    "## Слайсинг"
   ]
  },
  {
   "cell_type": "markdown",
   "id": "39b80316",
   "metadata": {},
   "source": [
    "Для получения доступа к нескольким элементам указываем диапазон через двоеточие: \\\n",
    "\\\n",
    "*massiv[индекс_первого_элемента : индекс_последнего_элемента]*"
   ]
  },
  {
   "cell_type": "code",
   "execution_count": 46,
   "id": "60eebf83",
   "metadata": {},
   "outputs": [
    {
     "name": "stdout",
     "output_type": "stream",
     "text": [
      "[0 1 2 3 4 5 6 7 8 9]\n",
      "[2 3 4 5 6 7 8]\n",
      "[ 9 10]\n"
     ]
    }
   ],
   "source": [
    "arr = np.arange(10)\n",
    "print(arr)\n",
    "print(arr[2:9])\n",
    "print(arr[1:2] + arr[-2:])"
   ]
  },
  {
   "cell_type": "code",
   "execution_count": 50,
   "id": "98475627",
   "metadata": {},
   "outputs": [
    {
     "name": "stdout",
     "output_type": "stream",
     "text": [
      "[[ 3  2  3  4  5]\n",
      " [ 1  9  3  4  5]\n",
      " [ 1  2  3  8  5]\n",
      " [ 1  2  3  4  5]\n",
      " [ 1  2  3  4 10]]\n",
      "\n",
      "[[7]\n",
      " [5]\n",
      " [9]\n",
      " [5]\n",
      " [5]]\n",
      "\n",
      "[1 9 3 4 5]\n"
     ]
    }
   ],
   "source": [
    "lst2 = [[3,2,3,4,5],[1,9,3,4,5],[1,2,3,8,5],[1,2,3,4,5],[1,2,3,4,10]]\n",
    "m2d = np.array(lst2)\n",
    "print(m2d)\n",
    "print()\n",
    "print(m2d[:6,0:1] + m2d[:6,3:4])\n",
    "print()\n",
    "print(m2d[1])"
   ]
  },
  {
   "cell_type": "markdown",
   "id": "7f764cc5",
   "metadata": {},
   "source": [
    "# Операции над массивами"
   ]
  },
  {
   "cell_type": "markdown",
   "id": "d7ade9a0",
   "metadata": {},
   "source": [
    "## Математические операции над массивами"
   ]
  },
  {
   "cell_type": "markdown",
   "id": "a8c03939",
   "metadata": {},
   "source": [
    "С массивами можно применять стандартные математические операции. Они будут работать так, как будето происходит поэлементая работа одной и той же операции. Для матричных операций есть специальные команды.\n",
    "\n",
    "Стандартные математические операции применимы только к массивам одинаковых размеров."
   ]
  },
  {
   "cell_type": "code",
   "execution_count": 52,
   "id": "5b295fce",
   "metadata": {},
   "outputs": [
    {
     "name": "stdout",
     "output_type": "stream",
     "text": [
      "a:  [1 2 3]\n",
      "b:  [6 7 8]\n"
     ]
    }
   ],
   "source": [
    "a = np.arange(1, 4, 1, dtype=int)\n",
    "b = np.arange(6, 9, 1, dtype=int)\n",
    "print('a: ', a)\n",
    "print('b: ', b)"
   ]
  },
  {
   "cell_type": "code",
   "execution_count": 53,
   "id": "c5877862",
   "metadata": {},
   "outputs": [
    {
     "data": {
      "text/plain": [
       "array([ 7,  9, 11])"
      ]
     },
     "execution_count": 53,
     "metadata": {},
     "output_type": "execute_result"
    }
   ],
   "source": [
    "a + b"
   ]
  },
  {
   "cell_type": "code",
   "execution_count": 54,
   "id": "d5255b4b",
   "metadata": {},
   "outputs": [
    {
     "data": {
      "text/plain": [
       "array([-5, -5, -5])"
      ]
     },
     "execution_count": 54,
     "metadata": {},
     "output_type": "execute_result"
    }
   ],
   "source": [
    "a - b"
   ]
  },
  {
   "cell_type": "code",
   "execution_count": 55,
   "id": "2e6cfaf4",
   "metadata": {},
   "outputs": [
    {
     "data": {
      "text/plain": [
       "array([ 6, 14, 24])"
      ]
     },
     "execution_count": 55,
     "metadata": {},
     "output_type": "execute_result"
    }
   ],
   "source": [
    "a * b"
   ]
  },
  {
   "cell_type": "code",
   "execution_count": 56,
   "id": "211a28dd",
   "metadata": {},
   "outputs": [
    {
     "data": {
      "text/plain": [
       "array([0.16666667, 0.28571429, 0.375     ])"
      ]
     },
     "execution_count": 56,
     "metadata": {},
     "output_type": "execute_result"
    }
   ],
   "source": [
    "a / b"
   ]
  },
  {
   "cell_type": "markdown",
   "id": "bfd40b37",
   "metadata": {},
   "source": [
    "Кроме того, поэлементно могут быть применены другие математические операции"
   ]
  },
  {
   "cell_type": "code",
   "execution_count": 57,
   "id": "781f7fa8",
   "metadata": {},
   "outputs": [
    {
     "data": {
      "text/plain": [
       "array([1.        , 1.41421356, 1.73205081])"
      ]
     },
     "execution_count": 57,
     "metadata": {},
     "output_type": "execute_result"
    }
   ],
   "source": [
    "# корень\n",
    "np.sqrt(a)"
   ]
  },
  {
   "cell_type": "code",
   "execution_count": 58,
   "id": "e99263e6",
   "metadata": {},
   "outputs": [],
   "source": [
    "a = np.array([1.1, 1.5, 1.9], float)"
   ]
  },
  {
   "cell_type": "code",
   "execution_count": 59,
   "id": "1cd85af6",
   "metadata": {},
   "outputs": [
    {
     "data": {
      "text/plain": [
       "array([1., 1., 1.])"
      ]
     },
     "execution_count": 59,
     "metadata": {},
     "output_type": "execute_result"
    }
   ],
   "source": [
    "# округление вниз\n",
    "np.floor(a)"
   ]
  },
  {
   "cell_type": "code",
   "execution_count": 60,
   "id": "9890147c",
   "metadata": {},
   "outputs": [
    {
     "data": {
      "text/plain": [
       "array([2., 2., 2.])"
      ]
     },
     "execution_count": 60,
     "metadata": {},
     "output_type": "execute_result"
    }
   ],
   "source": [
    "# округление вврех\n",
    "np.ceil(a)"
   ]
  },
  {
   "cell_type": "code",
   "execution_count": 61,
   "id": "23ed3647",
   "metadata": {},
   "outputs": [
    {
     "data": {
      "text/plain": [
       "array([1., 2., 2.])"
      ]
     },
     "execution_count": 61,
     "metadata": {},
     "output_type": "execute_result"
    }
   ],
   "source": [
    "# округление по правилам математики\n",
    "np.rint(a)"
   ]
  },
  {
   "cell_type": "markdown",
   "id": "f8205370",
   "metadata": {},
   "source": [
    "## Простые операции над массивами"
   ]
  },
  {
   "cell_type": "markdown",
   "id": "b547679b",
   "metadata": {},
   "source": [
    "### Для одномерных массивов"
   ]
  },
  {
   "cell_type": "code",
   "execution_count": 62,
   "id": "9d16efc5",
   "metadata": {},
   "outputs": [
    {
     "name": "stdout",
     "output_type": "stream",
     "text": [
      "[1 2 3 4 5]\n",
      "Сумма:  15\n",
      "Перемножение:  120\n"
     ]
    }
   ],
   "source": [
    "a = np.arange(1, 6, 1)\n",
    "print(a)\n",
    "print('Сумма: ', a.sum())\n",
    "print('Перемножение: ', a.prod())"
   ]
  },
  {
   "cell_type": "code",
   "execution_count": 63,
   "id": "36f83af7",
   "metadata": {},
   "outputs": [
    {
     "data": {
      "text/plain": [
       "3.0"
      ]
     },
     "execution_count": 63,
     "metadata": {},
     "output_type": "execute_result"
    }
   ],
   "source": [
    "# среднее (математическое ожидание)\n",
    "a.mean()"
   ]
  },
  {
   "cell_type": "code",
   "execution_count": 64,
   "id": "f10b1e6c",
   "metadata": {},
   "outputs": [
    {
     "data": {
      "text/plain": [
       "2.0"
      ]
     },
     "execution_count": 64,
     "metadata": {},
     "output_type": "execute_result"
    }
   ],
   "source": [
    "# дисперсия (смещенная - это будет важно в дальнейшем)\n",
    "a.var()"
   ]
  },
  {
   "cell_type": "code",
   "execution_count": 65,
   "id": "7a4d113e",
   "metadata": {},
   "outputs": [
    {
     "data": {
      "text/plain": [
       "1.4142135623730951"
      ]
     },
     "execution_count": 65,
     "metadata": {},
     "output_type": "execute_result"
    }
   ],
   "source": [
    "# стандартное отклонение (несмещенное - это тоже будет важно в дальнейшем)\n",
    "a.std()"
   ]
  },
  {
   "cell_type": "code",
   "execution_count": 66,
   "id": "7a843761",
   "metadata": {},
   "outputs": [
    {
     "data": {
      "text/plain": [
       "1"
      ]
     },
     "execution_count": 66,
     "metadata": {},
     "output_type": "execute_result"
    }
   ],
   "source": [
    "a.min()"
   ]
  },
  {
   "cell_type": "code",
   "execution_count": 69,
   "id": "15b50c13",
   "metadata": {},
   "outputs": [
    {
     "data": {
      "text/plain": [
       "0"
      ]
     },
     "execution_count": 69,
     "metadata": {},
     "output_type": "execute_result"
    }
   ],
   "source": [
    "# индекс минимального элемента\n",
    "a.argmin()"
   ]
  },
  {
   "cell_type": "code",
   "execution_count": 70,
   "id": "16e5139a",
   "metadata": {},
   "outputs": [
    {
     "data": {
      "text/plain": [
       "array([5., 2., 5., 0., 0., 5., 2., 5., 4.])"
      ]
     },
     "execution_count": 70,
     "metadata": {},
     "output_type": "execute_result"
    }
   ],
   "source": [
    "# clip позволяет \"отрезать\" значения сверху и снизу\n",
    "a = np.array([6, 2, 5, -1, 0, 6, 2, 5, 4], float)\n",
    "a.clip(0, 5)"
   ]
  },
  {
   "cell_type": "code",
   "execution_count": 71,
   "id": "ec9cb92c",
   "metadata": {},
   "outputs": [
    {
     "data": {
      "text/plain": [
       "array([-1.,  0.,  2.,  4.,  5.,  6.])"
      ]
     },
     "execution_count": 71,
     "metadata": {},
     "output_type": "execute_result"
    }
   ],
   "source": [
    "np.unique(a)"
   ]
  },
  {
   "cell_type": "markdown",
   "id": "2a2096b2",
   "metadata": {},
   "source": [
    "### Для многомерных массивов"
   ]
  },
  {
   "cell_type": "code",
   "execution_count": 74,
   "id": "8d6d2d9f",
   "metadata": {},
   "outputs": [
    {
     "name": "stdout",
     "output_type": "stream",
     "text": [
      "[[ 5  2]\n",
      " [ 4  1]\n",
      " [ 3 -1]]\n",
      "Среднее по столбцам: [4.         0.66666667]\n",
      "Среднее по строкам: [3.5 2.5 1. ]\n"
     ]
    }
   ],
   "source": [
    "a = np.array([[5, 2], [4, 1], [3, -1]])\n",
    "print(a)\n",
    "print('Среднее по столбцам:', a.mean(axis=0))\n",
    "print('Среднее по строкам:',a.mean(axis=1))"
   ]
  },
  {
   "cell_type": "markdown",
   "id": "fd9bd497",
   "metadata": {},
   "source": [
    "## Логические операции над массивами"
   ]
  },
  {
   "cell_type": "code",
   "execution_count": 75,
   "id": "6d77def3",
   "metadata": {},
   "outputs": [
    {
     "name": "stdout",
     "output_type": "stream",
     "text": [
      "[ True False False] <class 'numpy.ndarray'>\n"
     ]
    }
   ],
   "source": [
    "a = np.array([1, 3, 0])\n",
    "b = np.array([0, 3, 2])\n",
    "\n",
    "print(a > b, type(a>b))"
   ]
  },
  {
   "cell_type": "code",
   "execution_count": 77,
   "id": "40875633",
   "metadata": {},
   "outputs": [
    {
     "name": "stdout",
     "output_type": "stream",
     "text": [
      "[False  True False]\n"
     ]
    }
   ],
   "source": [
    "c = a > 2\n",
    "print(c)"
   ]
  },
  {
   "cell_type": "code",
   "execution_count": 78,
   "id": "fba553b0",
   "metadata": {},
   "outputs": [
    {
     "name": "stdout",
     "output_type": "stream",
     "text": [
      "True\n",
      "False\n"
     ]
    }
   ],
   "source": [
    "# проверяем, что хотя бы один элемент истинен\n",
    "print(any(c))\n",
    "# проверяем, что все элементы истинны\n",
    "print(all(c))"
   ]
  },
  {
   "cell_type": "markdown",
   "id": "2a14618c",
   "metadata": {},
   "source": [
    "Если вы хотите провести сравнение логическим И или лолгическим ИЛИ, то необходимо воспользоваться специальнымыми методами:"
   ]
  },
  {
   "cell_type": "raw",
   "id": "0a1986ec",
   "metadata": {},
   "source": [
    "np.logical_and(_, _)\n",
    "np.logical_or(_, _)\n",
    "np.logical_not(_)"
   ]
  },
  {
   "cell_type": "code",
   "execution_count": 81,
   "id": "a9248596",
   "metadata": {},
   "outputs": [
    {
     "data": {
      "text/plain": [
       "array([ True, False, False])"
      ]
     },
     "execution_count": 81,
     "metadata": {},
     "output_type": "execute_result"
    }
   ],
   "source": [
    "np.logical_and(a > 0, a < 3)"
   ]
  },
  {
   "cell_type": "markdown",
   "id": "39ad1fa2",
   "metadata": {},
   "source": [
    "С помощью *np.where* можно создать массив на основании условий. Синтаксис:"
   ]
  },
  {
   "cell_type": "raw",
   "id": "8d06aaae",
   "metadata": {},
   "source": [
    "where(boolarray, truearray, falsearray)"
   ]
  },
  {
   "cell_type": "code",
   "execution_count": 83,
   "id": "9923e5c5",
   "metadata": {},
   "outputs": [
    {
     "name": "stdout",
     "output_type": "stream",
     "text": [
      "[1.         0.33333333 0.        ]\n"
     ]
    },
    {
     "name": "stderr",
     "output_type": "stream",
     "text": [
      "C:\\Users\\B72A~1\\AppData\\Local\\Temp/ipykernel_14552/392795139.py:1: RuntimeWarning: divide by zero encountered in true_divide\n",
      "  arr = np.where(a != 0, 1 / a, a)\n"
     ]
    }
   ],
   "source": [
    "arr = np.where(a != 0, 1 / a, a)\n",
    "print(arr)"
   ]
  },
  {
   "cell_type": "markdown",
   "id": "4aeb5d48",
   "metadata": {},
   "source": [
    "Можно проверять элементы массива на наличие NaN и бесконечностей."
   ]
  },
  {
   "cell_type": "code",
   "execution_count": 84,
   "id": "031ed713",
   "metadata": {},
   "outputs": [],
   "source": [
    "a = np.array([1, np.NaN, np.Inf], float)"
   ]
  },
  {
   "cell_type": "code",
   "execution_count": 85,
   "id": "2207649d",
   "metadata": {},
   "outputs": [
    {
     "data": {
      "text/plain": [
       "array([False,  True, False])"
      ]
     },
     "execution_count": 85,
     "metadata": {},
     "output_type": "execute_result"
    }
   ],
   "source": [
    "np.isnan(a)"
   ]
  },
  {
   "cell_type": "code",
   "execution_count": 86,
   "id": "dfb499dc",
   "metadata": {},
   "outputs": [
    {
     "data": {
      "text/plain": [
       "array([ True, False, False])"
      ]
     },
     "execution_count": 86,
     "metadata": {},
     "output_type": "execute_result"
    }
   ],
   "source": [
    "np.isfinite(a)"
   ]
  },
  {
   "cell_type": "markdown",
   "id": "6271abb8",
   "metadata": {},
   "source": [
    "## Выбор элементов массива по условию"
   ]
  },
  {
   "cell_type": "markdown",
   "id": "41073e57",
   "metadata": {},
   "source": [
    "Очень важной особенностью массивов является то, что элементы в них можно брать на основании других массивов. Это особенно полезно при реализации свёрточных нейронных сетей."
   ]
  },
  {
   "cell_type": "code",
   "execution_count": 88,
   "id": "8af936b8",
   "metadata": {},
   "outputs": [
    {
     "data": {
      "text/plain": [
       "array([[ True, False],\n",
       "       [False,  True]])"
      ]
     },
     "execution_count": 88,
     "metadata": {},
     "output_type": "execute_result"
    }
   ],
   "source": [
    "a = np.array([[6, 4], [5, 9]], float)\n",
    "a >= 6"
   ]
  },
  {
   "cell_type": "code",
   "execution_count": 89,
   "id": "3b75054b",
   "metadata": {},
   "outputs": [
    {
     "data": {
      "text/plain": [
       "array([6., 9.])"
      ]
     },
     "execution_count": 89,
     "metadata": {},
     "output_type": "execute_result"
    }
   ],
   "source": [
    "# а это результат фильтрации элементов\n",
    "# обратите внимание, получился одномерный массив, содержащий только элементы, удовлетворяющие условию \n",
    "a[a >= 6]"
   ]
  },
  {
   "cell_type": "code",
   "execution_count": 90,
   "id": "9a7548fb",
   "metadata": {},
   "outputs": [
    {
     "data": {
      "text/plain": [
       "array([6.])"
      ]
     },
     "execution_count": 90,
     "metadata": {},
     "output_type": "execute_result"
    }
   ],
   "source": [
    "a[np.logical_and(a > 5, a < 9)]"
   ]
  },
  {
   "cell_type": "markdown",
   "id": "4099873f",
   "metadata": {},
   "source": [
    "Обратите внимание, что если передать целочисленные значения, в качестве условий, то результат будет другой. Будут выбраные соответствующие элементы."
   ]
  },
  {
   "cell_type": "code",
   "execution_count": 91,
   "id": "1419b8c8",
   "metadata": {},
   "outputs": [
    {
     "data": {
      "text/plain": [
       "array([2., 2., 4., 8., 6., 4.])"
      ]
     },
     "execution_count": 91,
     "metadata": {},
     "output_type": "execute_result"
    }
   ],
   "source": [
    "a = np.array([2, 4, 6, 8], float)\n",
    "b = np.array([0, 0, 1, 3, 2, 1], int)\n",
    "a[b]"
   ]
  },
  {
   "cell_type": "code",
   "execution_count": 92,
   "id": "2df5b67a",
   "metadata": {},
   "outputs": [
    {
     "data": {
      "text/plain": [
       "array([ 1.,  4., 16., 16.,  4.])"
      ]
     },
     "execution_count": 92,
     "metadata": {},
     "output_type": "execute_result"
    }
   ],
   "source": [
    "# Для выбора значений из многомерных массивов необходимо передать массивы, которые определяют индексы по каждому из направлений. Они должны быть, естественно, целочисленными.\n",
    "a = np.array([[1, 4], [9, 16]], float)\n",
    "b = np.array([0, 0, 1, 1, 0], int)\n",
    "c = np.array([0, 1, 1, 1, 1], int)\n",
    "a[b,c]"
   ]
  },
  {
   "cell_type": "markdown",
   "id": "f4bf391d",
   "metadata": {},
   "source": [
    "## Векторная и матричная математика с использованием numpy"
   ]
  },
  {
   "cell_type": "markdown",
   "id": "6c9a2c85",
   "metadata": {},
   "source": [
    "Векторная математика в numpy - это главная причина того, что numpy стал ключевым модулем Python среди всех представленных модулей. Векторные вычисления позволяют значительно ускорить обработку численной информации."
   ]
  },
  {
   "cell_type": "markdown",
   "id": "2b9ea751",
   "metadata": {},
   "source": [
    "### Скалярное произведение\n",
    "\n",
    "\n",
    "Для двух векторов a и b одинаковой длины скалярное произведение считается по следующей формуле:\n",
    "\n",
    "$ a*b = \\sum_{i=0}^{len(a)}  a_i*b_i $"
   ]
  },
  {
   "cell_type": "code",
   "execution_count": 94,
   "id": "f25e3c55",
   "metadata": {},
   "outputs": [
    {
     "data": {
      "text/plain": [
       "5.0"
      ]
     },
     "execution_count": 94,
     "metadata": {},
     "output_type": "execute_result"
    }
   ],
   "source": [
    "# скалярное произвдение векторов, также операция свёртки в свёрточных нейронных сетях \n",
    "\n",
    "a = np.array([1, 2, 3], float)\n",
    "b = np.array([0, 1, 1], float)\n",
    "np.dot(a, b)"
   ]
  },
  {
   "cell_type": "markdown",
   "id": "838b9532",
   "metadata": {},
   "source": [
    "### Произведение матриц\n",
    "\n",
    "Произведение матриц - это особая математическая операция, которая не эквивалентна произведени соответствующих элементов матриц. "
   ]
  },
  {
   "cell_type": "code",
   "execution_count": 97,
   "id": "f25eb2f9",
   "metadata": {},
   "outputs": [],
   "source": [
    "a = np.array([[0, 1], [2, 3]], float)\n",
    "b = np.array([2, 3], float)"
   ]
  },
  {
   "cell_type": "code",
   "execution_count": 96,
   "id": "08b89eb3",
   "metadata": {},
   "outputs": [
    {
     "data": {
      "text/plain": [
       "array([ 6., 11.])"
      ]
     },
     "execution_count": 96,
     "metadata": {},
     "output_type": "execute_result"
    }
   ],
   "source": [
    "np.dot(b, a)"
   ]
  },
  {
   "cell_type": "code",
   "execution_count": 98,
   "id": "61d3b7cf",
   "metadata": {},
   "outputs": [
    {
     "data": {
      "text/plain": [
       "array([ 3., 13.])"
      ]
     },
     "execution_count": 98,
     "metadata": {},
     "output_type": "execute_result"
    }
   ],
   "source": [
    "np.dot(a, b)"
   ]
  },
  {
   "cell_type": "markdown",
   "id": "b176bd61",
   "metadata": {},
   "source": [
    "### Определитель матриц"
   ]
  },
  {
   "cell_type": "code",
   "execution_count": 100,
   "id": "c331121c",
   "metadata": {},
   "outputs": [
    {
     "data": {
      "text/plain": [
       "-2.0"
      ]
     },
     "execution_count": 100,
     "metadata": {},
     "output_type": "execute_result"
    }
   ],
   "source": [
    "np.linalg.det(a)"
   ]
  }
 ],
 "metadata": {
  "kernelspec": {
   "display_name": "Python 3 (ipykernel)",
   "language": "python",
   "name": "python3"
  },
  "language_info": {
   "codemirror_mode": {
    "name": "ipython",
    "version": 3
   },
   "file_extension": ".py",
   "mimetype": "text/x-python",
   "name": "python",
   "nbconvert_exporter": "python",
   "pygments_lexer": "ipython3",
   "version": "3.9.7"
  }
 },
 "nbformat": 4,
 "nbformat_minor": 5
}
