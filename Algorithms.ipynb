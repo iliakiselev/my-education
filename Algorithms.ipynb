{
 "cells": [
  {
   "cell_type": "code",
   "execution_count": 5,
   "id": "0ea7e7ce",
   "metadata": {},
   "outputs": [],
   "source": [
    "from IPython.display import Image\n",
    "from IPython.core.display import HTML "
   ]
  },
  {
   "cell_type": "markdown",
   "id": "574b0397",
   "metadata": {},
   "source": [
    "# Бинарный поиск"
   ]
  },
  {
   "cell_type": "markdown",
   "id": "ed9223d1",
   "metadata": {},
   "source": [
    "<a id = 'Бинарный поиск'>Binary search <a>"
   ]
  },
  {
   "cell_type": "markdown",
   "id": "8c9a0d51",
   "metadata": {},
   "source": [
    "Бинарный поиск - это эффективный алгоритм поиска элемента из отсортированного списка элементов. \n",
    "Это работает путем многократного деления пополам части списка, которая может содержать элемент, пока вы максимально его не сузите.\n",
    "Алгоритм:\n",
    "1) найдем индекс центрального элемента в отсортированном списке, предварительно обозначим, что start = 0 и end = длина списка - 1\n",
    "2) Три случая:\n",
    "- элемент из списка совпал с нужным элементом -> отлично, возвращаем индекс\n",
    "- Если искомый элемент поиска меньше среднего элемента, то снова выполните описанную выше процедуру для левого подсписка среднего элемента. end = mid - 1\n",
    "- Если требуемый элемент поиска больше, чем средний элемент, затем снова выполните описанный выше процесс для правого подсписка среднего элемента. start = mid + 1 \n",
    "3) повторяем до нужного нам значения.\n",
    "\n",
    "Время: *O(log n)*"
   ]
  },
  {
   "cell_type": "code",
   "execution_count": 6,
   "id": "77b701f9",
   "metadata": {},
   "outputs": [
    {
     "data": {
      "text/html": [
       "<img src=\"https://upload.wikimedia.org/wikipedia/commons/thumb/6/64/Binary_search_into_array_-_example.svg/langru-300px-Binary_search_into_array_-_example.svg.png\"/>"
      ],
      "text/plain": [
       "<IPython.core.display.Image object>"
      ]
     },
     "execution_count": 6,
     "metadata": {},
     "output_type": "execute_result"
    }
   ],
   "source": [
    "Image(url=\"https://upload.wikimedia.org/wikipedia/commons/thumb/6/64/Binary_search_into_array_-_example.svg/langru-300px-Binary_search_into_array_-_example.svg.png\")"
   ]
  },
  {
   "cell_type": "markdown",
   "id": "e65e34fe",
   "metadata": {},
   "source": [
    "Рекурсивный:"
   ]
  },
  {
   "cell_type": "code",
   "execution_count": 34,
   "id": "004840b2",
   "metadata": {},
   "outputs": [],
   "source": [
    "def binary_search_recursive(array, element, start, end):\n",
    "    if start > end:\n",
    "        return -1\n",
    "    mid = (start + end) // 2\n",
    "    if element == array[mid]:\n",
    "        return mid\n",
    "    if element < array[mid]:\n",
    "        return binary_search_recursive(array, element, start, mid-1)\n",
    "    else:\n",
    "        return binary_search_recursive(array, element, mid+1, end)"
   ]
  },
  {
   "cell_type": "code",
   "execution_count": 40,
   "id": "afda4ba4",
   "metadata": {},
   "outputs": [],
   "source": [
    "nums = [-1,0,3,5,9,12]"
   ]
  },
  {
   "cell_type": "code",
   "execution_count": 42,
   "id": "fd8fa771",
   "metadata": {},
   "outputs": [
    {
     "data": {
      "text/plain": [
       "4"
      ]
     },
     "execution_count": 42,
     "metadata": {},
     "output_type": "execute_result"
    }
   ],
   "source": [
    "binary_search_recursive(nums, 9, 0, len(nums))"
   ]
  },
  {
   "cell_type": "markdown",
   "id": "391c647c",
   "metadata": {},
   "source": [
    "Повторяющийся:"
   ]
  },
  {
   "cell_type": "code",
   "execution_count": 20,
   "id": "3ea785ae",
   "metadata": {},
   "outputs": [],
   "source": [
    "def binary_search_iterative(array, element):\n",
    "    mid = 0\n",
    "    start = 0\n",
    "    end = len(array)-1 # для того, чтобы брать средний элемент в массиве\n",
    "    step = 0\n",
    "\n",
    "    while (start <= end):\n",
    "        print(\"Subarray in step {}: {}\".format(step, str(array[start:end+1])))\n",
    "        step = step+1\n",
    "        mid = (start + end) // 2\n",
    "\n",
    "        if element == array[mid]:\n",
    "            return mid\n",
    "        elif element < array[mid]:\n",
    "            end = mid - 1\n",
    "        elif element > array[mid]:\n",
    "            start = mid + 1\n",
    "    return -1\n"
   ]
  },
  {
   "cell_type": "code",
   "execution_count": 24,
   "id": "b03f3564",
   "metadata": {},
   "outputs": [
    {
     "name": "stdout",
     "output_type": "stream",
     "text": [
      "Subarray in step 0: [-1, 0, 3, 5, 9, 12]\n"
     ]
    },
    {
     "data": {
      "text/plain": [
       "2"
      ]
     },
     "execution_count": 24,
     "metadata": {},
     "output_type": "execute_result"
    }
   ],
   "source": [
    "nums = [-1,0,3,5,9,12]\n",
    "binary_search_iterative(nums, 3)"
   ]
  },
  {
   "cell_type": "markdown",
   "id": "a14d5253",
   "metadata": {},
   "source": [
    "Примеры: (в основном используется повторяющийся бинанрный поиск)"
   ]
  },
  {
   "cell_type": "markdown",
   "id": "7146472d",
   "metadata": {},
   "source": [
    "**1. Binary Search**\n",
    "\\\n",
    "Given an array of integers nums which is sorted in ascending order, and an integer target, write a function to search target in nums. If target exists, then return its index. Otherwise, return -1.\n",
    "\n",
    "You must write an algorithm with O(log n) runtime complexity. \\\n",
    "Ссылка: https://leetcode.com/problems/binary-search/"
   ]
  },
  {
   "cell_type": "code",
   "execution_count": 29,
   "id": "f9ac07d6",
   "metadata": {},
   "outputs": [],
   "source": [
    "def search(self, nums: list[int], target: int) -> int:\n",
    "        mid = 0\n",
    "        start = 0\n",
    "        end = len(nums)-1\n",
    "        step = 0\n",
    "        while start <= end:\n",
    "            step += 1\n",
    "            mid = (start + end) // 2\n",
    "            if target == nums[mid] :\n",
    "                return mid\n",
    "            elif target < nums[mid]:\n",
    "                end = mid - 1\n",
    "            else:\n",
    "                start = mid + 1\n",
    "        return -1 "
   ]
  },
  {
   "cell_type": "markdown",
   "id": "8f75cd99",
   "metadata": {},
   "source": [
    "**2. First bad version**\n",
    "\\\n",
    "You are a product manager and currently leading a team to develop a new product. Unfortunately, the latest version of your product fails the quality check. Since each version is developed based on the previous version, all the versions after a bad version are also bad.\n",
    "\n",
    "Suppose you have n versions [1, 2, ..., n] and you want to find out the first bad one, which causes all the following ones to be bad.\n",
    "\n",
    "You are given an API bool isBadVersion(version) which returns whether version is bad. Implement a function to find the first bad version. You should minimize the number of calls to the API. \\\n",
    "Ссылка: https://leetcode.com/problems/first-bad-version/"
   ]
  },
  {
   "cell_type": "code",
   "execution_count": 33,
   "id": "64adf1db",
   "metadata": {},
   "outputs": [],
   "source": [
    "def firstBadVersion(self, n: int) -> int:\n",
    "        k = 0\n",
    "        start = 1\n",
    "        end = n\n",
    "        mid = 0\n",
    "        while start <= end:\n",
    "            mid =(start +end) // 2\n",
    "            if isBadVersion(mid):\n",
    "                end = mid -1\n",
    "                k = mid\n",
    "            else:\n",
    "                start = mid + 1\n",
    "        return k"
   ]
  },
  {
   "cell_type": "markdown",
   "id": "c4a6fc95",
   "metadata": {},
   "source": [
    "**3. Search Insert Position**\n",
    "\\\n",
    " Given a sorted array of distinct integers and a target value, return the index if the target is found. If not, return the index where it would be if it were inserted in order.\n",
    "\n",
    "You must write an algorithm with O(log n) runtime complexity. \\\n",
    "Ссылка: https://leetcode.com/problems/search-insert-position/"
   ]
  },
  {
   "cell_type": "code",
   "execution_count": 31,
   "id": "d92f4e00",
   "metadata": {},
   "outputs": [],
   "source": [
    "def searchInsert(self, nums: list[int], target: int) -> int:\n",
    "        start = 0\n",
    "        end = len(nums) - 1\n",
    "        mid = 0\n",
    "        fg = 1\n",
    "        while start <= end:\n",
    "            mid = (start + end) // 2\n",
    "            if target == nums[mid]:\n",
    "                return mid\n",
    "            elif target < nums[mid]:\n",
    "                end = mid - 1\n",
    "                prev = end\n",
    "                fg = 1\n",
    "            else:\n",
    "                start = mid + 1\n",
    "                prev = start\n",
    "                fg = 2\n",
    "        if fg ==2:\n",
    "            return prev\n",
    "        return prev + 1"
   ]
  },
  {
   "cell_type": "markdown",
   "id": "8d62f58b",
   "metadata": {},
   "source": [
    "# Техника с двумя указателями (Two Pointers)"
   ]
  },
  {
   "cell_type": "markdown",
   "id": "85a9573f",
   "metadata": {},
   "source": [
    "Этот подход оптимизирует время выполнения, используя некоторый порядок (не обязательно сортировку) данных. Обычно это используется для поиска пар в отсортированном массиве. \\\n",
    "Время: *O(n log n)*"
   ]
  },
  {
   "cell_type": "markdown",
   "id": "5200b4e3",
   "metadata": {},
   "source": [
    "Инициализация указателя — Начальные точки. Указатели могут находиться в любом месте в зависимости от того, чего мы пытаемся достичь. В левой части рисунка у нас есть оба указателя, начинающиеся с одной и той же позиции, то есть с начала связанного списка. В правой части рисунка у нас есть указатели на крайних концах, один на начальном индексе, а другой на последнем индексе.\n",
    "\n",
    "Движение указателя — это определит, как мы приближаемся к решению. Указатель может двигаться в том же направлении (слева на рисунке выше) или в противоположном направлении (справа на рисунке выше). Также в левой части рисунка у нас есть разные приращения для указателей (верхний (медленный) с 1 единицей, нижний (быстрый) с 2 единицами).\n",
    "\n",
    "Условие остановки — Это определяет, когда мы остановимся. В левой части мы продолжаем, пока не достигнем узла, следующий элемент которого - None. В правом случае мы продолжаем до тех пор, пока наше начало не станет меньше конца (i <j).m"
   ]
  },
  {
   "cell_type": "markdown",
   "id": "8836b3ae",
   "metadata": {},
   "source": [
    "Применение:"
   ]
  },
  {
   "cell_type": "markdown",
   "id": "f6635e6b",
   "metadata": {},
   "source": [
    "1. Перевернуть массив "
   ]
  },
  {
   "cell_type": "code",
   "execution_count": 7,
   "id": "19d6df3f",
   "metadata": {},
   "outputs": [
    {
     "data": {
      "text/html": [
       "<img src=\"https://miro.medium.com/max/892/1*RzPWR6xCajcQT6R-fDZGTw.png\"/>"
      ],
      "text/plain": [
       "<IPython.core.display.Image object>"
      ]
     },
     "execution_count": 7,
     "metadata": {},
     "output_type": "execute_result"
    }
   ],
   "source": [
    "Image(url=\"https://miro.medium.com/max/892/1*RzPWR6xCajcQT6R-fDZGTw.png\")"
   ]
  },
  {
   "cell_type": "code",
   "execution_count": 56,
   "id": "4a0549ad",
   "metadata": {},
   "outputs": [
    {
     "name": "stdout",
     "output_type": "stream",
     "text": [
      "[10, 20, 30, 40, 50]\n",
      "[50, 40, 30, 20, 10]\n"
     ]
    }
   ],
   "source": [
    "def Reverse_array(array):\n",
    "    start = 0\n",
    "    end = len(array)-1\n",
    "    while start < end:\n",
    "        array[start],array[end] = array[end], array[start] \n",
    "        start += 1\n",
    "        end -= 1\n",
    "\n",
    "array = [10, 20, 30, 40, 50]\n",
    "print(array)\n",
    "Reverse_array(array)\n",
    "print(array)"
   ]
  },
  {
   "cell_type": "markdown",
   "id": "c27c5069",
   "metadata": {},
   "source": [
    "2. Учитывая целочисленный массив, отсортированный в неубывающем порядке, верните массив квадратов каждого числа, отсортированных в неубывающем порядке."
   ]
  },
  {
   "cell_type": "code",
   "execution_count": 8,
   "id": "c6b6b173",
   "metadata": {},
   "outputs": [
    {
     "data": {
      "text/html": [
       "<img src=\"https://miro.medium.com/max/892/1*BkkwH9kuXu6pLbjHwtFzBQ.png\"/>"
      ],
      "text/plain": [
       "<IPython.core.display.Image object>"
      ]
     },
     "execution_count": 8,
     "metadata": {},
     "output_type": "execute_result"
    }
   ],
   "source": [
    "Image(url=\"https://miro.medium.com/max/892/1*BkkwH9kuXu6pLbjHwtFzBQ.png\")"
   ]
  },
  {
   "cell_type": "code",
   "execution_count": 70,
   "id": "82749016",
   "metadata": {},
   "outputs": [
    {
     "name": "stdout",
     "output_type": "stream",
     "text": [
      "[-7, -3, 2, 3, 11]\n",
      "[4, 9, 9, 49, 121]\n"
     ]
    }
   ],
   "source": [
    "def sorted_Squares(nums):\n",
    "    n = len(nums)\n",
    "    start, end = 0, n-1\n",
    "    res = [0]*n\n",
    "    id_x = n -1\n",
    "    while end > - 1 and id_x > -1:\n",
    "        if abs(nums[start]) > abs(nums[end]):\n",
    "            res[id_x] = nums[start] * nums[start]\n",
    "            start +=1\n",
    "        else:\n",
    "            res[id_x] = nums[end] * nums[end]\n",
    "            end -= 1\n",
    "        id_x -= 1\n",
    "    return res\n",
    "\n",
    "nums = [-7,-3,2,3,11]\n",
    "print(nums)\n",
    "nums = sorted_Squares(nums)\n",
    "print(nums)\n",
    "    "
   ]
  },
  {
   "cell_type": "markdown",
   "id": "4df41c03",
   "metadata": {},
   "source": [
    "3. Учитывая строку s, найдите длину самой длинной подстроки без повторяющихся символов."
   ]
  },
  {
   "cell_type": "code",
   "execution_count": 9,
   "id": "6a11eaa3",
   "metadata": {},
   "outputs": [
    {
     "data": {
      "text/html": [
       "<img src=\"https://miro.medium.com/max/892/1*ygFgQaTnWdtmvYeVqzeawQ.png\"/>"
      ],
      "text/plain": [
       "<IPython.core.display.Image object>"
      ]
     },
     "execution_count": 9,
     "metadata": {},
     "output_type": "execute_result"
    }
   ],
   "source": [
    "Image(url=\"https://miro.medium.com/max/892/1*ygFgQaTnWdtmvYeVqzeawQ.png\")"
   ]
  },
  {
   "cell_type": "code",
   "execution_count": 75,
   "id": "3731b096",
   "metadata": {},
   "outputs": [
    {
     "name": "stdout",
     "output_type": "stream",
     "text": [
      "0 -1  set()\n",
      "abc\n",
      "1 2 bc {'b', 'c'}\n",
      "bca\n",
      "2 3 ca {'a', 'c'}\n",
      "cab\n",
      "3 4 ab {'a', 'b'}\n",
      "abc\n",
      "4 5 bc {'b', 'c'}\n",
      "bc\n",
      "5 5 c {'c'}\n",
      "cb\n",
      "6 6 b {'b'}\n",
      "b\n",
      "7 6  set()\n",
      "b\n",
      "3\n"
     ]
    }
   ],
   "source": [
    "def lengthOfLongestSubstring(s):\n",
    "    seen, n = set(), len(s)\n",
    "    right, res = -1, 0\n",
    "    for left in range(n):\n",
    "        print(left, right, s[left: right+1], seen)\n",
    "        while right + 1 < n and s[right+1] not in seen:\n",
    "            right += 1\n",
    "            seen.add(s[right])\n",
    "        res = max(res, right - left + 1)\n",
    "        print( s[left: right+1])\n",
    "        if right == n -1:\n",
    "            break\n",
    "        seen.discard(s[left])\n",
    "    return res\n",
    "\n",
    "print(lengthOfLongestSubstring(\"abcabcbb\"))"
   ]
  },
  {
   "cell_type": "markdown",
   "id": "a961d22a",
   "metadata": {},
   "source": [
    "4. Даны три отсортированных массива A, B и C не обязательно одинакового размера. Вычислите минимальную абсолютную разницу между максимальным и минимальным числом любого триплета A[i], B[j], C[k] таким образом, чтобы они принадлежали массивам A, B и C соответственно, т.е. минимизируйте:           *max(A[i], B[j], C[k]) — min(A[i], B[j], C[k])*"
   ]
  },
  {
   "cell_type": "code",
   "execution_count": 10,
   "id": "fb12c283",
   "metadata": {},
   "outputs": [
    {
     "data": {
      "text/html": [
       "<img src=\"https://miro.medium.com/max/892/1*doa8Fam3hmEZn_8rMwqF0A.png\"/>"
      ],
      "text/plain": [
       "<IPython.core.display.Image object>"
      ]
     },
     "execution_count": 10,
     "metadata": {},
     "output_type": "execute_result"
    }
   ],
   "source": [
    "Image(url=\"https://miro.medium.com/max/892/1*doa8Fam3hmEZn_8rMwqF0A.png\")"
   ]
  },
  {
   "cell_type": "code",
   "execution_count": 4,
   "id": "85c00635",
   "metadata": {},
   "outputs": [
    {
     "name": "stdout",
     "output_type": "stream",
     "text": [
      "1\n"
     ]
    }
   ],
   "source": [
    "def solve(A, B, C):\n",
    "    i , j, k = 0, 0, 0\n",
    "    m, n, p = len(A), len(B), len(C)\n",
    "    min_diff = abs(max(A[i], B[j], C[k]) - min(A[i], B[j], C[k]))\n",
    "    while i < m and j < n and k < p:\n",
    "        curr_diff = abs(max(A[i],B[j],C[k])-min(A[i],B[j],C[k]))\n",
    "        if curr_diff < min_diff:\n",
    "            min_diff = curr_diff\n",
    "        min_term = min(A[i], B[j], C[k])\n",
    "        #если нашли минимальный элемент в массиве, то переходим к следущему элементу\n",
    "        if A[i] == min_term:\n",
    "            i += 1\n",
    "        elif B[j] == min_term:\n",
    "            j += 1\n",
    "        else:\n",
    "            k += 1\n",
    "    return min_diff\n",
    "A = [1,4,5,8,10]\n",
    "B = [6,9,15]\n",
    "C = [2,3,6,6]\n",
    "print(solve(A, B, C))"
   ]
  },
  {
   "cell_type": "markdown",
   "id": "8ac9d2ca",
   "metadata": {},
   "source": [
    "Примеры:"
   ]
  },
  {
   "cell_type": "markdown",
   "id": "6462b07d",
   "metadata": {},
   "source": [
    "**1. Rotate array**\n",
    "\\\n",
    "Given an array, rotate the array to the right by k steps, where k is non-negative."
   ]
  },
  {
   "cell_type": "code",
   "execution_count": 38,
   "id": "d95e0f09",
   "metadata": {},
   "outputs": [],
   "source": [
    "def rotate(self, nums: list[int], k: int) -> None:\n",
    "        # capturing cycle, after k rotation \n",
    "        if k > len(nums):\n",
    "            k = k % len(nums)\n",
    "        \n",
    "        # first reverse the entire string\n",
    "        self.reverse(0, len(nums) - 1, nums)\n",
    "        \n",
    "        # then reverse first k\n",
    "        self.reverse(0, k - 1, nums)\n",
    "\n",
    "        # then reverse k to end\n",
    "        self.reverse(k, len(nums) - 1, nums)\n",
    "\n",
    "def reverse(self, start, end, a):\n",
    "        while start < end:\n",
    "            a[start], a[end] = a[end], a[start]\n",
    "            start += 1\n",
    "            end -= 1"
   ]
  },
  {
   "cell_type": "markdown",
   "id": "3b870179",
   "metadata": {},
   "source": [
    "**2. Squares of a Sorted Array**\n",
    "\\\n",
    "Given an integer array nums sorted in non-decreasing order, return an array of the squares of each number sorted in non-decreasing order."
   ]
  },
  {
   "cell_type": "code",
   "execution_count": 41,
   "id": "f59be095",
   "metadata": {},
   "outputs": [],
   "source": [
    "def sortedSquares(self, nums: list[int]) -> list[int]:\n",
    "        n = len(nums)\n",
    "        start, end = 0, n-1\n",
    "        res = [0]*n\n",
    "        id_x = n-1\n",
    "        while end > -1 and id_x > -1:\n",
    "            if abs(nums[start]) > abs(nums[end]):\n",
    "                res[id_x] = nums[start]*nums[start]\n",
    "                start += 1\n",
    "            else:\n",
    "                res[id_x] = nums[end]*nums[end]\n",
    "                end -= 1\n",
    "            id_x -= 1\n",
    "        return res"
   ]
  },
  {
   "cell_type": "markdown",
   "id": "1b8c266b",
   "metadata": {},
   "source": [
    "**3. Move zeros** \n",
    "\\\n",
    "Given an integer array nums, move all 0's to the end of it while maintaining the relative order of the non-zero elements.\n",
    "\n",
    "Note that you must do this in-place without making a copy of the array."
   ]
  },
  {
   "cell_type": "code",
   "execution_count": 48,
   "id": "f480d232",
   "metadata": {},
   "outputs": [
    {
     "data": {
      "text/html": [
       "<img src=\"https://assets.leetcode.com/users/images/2490959a-5e63-46d0-b1f4-0393fe78e4d2_1608510556.5769494.png\"/>"
      ],
      "text/plain": [
       "<IPython.core.display.Image object>"
      ]
     },
     "execution_count": 48,
     "metadata": {},
     "output_type": "execute_result"
    }
   ],
   "source": [
    "Image(url=\"https://assets.leetcode.com/users/images/2490959a-5e63-46d0-b1f4-0393fe78e4d2_1608510556.5769494.png\")"
   ]
  },
  {
   "cell_type": "code",
   "execution_count": 47,
   "id": "ee77b745",
   "metadata": {},
   "outputs": [
    {
     "name": "stdout",
     "output_type": "stream",
     "text": [
      "[0, 1, 0, 3, 12, 0, 0, 3, 5, 9, 0]\n",
      "[1, 0, 0, 3, 12, 0, 0, 3, 5, 9, 0]\n",
      "[1, 0, 0, 3, 12, 0, 0, 3, 5, 9, 0]\n",
      "[1, 3, 0, 0, 12, 0, 0, 3, 5, 9, 0]\n",
      "[1, 3, 12, 0, 0, 0, 0, 3, 5, 9, 0]\n",
      "[1, 3, 12, 0, 0, 0, 0, 3, 5, 9, 0]\n",
      "[1, 3, 12, 0, 0, 0, 0, 3, 5, 9, 0]\n",
      "[1, 3, 12, 3, 0, 0, 0, 0, 5, 9, 0]\n",
      "[1, 3, 12, 3, 5, 0, 0, 0, 0, 9, 0]\n",
      "[1, 3, 12, 3, 5, 9, 0, 0, 0, 0, 0]\n",
      "[1, 3, 12, 3, 5, 9, 0, 0, 0, 0, 0]\n",
      "[1, 3, 12, 3, 5, 9, 0, 0, 0, 0, 0]\n"
     ]
    }
   ],
   "source": [
    "nums = [0,1,0,3,12,0,0,3,5,9,0]\n",
    "i = 0\n",
    "for j in range(len(nums)):\n",
    "    if nums[j] != 0:\n",
    "        nums[i], nums[j] = nums[j], nums[i]\n",
    "        i += 1\n",
    "    print(nums)\n",
    "print(nums)"
   ]
  },
  {
   "cell_type": "markdown",
   "id": "02cb35ed",
   "metadata": {},
   "source": [
    "**4. Two Sum II - Input Array Is Sorted**\n",
    "\\\n",
    "Given a 1-indexed array of integers numbers that is already sorted in non-decreasing order, find two numbers such that they add up to a specific target number. Let these two numbers be numbers[index1] and numbers[index2] where 1 <= index1 < index2 <= numbers.length.\n",
    "\n",
    "Return the indices of the two numbers, index1 and index2, added by one as an integer array [index1, index2] of length 2.\n",
    "\n",
    "The tests are generated such that there is exactly one solution. You may not use the same element twice.\n",
    "\n",
    "Your solution must use only constant extra space."
   ]
  },
  {
   "cell_type": "code",
   "execution_count": 55,
   "id": "919a10e3",
   "metadata": {},
   "outputs": [
    {
     "name": "stdout",
     "output_type": "stream",
     "text": [
      "[0, 1, 3, 3, 5, 9, 12]\n",
      "3 7\n",
      "4 7\n",
      "6 6\n"
     ]
    }
   ],
   "source": [
    "nums = sorted([0,1,3,12,3,5,9])\n",
    "print(nums)\n",
    "target = 15\n",
    "i = 0\n",
    "j = len(nums) - 1\n",
    "while i < j:\n",
    "    summ = nums[i] + nums[j]\n",
    "    if summ == target:\n",
    "        print(i+1,j+1)\n",
    "    if summ > target:\n",
    "        j -= 1\n",
    "    else:\n",
    "        i += 1\n",
    "print(i+1,j+1)"
   ]
  },
  {
   "cell_type": "markdown",
   "id": "ef4b2867",
   "metadata": {},
   "source": [
    "**5. Reverse Words in a String III**\n",
    "\\\n",
    "Given a string s, reverse the order of characters in each word within a sentence while still preserving whitespace and initial word order."
   ]
  },
  {
   "cell_type": "code",
   "execution_count": 65,
   "id": "a77f6176",
   "metadata": {},
   "outputs": [
    {
     "data": {
      "text/plain": [
       "\"s'teL ekat edoCteeL tsetnoc\""
      ]
     },
     "execution_count": 65,
     "metadata": {},
     "output_type": "execute_result"
    }
   ],
   "source": [
    "def reverseWords(self, s: str) -> str:\n",
    "        res = ''\n",
    "        i = 0\n",
    "        j = 0\n",
    "        while i < len(s):\n",
    "            if s[i] !=' ':\n",
    "                i += 1\n",
    "            elif s[i] ==' ':\n",
    "                res += s[j:i + 1][::-1]\n",
    "                i += 1\n",
    "                j = i\n",
    "        res += ' '\n",
    "        res += s[j:i + 2][::-1]\n",
    "        return res[1:]\n",
    "s = \"Let's take LeetCode contest\"\n",
    "reverseWords(0,s)"
   ]
  },
  {
   "cell_type": "code",
   "execution_count": 66,
   "id": "de2b7f9a",
   "metadata": {},
   "outputs": [
    {
     "data": {
      "text/plain": [
       "\"s'teL ekat edoCteeL tsetnoc\""
      ]
     },
     "execution_count": 66,
     "metadata": {},
     "output_type": "execute_result"
    }
   ],
   "source": [
    "def reverseWords(self, s: str) -> str:\n",
    "        split_list = s.split(\" \")\n",
    "        split_list = [i[::-1] for i in split_list]\n",
    "        return \" \".join(split_list)\n",
    "s = \"Let's take LeetCode contest\"\n",
    "reverseWords(0,s)"
   ]
  },
  {
   "cell_type": "code",
   "execution_count": null,
   "id": "723f41ba",
   "metadata": {},
   "outputs": [],
   "source": []
  }
 ],
 "metadata": {
  "kernelspec": {
   "display_name": "Python 3 (ipykernel)",
   "language": "python",
   "name": "python3"
  },
  "language_info": {
   "codemirror_mode": {
    "name": "ipython",
    "version": 3
   },
   "file_extension": ".py",
   "mimetype": "text/x-python",
   "name": "python",
   "nbconvert_exporter": "python",
   "pygments_lexer": "ipython3",
   "version": "3.9.12"
  },
  "toc": {
   "base_numbering": 1,
   "nav_menu": {},
   "number_sections": true,
   "sideBar": true,
   "skip_h1_title": false,
   "title_cell": "Table of Contents",
   "title_sidebar": "Contents",
   "toc_cell": false,
   "toc_position": {},
   "toc_section_display": true,
   "toc_window_display": true
  }
 },
 "nbformat": 4,
 "nbformat_minor": 5
}
