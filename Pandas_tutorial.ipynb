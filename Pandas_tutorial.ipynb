{
 "cells": [
  {
   "cell_type": "code",
   "execution_count": 1,
   "id": "9a3521de",
   "metadata": {},
   "outputs": [],
   "source": [
    "import pandas as pd"
   ]
  },
  {
   "cell_type": "markdown",
   "id": "f0a36075",
   "metadata": {},
   "source": [
    "Pandas добавляет в Python новые структуры данных — **Series** и **DataFrame**."
   ]
  },
  {
   "cell_type": "markdown",
   "id": "c06aec18",
   "metadata": {},
   "source": [
    "## Структура данных Series"
   ]
  },
  {
   "cell_type": "markdown",
   "id": "2fb7c4fa",
   "metadata": {},
   "source": [
    "**Series** - одномерные массивы данных. \\\n",
    "Они очень похожи на списки, но отличаются по поведению — например, операции применяются к списку целиком, а в Series — поэлементно."
   ]
  },
  {
   "cell_type": "markdown",
   "id": "4707248b",
   "metadata": {},
   "source": [
    "Конструктор класса Series выглядит следующим образом:"
   ]
  },
  {
   "cell_type": "raw",
   "id": "12bf744d",
   "metadata": {},
   "source": [
    "pd.Series(data=None, index=None, dtype=None, name=None, copy=False, fastpath=False)"
   ]
  },
  {
   "cell_type": "markdown",
   "id": "ab2e0dfb",
   "metadata": {},
   "source": [
    "- **data** – массив, словарь или скалярное значение, на базе которого будет построен Series;\n",
    "\n",
    "- **index** – список меток, который будет использоваться для доступа к элементам Series. Длина списка должна быть равна длине data;\n",
    "\n",
    "- **dtype** – объект numpy.dtype, определяющий тип данных;\n",
    "\n",
    "- **copy** – создает копию массива"
   ]
  },
  {
   "cell_type": "markdown",
   "id": "cec1109b",
   "metadata": {},
   "source": [
    "Создать структуру Series можно на базе различных типов данных:\n",
    "\n",
    "- словари Python;\n",
    "- списки Python;\n",
    "- массивы из numpy: ndarray;\n",
    "- скалярные величины."
   ]
  },
  {
   "cell_type": "markdown",
   "id": "7481503a",
   "metadata": {},
   "source": [
    "### Создание Series из списка Python"
   ]
  },
  {
   "cell_type": "code",
   "execution_count": 4,
   "id": "1f6be0aa",
   "metadata": {},
   "outputs": [
    {
     "name": "stdout",
     "output_type": "stream",
     "text": [
      "0    1\n",
      "1    2\n",
      "2    3\n",
      "3    4\n",
      "4    5\n",
      "dtype: int64\n"
     ]
    },
    {
     "data": {
      "text/plain": [
       "pandas.core.series.Series"
      ]
     },
     "execution_count": 4,
     "metadata": {},
     "output_type": "execute_result"
    }
   ],
   "source": [
    "lst = [1, 2, 3, 4, 5] \n",
    "\n",
    "s = pd.Series(lst)\n",
    "print(s)\n",
    "\n",
    "type(s)"
   ]
  },
  {
   "cell_type": "code",
   "execution_count": 5,
   "id": "1c1004e9",
   "metadata": {},
   "outputs": [
    {
     "name": "stdout",
     "output_type": "stream",
     "text": [
      "a    Мария\n",
      "b     Петр\n",
      "c     Иван\n",
      "dtype: object\n"
     ]
    }
   ],
   "source": [
    "lst = ['Мария', 'Петр', 'Иван'] # создание списка Python\n",
    "\n",
    "s = pd.Series(lst, ['a', 'b', 'c']) # создание Series с заданием меток (именованые метки - a, b, c)\n",
    "\n",
    "print(s)"
   ]
  },
  {
   "cell_type": "markdown",
   "id": "e37d760c",
   "metadata": {},
   "source": [
    "### Создание Series из *ndarray массива из numpy*"
   ]
  },
  {
   "cell_type": "code",
   "execution_count": 10,
   "id": "f949567e",
   "metadata": {},
   "outputs": [
    {
     "name": "stdout",
     "output_type": "stream",
     "text": [
      "[1 2 3 4 5]\n",
      "<class 'numpy.ndarray'>\n",
      "a    1\n",
      "b    2\n",
      "c    3\n",
      "d    4\n",
      "e    5\n",
      "dtype: int32\n"
     ]
    }
   ],
   "source": [
    "import numpy as np\n",
    "\n",
    "ndarr = np.array([1, 2, 3, 4, 5])\n",
    "\n",
    "print(ndarr)\n",
    "print(type(ndarr))\n",
    "\n",
    "s2 = pd.Series(ndarr, ['a', 'b', 'c', 'd', 'e'])\n",
    "print(s2)"
   ]
  },
  {
   "cell_type": "markdown",
   "id": "52359b06",
   "metadata": {},
   "source": [
    "### Создание Series из словаря (dict)"
   ]
  },
  {
   "cell_type": "code",
   "execution_count": 11,
   "id": "bf5f846c",
   "metadata": {},
   "outputs": [
    {
     "data": {
      "text/plain": [
       "a    1\n",
       "b    2\n",
       "c    3\n",
       "dtype: int64"
      ]
     },
     "execution_count": 11,
     "metadata": {},
     "output_type": "execute_result"
    }
   ],
   "source": [
    "d = {'a':1, 'b':2, 'c':3}\n",
    "s3 = pd.Series(d)\n",
    "s3"
   ]
  },
  {
   "cell_type": "markdown",
   "id": "cfc049fb",
   "metadata": {},
   "source": [
    "### Создание Series с использованием константы"
   ]
  },
  {
   "cell_type": "code",
   "execution_count": 12,
   "id": "96939986",
   "metadata": {},
   "outputs": [
    {
     "data": {
      "text/plain": [
       "a    7\n",
       "b    7\n",
       "c    7\n",
       "dtype: int64"
      ]
     },
     "execution_count": 12,
     "metadata": {},
     "output_type": "execute_result"
    }
   ],
   "source": [
    "a = 7\n",
    "\n",
    "s4 = pd.Series(a, ['a', 'b', 'c'])\n",
    "\n",
    "s4"
   ]
  },
  {
   "cell_type": "markdown",
   "id": "40ab63d4",
   "metadata": {},
   "source": [
    "У объекта **Series** есть атрибуты через которые можно получить список элементов и индексы, это **values** и **index** соответственно."
   ]
  },
  {
   "cell_type": "code",
   "execution_count": 18,
   "id": "60cae3c0",
   "metadata": {},
   "outputs": [
    {
     "name": "stdout",
     "output_type": "stream",
     "text": [
      "Индексы:  Index(['a', 'b', 'c'], dtype='object')\n",
      "Значения:  [7 7 7]\n"
     ]
    }
   ],
   "source": [
    "print('Индексы: ', s4.index)\n",
    "\n",
    "print('Значения: ', s4.values)"
   ]
  },
  {
   "cell_type": "markdown",
   "id": "d7c5cbac",
   "metadata": {},
   "source": [
    "### Работа с элементами Series"
   ]
  },
  {
   "cell_type": "markdown",
   "id": "7b2ecd1d",
   "metadata": {},
   "source": [
    "К элементам Series можно обращаться по численному индексу, при таком подходе работа со структурой не отличается от работы со списками в Python."
   ]
  },
  {
   "cell_type": "code",
   "execution_count": 21,
   "id": "7631ce7b",
   "metadata": {},
   "outputs": [
    {
     "name": "stdout",
     "output_type": "stream",
     "text": [
      "a         Иван\n",
      "b         Петр\n",
      "c        Мария\n",
      "d    Анастасия\n",
      "e        Федор\n",
      "dtype: object\n",
      "Федор\n"
     ]
    }
   ],
   "source": [
    "# Создание Series из списка Python\n",
    "s5 = pd.Series(['Иван', 'Петр', 'Мария', 'Анастасия', 'Федор'], ['a', 'b', 'c', 'd', 'e'])\n",
    "print(s5)\n",
    "# Обращание ко третьему элементу Series (нумерация начинается с 0)\n",
    "print(s5[4])"
   ]
  },
  {
   "cell_type": "markdown",
   "id": "aa74f396",
   "metadata": {},
   "source": [
    "Можно использовать метку, тогда работа с **Series** будет похожа на работу со словарем (dict) в Python."
   ]
  },
  {
   "cell_type": "code",
   "execution_count": 23,
   "id": "489d22a1",
   "metadata": {},
   "outputs": [
    {
     "name": "stdout",
     "output_type": "stream",
     "text": [
      "Петр\n"
     ]
    }
   ],
   "source": [
    "# Обращание ко третьему элементу Series по заданному индексу (нумерация начинается с 0)\n",
    "print(s5['b'])"
   ]
  },
  {
   "cell_type": "markdown",
   "id": "1e24ea95",
   "metadata": {},
   "source": [
    "В поле для индекса можно поместить условное выражение."
   ]
  },
  {
   "cell_type": "code",
   "execution_count": 25,
   "id": "c0ee6036",
   "metadata": {},
   "outputs": [
    {
     "name": "stdout",
     "output_type": "stream",
     "text": [
      "a    10\n",
      "b    13\n",
      "c     1\n",
      "d     5\n",
      "e     0\n",
      "dtype: int64\n"
     ]
    },
    {
     "data": {
      "text/plain": [
       "c    1\n",
       "e    0\n",
       "dtype: int64"
      ]
     },
     "execution_count": 25,
     "metadata": {},
     "output_type": "execute_result"
    }
   ],
   "source": [
    "s6 = pd.Series([10, 13, 1, 5, 0], ['a', 'b', 'c', 'd', 'e'])\n",
    "print(s6)\n",
    "# Выведет все значения в Series меньше четырех\n",
    "s6[s6 <= 4]"
   ]
  },
  {
   "cell_type": "code",
   "execution_count": 26,
   "id": "241862ef",
   "metadata": {},
   "outputs": [
    {
     "data": {
      "text/plain": [
       "a    10\n",
       "c     1\n",
       "e     0\n",
       "dtype: int64"
      ]
     },
     "execution_count": 26,
     "metadata": {},
     "output_type": "execute_result"
    }
   ],
   "source": [
    "# Получение элементов с метками 'a', 'c' и 'e':\n",
    "s6[['a', 'c', 'e']]"
   ]
  },
  {
   "cell_type": "markdown",
   "id": "f15ed774",
   "metadata": {},
   "source": [
    "Обращение по слайсу (срезу) меток."
   ]
  },
  {
   "cell_type": "code",
   "execution_count": 28,
   "id": "4dea8713",
   "metadata": {},
   "outputs": [
    {
     "data": {
      "text/plain": [
       "a    10\n",
       "b    13\n",
       "c     1\n",
       "d     5\n",
       "dtype: int64"
      ]
     },
     "execution_count": 28,
     "metadata": {},
     "output_type": "execute_result"
    }
   ],
   "source": [
    "# Получение элементов структуры с метками от 'a' до 'd':\n",
    "s6['a':'d']"
   ]
  },
  {
   "cell_type": "code",
   "execution_count": 29,
   "id": "3bfee6f7",
   "metadata": {},
   "outputs": [
    {
     "data": {
      "text/plain": [
       "a    10\n",
       "b    13\n",
       "c     1\n",
       "d     5\n",
       "dtype: int64"
      ]
     },
     "execution_count": 29,
     "metadata": {},
     "output_type": "execute_result"
    }
   ],
   "source": [
    "# Получение элементов стурктуры с индексами от 0 до 4:\n",
    "s6[0:4]"
   ]
  },
  {
   "cell_type": "markdown",
   "id": "a7d2a8b2",
   "metadata": {},
   "source": [
    "### Работа с Series"
   ]
  },
  {
   "cell_type": "markdown",
   "id": "8c005333",
   "metadata": {},
   "source": [
    "Со структурами Series можно работать как с векторами: складывать, умножать вектор на число и т.п."
   ]
  },
  {
   "cell_type": "code",
   "execution_count": 30,
   "id": "839e6fc4",
   "metadata": {},
   "outputs": [
    {
     "data": {
      "text/plain": [
       "a    11\n",
       "b    21\n",
       "c    31\n",
       "d    41\n",
       "e    50\n",
       "dtype: int64"
      ]
     },
     "execution_count": 30,
     "metadata": {},
     "output_type": "execute_result"
    }
   ],
   "source": [
    "s7 = pd.Series([10, 20, 30, 40, 50], ['a', 'b', 'c', 'd', 'e'])\n",
    "s8 = pd.Series([1, 1, 1, 1, 0], ['a', 'b', 'c', 'd', 'e'])\n",
    "\n",
    "# сложение\n",
    "# к каждому элементу s7 прибавляется каждый элемент s8\n",
    "# для корректного сложения необходимо, чтобы длинна Series совпадла\n",
    "s9 = s7 + s8\n",
    "s9"
   ]
  },
  {
   "cell_type": "code",
   "execution_count": 31,
   "id": "895ac26b",
   "metadata": {},
   "outputs": [
    {
     "data": {
      "text/plain": [
       "a     30\n",
       "b     60\n",
       "c     90\n",
       "d    120\n",
       "e    150\n",
       "dtype: int64"
      ]
     },
     "execution_count": 31,
     "metadata": {},
     "output_type": "execute_result"
    }
   ],
   "source": [
    "# Каждый элемент s7 увеличится в 3 раза\n",
    "s9 = s7 * 3\n",
    "\n",
    "s9"
   ]
  },
  {
   "cell_type": "markdown",
   "id": "138131b8",
   "metadata": {},
   "source": [
    "## Структура данных DataFrame"
   ]
  },
  {
   "cell_type": "markdown",
   "id": "9d7db5a6",
   "metadata": {},
   "source": [
    "Если **Series** представляет собой одномерную структуру, которую для себя можно представить как таблицу с одной строкой, то **DataFrame** – это уже двумерная структура – полноценная таблица с множеством строк и столбцов.\n"
   ]
  },
  {
   "cell_type": "markdown",
   "id": "48ff4c0e",
   "metadata": {},
   "source": [
    "Конструктор класса DataFrame выглядит так:"
   ]
  },
  {
   "cell_type": "raw",
   "id": "caea78fc",
   "metadata": {},
   "source": [
    "pd.DataFrame(data=None, index=None, columns=None, dtype=None, copy=False)"
   ]
  },
  {
   "cell_type": "markdown",
   "id": "059eaa5e",
   "metadata": {},
   "source": [
    "- **data** – массив ndarray, словарь (dict) или другой DataFrame;\n",
    "\n",
    "- **index** – список меток для записей (имена строк таблицы);\n",
    "\n",
    "- **columns** – список меток для полей (имена столбцов таблицы);\n",
    "\n",
    "- **dtype** – объект numpy.dtype, определяющий тип данных;\n",
    "\n",
    "- **copy** – создает копию массива данных, если параметр равен True в ином случае ничего не делает.\n",
    "\n",
    "Cтруктуру **DataFrame** можно создать на базе:\n",
    "\n",
    "- словаря (dict) в качестве элементов которого должны выступать: одномерные - ndarray, списки, другие словари, структуры Series;\n",
    "- двумерные ndarray;\n",
    " структуры Series;\n",
    "- структурированные ndarray;\n",
    "- другие DataFrame.\n"
   ]
  },
  {
   "cell_type": "markdown",
   "id": "fa0c4c49",
   "metadata": {},
   "source": [
    "### Создание DataFrame из словаря"
   ]
  },
  {
   "cell_type": "code",
   "execution_count": 33,
   "id": "5ee62689",
   "metadata": {},
   "outputs": [
    {
     "data": {
      "text/html": [
       "<div>\n",
       "<style scoped>\n",
       "    .dataframe tbody tr th:only-of-type {\n",
       "        vertical-align: middle;\n",
       "    }\n",
       "\n",
       "    .dataframe tbody tr th {\n",
       "        vertical-align: top;\n",
       "    }\n",
       "\n",
       "    .dataframe thead th {\n",
       "        text-align: right;\n",
       "    }\n",
       "</style>\n",
       "<table border=\"1\" class=\"dataframe\">\n",
       "  <thead>\n",
       "    <tr style=\"text-align: right;\">\n",
       "      <th></th>\n",
       "      <th>Name</th>\n",
       "      <th>Age</th>\n",
       "    </tr>\n",
       "  </thead>\n",
       "  <tbody>\n",
       "    <tr>\n",
       "      <th>0</th>\n",
       "      <td>Виктор</td>\n",
       "      <td>18</td>\n",
       "    </tr>\n",
       "    <tr>\n",
       "      <th>1</th>\n",
       "      <td>Мария</td>\n",
       "      <td>21</td>\n",
       "    </tr>\n",
       "    <tr>\n",
       "      <th>2</th>\n",
       "      <td>Иван</td>\n",
       "      <td>19</td>\n",
       "    </tr>\n",
       "  </tbody>\n",
       "</table>\n",
       "</div>"
      ],
      "text/plain": [
       "     Name  Age\n",
       "0  Виктор   18\n",
       "1   Мария   21\n",
       "2    Иван   19"
      ]
     },
     "execution_count": 33,
     "metadata": {},
     "output_type": "execute_result"
    }
   ],
   "source": [
    "d = {\"Name\":pd.Series(['Виктор', 'Мария', 'Иван']),\n",
    "     \"Age\": pd.Series([18, 21, 19])}\n",
    "\n",
    "df = pd.DataFrame(d)\n",
    "df"
   ]
  },
  {
   "cell_type": "markdown",
   "id": "63a59a14",
   "metadata": {},
   "source": [
    "### Создание DataFrame из списка словарей"
   ]
  },
  {
   "cell_type": "code",
   "execution_count": 34,
   "id": "74cf7de6",
   "metadata": {},
   "outputs": [
    {
     "data": {
      "text/html": [
       "<div>\n",
       "<style scoped>\n",
       "    .dataframe tbody tr th:only-of-type {\n",
       "        vertical-align: middle;\n",
       "    }\n",
       "\n",
       "    .dataframe tbody tr th {\n",
       "        vertical-align: top;\n",
       "    }\n",
       "\n",
       "    .dataframe thead th {\n",
       "        text-align: right;\n",
       "    }\n",
       "</style>\n",
       "<table border=\"1\" class=\"dataframe\">\n",
       "  <thead>\n",
       "    <tr style=\"text-align: right;\">\n",
       "      <th></th>\n",
       "      <th>Name</th>\n",
       "      <th>Age</th>\n",
       "    </tr>\n",
       "  </thead>\n",
       "  <tbody>\n",
       "    <tr>\n",
       "      <th>0</th>\n",
       "      <td>Виктор</td>\n",
       "      <td>18</td>\n",
       "    </tr>\n",
       "    <tr>\n",
       "      <th>1</th>\n",
       "      <td>Мария</td>\n",
       "      <td>21</td>\n",
       "    </tr>\n",
       "    <tr>\n",
       "      <th>2</th>\n",
       "      <td>Иван</td>\n",
       "      <td>19</td>\n",
       "    </tr>\n",
       "  </tbody>\n",
       "</table>\n",
       "</div>"
      ],
      "text/plain": [
       "     Name  Age\n",
       "0  Виктор   18\n",
       "1   Мария   21\n",
       "2    Иван   19"
      ]
     },
     "execution_count": 34,
     "metadata": {},
     "output_type": "execute_result"
    }
   ],
   "source": [
    "d = [{\"Name\": \"Виктор\", \"Age\": 18},\n",
    "     {\"Name\": \"Мария\", \"Age\": 21},\n",
    "     {\"Name\": \"Иван\", \"Age\": 19}]\n",
    "\n",
    "df = pd.DataFrame(d)\n",
    "df"
   ]
  },
  {
   "cell_type": "markdown",
   "id": "95512a82",
   "metadata": {},
   "source": [
    "### Создание DataFrame из двумерного массива"
   ]
  },
  {
   "cell_type": "code",
   "execution_count": 35,
   "id": "65016381",
   "metadata": {},
   "outputs": [
    {
     "data": {
      "text/html": [
       "<div>\n",
       "<style scoped>\n",
       "    .dataframe tbody tr th:only-of-type {\n",
       "        vertical-align: middle;\n",
       "    }\n",
       "\n",
       "    .dataframe tbody tr th {\n",
       "        vertical-align: top;\n",
       "    }\n",
       "\n",
       "    .dataframe thead th {\n",
       "        text-align: right;\n",
       "    }\n",
       "</style>\n",
       "<table border=\"1\" class=\"dataframe\">\n",
       "  <thead>\n",
       "    <tr style=\"text-align: right;\">\n",
       "      <th></th>\n",
       "      <th>0</th>\n",
       "      <th>1</th>\n",
       "      <th>2</th>\n",
       "    </tr>\n",
       "  </thead>\n",
       "  <tbody>\n",
       "    <tr>\n",
       "      <th>0</th>\n",
       "      <td>1</td>\n",
       "      <td>2</td>\n",
       "      <td>3</td>\n",
       "    </tr>\n",
       "    <tr>\n",
       "      <th>1</th>\n",
       "      <td>10</td>\n",
       "      <td>20</td>\n",
       "      <td>30</td>\n",
       "    </tr>\n",
       "  </tbody>\n",
       "</table>\n",
       "</div>"
      ],
      "text/plain": [
       "    0   1   2\n",
       "0   1   2   3\n",
       "1  10  20  30"
      ]
     },
     "execution_count": 35,
     "metadata": {},
     "output_type": "execute_result"
    }
   ],
   "source": [
    "nda = np.array([[1, 2, 3], [10, 20, 30]])\n",
    "\n",
    "df = pd.DataFrame(nda)\n",
    "df"
   ]
  },
  {
   "cell_type": "markdown",
   "id": "6823291f",
   "metadata": {},
   "source": [
    "### Работа с элементами DataFrame"
   ]
  },
  {
   "cell_type": "markdown",
   "id": "fa9ca45f",
   "metadata": {},
   "source": [
    "Обращение к столбцу DataFrame:\n",
    "\n",
    "- df['Название столбца']\n",
    "- df.название_столбца"
   ]
  },
  {
   "cell_type": "code",
   "execution_count": 37,
   "id": "30a825ef",
   "metadata": {},
   "outputs": [
    {
     "data": {
      "text/plain": [
       "0    Виктор\n",
       "1     Мария\n",
       "2      Иван\n",
       "Name: Name, dtype: object"
      ]
     },
     "execution_count": 37,
     "metadata": {},
     "output_type": "execute_result"
    }
   ],
   "source": [
    "d = [{\"Name\": \"Виктор\", \"Age\": 18},\n",
    "     {\"Name\": \"Мария\", \"Age\": 21},\n",
    "     {\"Name\": \"Иван\", \"Age\": 19}]\n",
    "\n",
    "df = pd.DataFrame(d)\n",
    "\n",
    "df['Name']"
   ]
  },
  {
   "cell_type": "code",
   "execution_count": 38,
   "id": "fcb0c096",
   "metadata": {},
   "outputs": [
    {
     "data": {
      "text/plain": [
       "0    Виктор\n",
       "1     Мария\n",
       "2      Иван\n",
       "Name: Name, dtype: object"
      ]
     },
     "execution_count": 38,
     "metadata": {},
     "output_type": "execute_result"
    }
   ],
   "source": [
    "df.Name"
   ]
  },
  {
   "cell_type": "markdown",
   "id": "65558c69",
   "metadata": {},
   "source": [
    "Также для работы со строками и столбцами существуют методы:\n",
    "\n",
    "**DataFrame.loc[]**- Доступ к группе строк и столбцов (или только к столбцам, или только к строкам) по **меткам или логическому массиву**. \n",
    "\n",
    "Допустимые входы:\n",
    "- Одиночная метка, например 5 или 'a', (обратите внимание, что 5 - интерпретируется как метка индекса, а не как целочисленная позиция по индексу).\n",
    "- Список или массив меток, например ['a', 'b', 'c']\n",
    "- Объект среза с метками, например 'a':'f'.\n",
    "\n",
    "**DataFrame.iloc[]** - позволяет получить доступ к элементам DataFrame по **индексам**. \n",
    "\n",
    "Допустимые входы:\n",
    "- Целое число, например 5.\n",
    "- Список или массив целых чисел, например .[4, 3, 0]\n",
    "- Объект среза с целыми числами, например 1:7."
   ]
  },
  {
   "cell_type": "code",
   "execution_count": 40,
   "id": "f6a528ef",
   "metadata": {},
   "outputs": [
    {
     "data": {
      "text/html": [
       "<div>\n",
       "<style scoped>\n",
       "    .dataframe tbody tr th:only-of-type {\n",
       "        vertical-align: middle;\n",
       "    }\n",
       "\n",
       "    .dataframe tbody tr th {\n",
       "        vertical-align: top;\n",
       "    }\n",
       "\n",
       "    .dataframe thead th {\n",
       "        text-align: right;\n",
       "    }\n",
       "</style>\n",
       "<table border=\"1\" class=\"dataframe\">\n",
       "  <thead>\n",
       "    <tr style=\"text-align: right;\">\n",
       "      <th></th>\n",
       "      <th>Name</th>\n",
       "      <th>Age</th>\n",
       "    </tr>\n",
       "  </thead>\n",
       "  <tbody>\n",
       "    <tr>\n",
       "      <th>0</th>\n",
       "      <td>Виктор</td>\n",
       "      <td>18</td>\n",
       "    </tr>\n",
       "    <tr>\n",
       "      <th>1</th>\n",
       "      <td>Мария</td>\n",
       "      <td>21</td>\n",
       "    </tr>\n",
       "    <tr>\n",
       "      <th>2</th>\n",
       "      <td>Иван</td>\n",
       "      <td>19</td>\n",
       "    </tr>\n",
       "  </tbody>\n",
       "</table>\n",
       "</div>"
      ],
      "text/plain": [
       "     Name  Age\n",
       "0  Виктор   18\n",
       "1   Мария   21\n",
       "2    Иван   19"
      ]
     },
     "execution_count": 40,
     "metadata": {},
     "output_type": "execute_result"
    }
   ],
   "source": [
    "df"
   ]
  },
  {
   "cell_type": "code",
   "execution_count": 41,
   "id": "09601e77",
   "metadata": {},
   "outputs": [
    {
     "data": {
      "text/plain": [
       "Name    Виктор\n",
       "Age         18\n",
       "Name: 0, dtype: object"
      ]
     },
     "execution_count": 41,
     "metadata": {},
     "output_type": "execute_result"
    }
   ],
   "source": [
    "df.iloc[0] # по индексу вернет 0 строку DataFrame"
   ]
  },
  {
   "cell_type": "markdown",
   "id": "f541d1b7",
   "metadata": {},
   "source": [
    "Для доступа к элементам и по строке и по столбцу используется следующая конструкция:\n",
    "\n",
    "- DataFrame.iloc[строка, столбец]\n",
    "- DataFrame.iloc[диапазон:строк, диапазон:столбцов]"
   ]
  },
  {
   "cell_type": "code",
   "execution_count": 44,
   "id": "0f98630a",
   "metadata": {},
   "outputs": [
    {
     "data": {
      "text/plain": [
       "18"
      ]
     },
     "execution_count": 44,
     "metadata": {},
     "output_type": "execute_result"
    }
   ],
   "source": [
    "df.iloc[0,1] # по индексу вернет элемент DataFrame на пересечении 0 строки и 1 столбца [строка, столбца]"
   ]
  },
  {
   "cell_type": "code",
   "execution_count": 45,
   "id": "d1746e0c",
   "metadata": {},
   "outputs": [
    {
     "data": {
      "text/plain": [
       "0    18\n",
       "1    21\n",
       "2    19\n",
       "Name: Age, dtype: int64"
      ]
     },
     "execution_count": 45,
     "metadata": {},
     "output_type": "execute_result"
    }
   ],
   "source": [
    "df.iloc[:, 1] # вернет все элементы 1 столбца для всех строк"
   ]
  },
  {
   "cell_type": "code",
   "execution_count": 47,
   "id": "fd6a370f",
   "metadata": {},
   "outputs": [
    {
     "data": {
      "text/html": [
       "<div>\n",
       "<style scoped>\n",
       "    .dataframe tbody tr th:only-of-type {\n",
       "        vertical-align: middle;\n",
       "    }\n",
       "\n",
       "    .dataframe tbody tr th {\n",
       "        vertical-align: top;\n",
       "    }\n",
       "\n",
       "    .dataframe thead th {\n",
       "        text-align: right;\n",
       "    }\n",
       "</style>\n",
       "<table border=\"1\" class=\"dataframe\">\n",
       "  <thead>\n",
       "    <tr style=\"text-align: right;\">\n",
       "      <th></th>\n",
       "      <th>Name</th>\n",
       "      <th>Age</th>\n",
       "    </tr>\n",
       "  </thead>\n",
       "  <tbody>\n",
       "    <tr>\n",
       "      <th>0</th>\n",
       "      <td>Виктор</td>\n",
       "      <td>18</td>\n",
       "    </tr>\n",
       "    <tr>\n",
       "      <th>1</th>\n",
       "      <td>Мария</td>\n",
       "      <td>21</td>\n",
       "    </tr>\n",
       "  </tbody>\n",
       "</table>\n",
       "</div>"
      ],
      "text/plain": [
       "     Name  Age\n",
       "0  Виктор   18\n",
       "1   Мария   21"
      ]
     },
     "execution_count": 47,
     "metadata": {},
     "output_type": "execute_result"
    }
   ],
   "source": [
    "df.iloc[0:2,:] # вернет значения всех стобцов для 0 и 1 строк"
   ]
  },
  {
   "cell_type": "code",
   "execution_count": 50,
   "id": "f7f7f7ac",
   "metadata": {},
   "outputs": [
    {
     "data": {
      "text/plain": [
       "0    Виктор\n",
       "1     Мария\n",
       "2      Иван\n",
       "Name: Name, dtype: object"
      ]
     },
     "execution_count": 50,
     "metadata": {},
     "output_type": "execute_result"
    }
   ],
   "source": [
    "df.loc[:, 'Name'] # доступ по метке: вернет значения всех элементов в столбце Name для всех строк"
   ]
  },
  {
   "cell_type": "code",
   "execution_count": 49,
   "id": "9fc40595",
   "metadata": {},
   "outputs": [
    {
     "data": {
      "text/plain": [
       "0    Виктор\n",
       "1     Мария\n",
       "Name: Name, dtype: object"
      ]
     },
     "execution_count": 49,
     "metadata": {},
     "output_type": "execute_result"
    }
   ],
   "source": [
    "\n",
    "df.loc[0:1, 'Name'] # доступ по метке: вернет значения всех элементов в столбце Name для 0 и 1 строк"
   ]
  },
  {
   "cell_type": "markdown",
   "id": "2578315f",
   "metadata": {},
   "source": [
    "Методы .loc[], .iloc[] также применимы к структуре Series."
   ]
  },
  {
   "cell_type": "markdown",
   "id": "bafa003b",
   "metadata": {},
   "source": [
    "Также в поле для индекса можно писать логические условия для фильтрации значений."
   ]
  },
  {
   "cell_type": "code",
   "execution_count": 52,
   "id": "aee87497",
   "metadata": {},
   "outputs": [
    {
     "data": {
      "text/html": [
       "<div>\n",
       "<style scoped>\n",
       "    .dataframe tbody tr th:only-of-type {\n",
       "        vertical-align: middle;\n",
       "    }\n",
       "\n",
       "    .dataframe tbody tr th {\n",
       "        vertical-align: top;\n",
       "    }\n",
       "\n",
       "    .dataframe thead th {\n",
       "        text-align: right;\n",
       "    }\n",
       "</style>\n",
       "<table border=\"1\" class=\"dataframe\">\n",
       "  <thead>\n",
       "    <tr style=\"text-align: right;\">\n",
       "      <th></th>\n",
       "      <th>Name</th>\n",
       "      <th>Age</th>\n",
       "    </tr>\n",
       "  </thead>\n",
       "  <tbody>\n",
       "    <tr>\n",
       "      <th>1</th>\n",
       "      <td>Мария</td>\n",
       "      <td>21</td>\n",
       "    </tr>\n",
       "  </tbody>\n",
       "</table>\n",
       "</div>"
      ],
      "text/plain": [
       "    Name  Age\n",
       "1  Мария   21"
      ]
     },
     "execution_count": 52,
     "metadata": {},
     "output_type": "execute_result"
    }
   ],
   "source": [
    "#  Вывести все строки, в которых значение в столбце Age больше и равно 20\n",
    "df[df['Age'] >= 20]"
   ]
  },
  {
   "cell_type": "markdown",
   "id": "3b3535f2",
   "metadata": {},
   "source": [
    "# Методы и атрибуты DataFrame"
   ]
  },
  {
   "cell_type": "markdown",
   "id": "3729ab3d",
   "metadata": {},
   "source": [
    "У объекта DataFrame (также как и у Series) есть атрибуты через которые можно получить индексы, а также метод позволяющий получить названия колонок."
   ]
  },
  {
   "cell_type": "code",
   "execution_count": 56,
   "id": "9a5f5059",
   "metadata": {},
   "outputs": [
    {
     "data": {
      "text/html": [
       "<div>\n",
       "<style scoped>\n",
       "    .dataframe tbody tr th:only-of-type {\n",
       "        vertical-align: middle;\n",
       "    }\n",
       "\n",
       "    .dataframe tbody tr th {\n",
       "        vertical-align: top;\n",
       "    }\n",
       "\n",
       "    .dataframe thead th {\n",
       "        text-align: right;\n",
       "    }\n",
       "</style>\n",
       "<table border=\"1\" class=\"dataframe\">\n",
       "  <thead>\n",
       "    <tr style=\"text-align: right;\">\n",
       "      <th></th>\n",
       "      <th>Name</th>\n",
       "      <th>Age</th>\n",
       "    </tr>\n",
       "  </thead>\n",
       "  <tbody>\n",
       "    <tr>\n",
       "      <th>0</th>\n",
       "      <td>Виктор</td>\n",
       "      <td>18</td>\n",
       "    </tr>\n",
       "    <tr>\n",
       "      <th>1</th>\n",
       "      <td>Мария</td>\n",
       "      <td>21</td>\n",
       "    </tr>\n",
       "    <tr>\n",
       "      <th>2</th>\n",
       "      <td>Иван</td>\n",
       "      <td>19</td>\n",
       "    </tr>\n",
       "  </tbody>\n",
       "</table>\n",
       "</div>"
      ],
      "text/plain": [
       "     Name  Age\n",
       "0  Виктор   18\n",
       "1   Мария   21\n",
       "2    Иван   19"
      ]
     },
     "execution_count": 56,
     "metadata": {},
     "output_type": "execute_result"
    }
   ],
   "source": [
    "d = [{\"Name\": \"Виктор\", \"Age\": 18},\n",
    "     {\"Name\": \"Мария\", \"Age\": 21},\n",
    "     {\"Name\": \"Иван\", \"Age\": 19}]\n",
    "\n",
    "df = pd.DataFrame(d)\n",
    "df\n"
   ]
  },
  {
   "cell_type": "code",
   "execution_count": 59,
   "id": "dd5b1b71",
   "metadata": {},
   "outputs": [
    {
     "name": "stdout",
     "output_type": "stream",
     "text": [
      "RangeIndex(start=0, stop=3, step=1)\n"
     ]
    }
   ],
   "source": [
    "print(df.index) # возвращает индексы DataFrame"
   ]
  },
  {
   "cell_type": "code",
   "execution_count": 58,
   "id": "e5cba844",
   "metadata": {},
   "outputs": [
    {
     "name": "stdout",
     "output_type": "stream",
     "text": [
      "Index(['Name', 'Age'], dtype='object')\n"
     ]
    }
   ],
   "source": [
    "print(df.columns) # возвращает названия колонок"
   ]
  },
  {
   "cell_type": "code",
   "execution_count": 62,
   "id": "5cdc4b6e",
   "metadata": {},
   "outputs": [
    {
     "name": "stdout",
     "output_type": "stream",
     "text": [
      "     Name  Age\n",
      "0  Виктор   18\n",
      "1   Мария   21\n"
     ]
    }
   ],
   "source": [
    "print(df.head(2)) # вывод первых двух строчек DataFrame"
   ]
  },
  {
   "cell_type": "code",
   "execution_count": 61,
   "id": "02f570dc",
   "metadata": {},
   "outputs": [
    {
     "name": "stdout",
     "output_type": "stream",
     "text": [
      "    Name  Age\n",
      "1  Мария   21\n",
      "2   Иван   19\n"
     ]
    }
   ],
   "source": [
    "print(df.tail(2)) # вывод последних двух строчек DataFrame"
   ]
  },
  {
   "cell_type": "markdown",
   "id": "8886239f",
   "metadata": {},
   "source": [
    "DataFrame - это двумерная структура, напоминающая таблицу размерностью NxM, где N - это количество строк, M - количество стобцов.\n",
    "\n",
    "**shape** - атрибут DataFrame, который возвращает его размерность."
   ]
  },
  {
   "cell_type": "code",
   "execution_count": 64,
   "id": "8ae064f2",
   "metadata": {},
   "outputs": [
    {
     "data": {
      "text/plain": [
       "(3, 2)"
      ]
     },
     "execution_count": 64,
     "metadata": {},
     "output_type": "execute_result"
    }
   ],
   "source": [
    "df.shape"
   ]
  },
  {
   "cell_type": "code",
   "execution_count": 65,
   "id": "fd35ef78",
   "metadata": {},
   "outputs": [
    {
     "name": "stdout",
     "output_type": "stream",
     "text": [
      "<class 'pandas.core.frame.DataFrame'>\n",
      "RangeIndex: 3 entries, 0 to 2\n",
      "Data columns (total 2 columns):\n",
      " #   Column  Non-Null Count  Dtype \n",
      "---  ------  --------------  ----- \n",
      " 0   Name    3 non-null      object\n",
      " 1   Age     3 non-null      int64 \n",
      "dtypes: int64(1), object(1)\n",
      "memory usage: 100.0+ bytes\n"
     ]
    }
   ],
   "source": [
    "df.info() # метод возвращает полную информацию о данном DataFrame"
   ]
  },
  {
   "cell_type": "markdown",
   "id": "02dfc1cd",
   "metadata": {},
   "source": [
    "Часто при работе с данными, их необходимо проверять на пропуски (NaN).\n",
    "\n",
    "Для этого существуют методы - **isna()**, **isnull()**.\n",
    "\n",
    "Они возвращают два объекта DataFrame с булевыми значениями, где True для значений NaN в DataFrame, а False — на его отсутствие.\\\n",
    "\\\n",
    "**Эти функции часто используются в фильтрах для создания условий**."
   ]
  },
  {
   "cell_type": "code",
   "execution_count": 68,
   "id": "3d58c48e",
   "metadata": {},
   "outputs": [
    {
     "data": {
      "text/html": [
       "<div>\n",
       "<style scoped>\n",
       "    .dataframe tbody tr th:only-of-type {\n",
       "        vertical-align: middle;\n",
       "    }\n",
       "\n",
       "    .dataframe tbody tr th {\n",
       "        vertical-align: top;\n",
       "    }\n",
       "\n",
       "    .dataframe thead th {\n",
       "        text-align: right;\n",
       "    }\n",
       "</style>\n",
       "<table border=\"1\" class=\"dataframe\">\n",
       "  <thead>\n",
       "    <tr style=\"text-align: right;\">\n",
       "      <th></th>\n",
       "      <th>Name</th>\n",
       "      <th>Age</th>\n",
       "    </tr>\n",
       "  </thead>\n",
       "  <tbody>\n",
       "    <tr>\n",
       "      <th>0</th>\n",
       "      <td>Виктор</td>\n",
       "      <td>18.0</td>\n",
       "    </tr>\n",
       "    <tr>\n",
       "      <th>1</th>\n",
       "      <td>Мария</td>\n",
       "      <td>NaN</td>\n",
       "    </tr>\n",
       "    <tr>\n",
       "      <th>2</th>\n",
       "      <td>Иван</td>\n",
       "      <td>19.0</td>\n",
       "    </tr>\n",
       "  </tbody>\n",
       "</table>\n",
       "</div>"
      ],
      "text/plain": [
       "     Name   Age\n",
       "0  Виктор  18.0\n",
       "1   Мария   NaN\n",
       "2    Иван  19.0"
      ]
     },
     "execution_count": 68,
     "metadata": {},
     "output_type": "execute_result"
    }
   ],
   "source": [
    "d = [{\"Name\": \"Виктор\", \"Age\": 18},\n",
    "     {\"Name\": \"Мария\", \"Age\": np.NaN},\n",
    "     {\"Name\": \"Иван\", \"Age\": 19}]\n",
    "\n",
    "df = pd.DataFrame(d)\n",
    "df"
   ]
  },
  {
   "cell_type": "code",
   "execution_count": 70,
   "id": "317e86bf",
   "metadata": {},
   "outputs": [
    {
     "data": {
      "text/html": [
       "<div>\n",
       "<style scoped>\n",
       "    .dataframe tbody tr th:only-of-type {\n",
       "        vertical-align: middle;\n",
       "    }\n",
       "\n",
       "    .dataframe tbody tr th {\n",
       "        vertical-align: top;\n",
       "    }\n",
       "\n",
       "    .dataframe thead th {\n",
       "        text-align: right;\n",
       "    }\n",
       "</style>\n",
       "<table border=\"1\" class=\"dataframe\">\n",
       "  <thead>\n",
       "    <tr style=\"text-align: right;\">\n",
       "      <th></th>\n",
       "      <th>Name</th>\n",
       "      <th>Age</th>\n",
       "    </tr>\n",
       "  </thead>\n",
       "  <tbody>\n",
       "    <tr>\n",
       "      <th>0</th>\n",
       "      <td>False</td>\n",
       "      <td>False</td>\n",
       "    </tr>\n",
       "    <tr>\n",
       "      <th>1</th>\n",
       "      <td>False</td>\n",
       "      <td>True</td>\n",
       "    </tr>\n",
       "    <tr>\n",
       "      <th>2</th>\n",
       "      <td>False</td>\n",
       "      <td>False</td>\n",
       "    </tr>\n",
       "  </tbody>\n",
       "</table>\n",
       "</div>"
      ],
      "text/plain": [
       "    Name    Age\n",
       "0  False  False\n",
       "1  False   True\n",
       "2  False  False"
      ]
     },
     "execution_count": 70,
     "metadata": {},
     "output_type": "execute_result"
    }
   ],
   "source": [
    "df.isna()"
   ]
  },
  {
   "cell_type": "code",
   "execution_count": 71,
   "id": "71bbd5de",
   "metadata": {},
   "outputs": [
    {
     "data": {
      "text/html": [
       "<div>\n",
       "<style scoped>\n",
       "    .dataframe tbody tr th:only-of-type {\n",
       "        vertical-align: middle;\n",
       "    }\n",
       "\n",
       "    .dataframe tbody tr th {\n",
       "        vertical-align: top;\n",
       "    }\n",
       "\n",
       "    .dataframe thead th {\n",
       "        text-align: right;\n",
       "    }\n",
       "</style>\n",
       "<table border=\"1\" class=\"dataframe\">\n",
       "  <thead>\n",
       "    <tr style=\"text-align: right;\">\n",
       "      <th></th>\n",
       "      <th>Name</th>\n",
       "      <th>Age</th>\n",
       "    </tr>\n",
       "  </thead>\n",
       "  <tbody>\n",
       "    <tr>\n",
       "      <th>0</th>\n",
       "      <td>False</td>\n",
       "      <td>False</td>\n",
       "    </tr>\n",
       "    <tr>\n",
       "      <th>1</th>\n",
       "      <td>False</td>\n",
       "      <td>True</td>\n",
       "    </tr>\n",
       "    <tr>\n",
       "      <th>2</th>\n",
       "      <td>False</td>\n",
       "      <td>False</td>\n",
       "    </tr>\n",
       "  </tbody>\n",
       "</table>\n",
       "</div>"
      ],
      "text/plain": [
       "    Name    Age\n",
       "0  False  False\n",
       "1  False   True\n",
       "2  False  False"
      ]
     },
     "execution_count": 71,
     "metadata": {},
     "output_type": "execute_result"
    }
   ],
   "source": [
    "df.isnull()"
   ]
  },
  {
   "cell_type": "code",
   "execution_count": 72,
   "id": "9c2b46f3",
   "metadata": {},
   "outputs": [
    {
     "data": {
      "text/html": [
       "<div>\n",
       "<style scoped>\n",
       "    .dataframe tbody tr th:only-of-type {\n",
       "        vertical-align: middle;\n",
       "    }\n",
       "\n",
       "    .dataframe tbody tr th {\n",
       "        vertical-align: top;\n",
       "    }\n",
       "\n",
       "    .dataframe thead th {\n",
       "        text-align: right;\n",
       "    }\n",
       "</style>\n",
       "<table border=\"1\" class=\"dataframe\">\n",
       "  <thead>\n",
       "    <tr style=\"text-align: right;\">\n",
       "      <th></th>\n",
       "      <th>Name</th>\n",
       "      <th>Age</th>\n",
       "    </tr>\n",
       "  </thead>\n",
       "  <tbody>\n",
       "    <tr>\n",
       "      <th>0</th>\n",
       "      <td>Виктор</td>\n",
       "      <td>18.0</td>\n",
       "    </tr>\n",
       "    <tr>\n",
       "      <th>2</th>\n",
       "      <td>Иван</td>\n",
       "      <td>19.0</td>\n",
       "    </tr>\n",
       "  </tbody>\n",
       "</table>\n",
       "</div>"
      ],
      "text/plain": [
       "     Name   Age\n",
       "0  Виктор  18.0\n",
       "2    Иван  19.0"
      ]
     },
     "execution_count": 72,
     "metadata": {},
     "output_type": "execute_result"
    }
   ],
   "source": [
    "# Фильтр, который вернет все строки, в которых отсутсвуют пустые значения в колонке Age\n",
    "\n",
    "df[df['Age'].isnull()==False]"
   ]
  },
  {
   "cell_type": "code",
   "execution_count": 73,
   "id": "4587b012",
   "metadata": {},
   "outputs": [
    {
     "data": {
      "text/plain": [
       "Name    0\n",
       "Age     1\n",
       "dtype: int64"
      ]
     },
     "execution_count": 73,
     "metadata": {},
     "output_type": "execute_result"
    }
   ],
   "source": [
    "# подсчет пустых значений в каждой колонке DataFrame\n",
    "df.isna().sum()"
   ]
  },
  {
   "cell_type": "code",
   "execution_count": 74,
   "id": "33b4b6ef",
   "metadata": {},
   "outputs": [],
   "source": [
    "d = [{\"Name\": \"Виктор\", \"Age\": 18},\n",
    "     {\"Name\": \"Мария\", \"Age\": np.NaN},\n",
    "     {\"Name\": \"Иван\", \"Age\": 19},\n",
    "     {\"Name\": \"Иван\", \"Age\": 25}]\n",
    "\n",
    "df = pd.DataFrame(d)"
   ]
  },
  {
   "cell_type": "code",
   "execution_count": 75,
   "id": "076c92ff",
   "metadata": {},
   "outputs": [
    {
     "data": {
      "text/plain": [
       "array(['Виктор', 'Мария', 'Иван'], dtype=object)"
      ]
     },
     "execution_count": 75,
     "metadata": {},
     "output_type": "execute_result"
    }
   ],
   "source": [
    "# Подсчет уникальных значений в стобце\n",
    "df['Name'].unique()"
   ]
  },
  {
   "cell_type": "code",
   "execution_count": 77,
   "id": "dcda5667",
   "metadata": {},
   "outputs": [
    {
     "data": {
      "text/plain": [
       "Иван      2\n",
       "Виктор    1\n",
       "Мария     1\n",
       "Name: Name, dtype: int64"
      ]
     },
     "execution_count": 77,
     "metadata": {},
     "output_type": "execute_result"
    }
   ],
   "source": [
    "# Подсчет количества для каждого значения в столбце\n",
    "df['Name'].value_counts()"
   ]
  },
  {
   "cell_type": "markdown",
   "id": "d9bd24d1",
   "metadata": {},
   "source": [
    "Удаление значений из DataFrame.\n",
    "\n",
    "Существуют различные методы, позволяющие удалять сроки или столбцы из DataFrame."
   ]
  },
  {
   "cell_type": "raw",
   "id": "435055e1",
   "metadata": {},
   "source": [
    "DataFrame.drop(labels=None, axis=0, index=None, columns=None, level=None, inplace=False, errors='raise')"
   ]
  },
  {
   "cell_type": "markdown",
   "id": "3ffc9b6a",
   "metadata": {},
   "source": [
    "- labels - Метки индекса или столбца, которые нужно удалить\n",
    "- axis - {0 или 'index', 1 или 'columns'}\n",
    "- index - Альтернатива указанию оси (эквивалент axis=0)\n",
    "- columns - Альтернатива указанию оси (эквивалент axis=1)\n",
    "- level - Для MultiIndex - уровень, с которого будут удалены метки\n",
    "- inplace - Если False, вернет копию DataFrame. В противном случае перезапишет изменения в этот же DataFrame."
   ]
  },
  {
   "cell_type": "code",
   "execution_count": 79,
   "id": "c1a923cc",
   "metadata": {},
   "outputs": [
    {
     "data": {
      "text/html": [
       "<div>\n",
       "<style scoped>\n",
       "    .dataframe tbody tr th:only-of-type {\n",
       "        vertical-align: middle;\n",
       "    }\n",
       "\n",
       "    .dataframe tbody tr th {\n",
       "        vertical-align: top;\n",
       "    }\n",
       "\n",
       "    .dataframe thead th {\n",
       "        text-align: right;\n",
       "    }\n",
       "</style>\n",
       "<table border=\"1\" class=\"dataframe\">\n",
       "  <thead>\n",
       "    <tr style=\"text-align: right;\">\n",
       "      <th></th>\n",
       "      <th>Name</th>\n",
       "    </tr>\n",
       "  </thead>\n",
       "  <tbody>\n",
       "    <tr>\n",
       "      <th>0</th>\n",
       "      <td>Виктор</td>\n",
       "    </tr>\n",
       "    <tr>\n",
       "      <th>1</th>\n",
       "      <td>Мария</td>\n",
       "    </tr>\n",
       "    <tr>\n",
       "      <th>2</th>\n",
       "      <td>Иван</td>\n",
       "    </tr>\n",
       "    <tr>\n",
       "      <th>3</th>\n",
       "      <td>Иван</td>\n",
       "    </tr>\n",
       "  </tbody>\n",
       "</table>\n",
       "</div>"
      ],
      "text/plain": [
       "     Name\n",
       "0  Виктор\n",
       "1   Мария\n",
       "2    Иван\n",
       "3    Иван"
      ]
     },
     "execution_count": 79,
     "metadata": {},
     "output_type": "execute_result"
    }
   ],
   "source": [
    "d = [{\"Name\": \"Виктор\", \"Age\": 18},\n",
    "     {\"Name\": \"Мария\", \"Age\": np.NaN},\n",
    "     {\"Name\": \"Иван\", \"Age\": 19},\n",
    "     {\"Name\": \"Иван\", \"Age\": 25}]\n",
    "\n",
    "df = pd.DataFrame(d)\n",
    "\n",
    "# Удалить столбцы\n",
    "df.drop(['Age'], axis=1)"
   ]
  },
  {
   "cell_type": "code",
   "execution_count": 81,
   "id": "738c9f3d",
   "metadata": {},
   "outputs": [
    {
     "data": {
      "text/html": [
       "<div>\n",
       "<style scoped>\n",
       "    .dataframe tbody tr th:only-of-type {\n",
       "        vertical-align: middle;\n",
       "    }\n",
       "\n",
       "    .dataframe tbody tr th {\n",
       "        vertical-align: top;\n",
       "    }\n",
       "\n",
       "    .dataframe thead th {\n",
       "        text-align: right;\n",
       "    }\n",
       "</style>\n",
       "<table border=\"1\" class=\"dataframe\">\n",
       "  <thead>\n",
       "    <tr style=\"text-align: right;\">\n",
       "      <th></th>\n",
       "      <th>Name</th>\n",
       "    </tr>\n",
       "  </thead>\n",
       "  <tbody>\n",
       "    <tr>\n",
       "      <th>0</th>\n",
       "      <td>Виктор</td>\n",
       "    </tr>\n",
       "    <tr>\n",
       "      <th>1</th>\n",
       "      <td>Мария</td>\n",
       "    </tr>\n",
       "    <tr>\n",
       "      <th>2</th>\n",
       "      <td>Иван</td>\n",
       "    </tr>\n",
       "    <tr>\n",
       "      <th>3</th>\n",
       "      <td>Иван</td>\n",
       "    </tr>\n",
       "  </tbody>\n",
       "</table>\n",
       "</div>"
      ],
      "text/plain": [
       "     Name\n",
       "0  Виктор\n",
       "1   Мария\n",
       "2    Иван\n",
       "3    Иван"
      ]
     },
     "execution_count": 81,
     "metadata": {},
     "output_type": "execute_result"
    }
   ],
   "source": [
    "# по умолчанию inplace = False, поэтому в предыдущей ячейке\n",
    "# операция drop() вернула копию измененного DataFrame\n",
    "# исходный DataFrame остался без изменений\n",
    "df.drop(['Age'], axis=1, inplace=True)\n",
    "df"
   ]
  },
  {
   "cell_type": "code",
   "execution_count": 83,
   "id": "ed365f06",
   "metadata": {},
   "outputs": [
    {
     "data": {
      "text/html": [
       "<div>\n",
       "<style scoped>\n",
       "    .dataframe tbody tr th:only-of-type {\n",
       "        vertical-align: middle;\n",
       "    }\n",
       "\n",
       "    .dataframe tbody tr th {\n",
       "        vertical-align: top;\n",
       "    }\n",
       "\n",
       "    .dataframe thead th {\n",
       "        text-align: right;\n",
       "    }\n",
       "</style>\n",
       "<table border=\"1\" class=\"dataframe\">\n",
       "  <thead>\n",
       "    <tr style=\"text-align: right;\">\n",
       "      <th></th>\n",
       "      <th>Name</th>\n",
       "    </tr>\n",
       "  </thead>\n",
       "  <tbody>\n",
       "    <tr>\n",
       "      <th>0</th>\n",
       "      <td>Виктор</td>\n",
       "    </tr>\n",
       "    <tr>\n",
       "      <th>1</th>\n",
       "      <td>Мария</td>\n",
       "    </tr>\n",
       "    <tr>\n",
       "      <th>2</th>\n",
       "      <td>Иван</td>\n",
       "    </tr>\n",
       "    <tr>\n",
       "      <th>3</th>\n",
       "      <td>Иван</td>\n",
       "    </tr>\n",
       "  </tbody>\n",
       "</table>\n",
       "</div>"
      ],
      "text/plain": [
       "     Name\n",
       "0  Виктор\n",
       "1   Мария\n",
       "2    Иван\n",
       "3    Иван"
      ]
     },
     "execution_count": 83,
     "metadata": {},
     "output_type": "execute_result"
    }
   ],
   "source": [
    "d = [{\"Name\": \"Виктор\", \"Age\": 18},\n",
    "     {\"Name\": \"Мария\", \"Age\": np.NaN},\n",
    "     {\"Name\": \"Иван\", \"Age\": 19},\n",
    "     {\"Name\": \"Иван\", \"Age\": 25}]\n",
    "\n",
    "df = pd.DataFrame(d)\n",
    "\n",
    "df.drop(columns=['Age'],  inplace=True)\n",
    "df"
   ]
  },
  {
   "cell_type": "code",
   "execution_count": 84,
   "id": "002b31ba",
   "metadata": {},
   "outputs": [
    {
     "data": {
      "text/html": [
       "<div>\n",
       "<style scoped>\n",
       "    .dataframe tbody tr th:only-of-type {\n",
       "        vertical-align: middle;\n",
       "    }\n",
       "\n",
       "    .dataframe tbody tr th {\n",
       "        vertical-align: top;\n",
       "    }\n",
       "\n",
       "    .dataframe thead th {\n",
       "        text-align: right;\n",
       "    }\n",
       "</style>\n",
       "<table border=\"1\" class=\"dataframe\">\n",
       "  <thead>\n",
       "    <tr style=\"text-align: right;\">\n",
       "      <th></th>\n",
       "      <th>Name</th>\n",
       "    </tr>\n",
       "  </thead>\n",
       "  <tbody>\n",
       "    <tr>\n",
       "      <th>2</th>\n",
       "      <td>Иван</td>\n",
       "    </tr>\n",
       "    <tr>\n",
       "      <th>3</th>\n",
       "      <td>Иван</td>\n",
       "    </tr>\n",
       "  </tbody>\n",
       "</table>\n",
       "</div>"
      ],
      "text/plain": [
       "   Name\n",
       "2  Иван\n",
       "3  Иван"
      ]
     },
     "execution_count": 84,
     "metadata": {},
     "output_type": "execute_result"
    }
   ],
   "source": [
    "df.drop([0, 1])"
   ]
  },
  {
   "cell_type": "markdown",
   "id": "76df18b4",
   "metadata": {},
   "source": [
    "Также существует метод dropna(), который позволяет удалять строки или столбцы, содержащие пустые значения.\n",
    "\n",
    "`DataFrame.dropna(axis=0, how='any', thresh=None, subset=None, inplace=False)`\n",
    "\n",
    "- axis - {0 или 'index', 1 или 'columns'}, по умолчанию 0. Определяет, удаляются строки или столбцы, содержащие отсутствующие значения. 0 или «index»: удалить строки, содержащие пропущенные значения. 1 или «columns»: удалить столбцы, содержащие отсутствующее значение.\n",
    "- how - Определяет, удаляется ли строка или столбец из DataFrame, когда у нас есть хотя бы одно NA или все NA. 'any': если присутствуют какие-либо значения NA, отбросьте эту строку или столбец. 'all': если все значения - NA, отбросьте эту строку или столбец."
   ]
  },
  {
   "cell_type": "code",
   "execution_count": 85,
   "id": "de1db863",
   "metadata": {},
   "outputs": [
    {
     "data": {
      "text/html": [
       "<div>\n",
       "<style scoped>\n",
       "    .dataframe tbody tr th:only-of-type {\n",
       "        vertical-align: middle;\n",
       "    }\n",
       "\n",
       "    .dataframe tbody tr th {\n",
       "        vertical-align: top;\n",
       "    }\n",
       "\n",
       "    .dataframe thead th {\n",
       "        text-align: right;\n",
       "    }\n",
       "</style>\n",
       "<table border=\"1\" class=\"dataframe\">\n",
       "  <thead>\n",
       "    <tr style=\"text-align: right;\">\n",
       "      <th></th>\n",
       "      <th>Name</th>\n",
       "      <th>Age</th>\n",
       "    </tr>\n",
       "  </thead>\n",
       "  <tbody>\n",
       "    <tr>\n",
       "      <th>0</th>\n",
       "      <td>Виктор</td>\n",
       "      <td>18.0</td>\n",
       "    </tr>\n",
       "    <tr>\n",
       "      <th>1</th>\n",
       "      <td>Мария</td>\n",
       "      <td>NaN</td>\n",
       "    </tr>\n",
       "    <tr>\n",
       "      <th>2</th>\n",
       "      <td>Иван</td>\n",
       "      <td>19.0</td>\n",
       "    </tr>\n",
       "    <tr>\n",
       "      <th>3</th>\n",
       "      <td>Иван</td>\n",
       "      <td>25.0</td>\n",
       "    </tr>\n",
       "    <tr>\n",
       "      <th>4</th>\n",
       "      <td>NaN</td>\n",
       "      <td>NaN</td>\n",
       "    </tr>\n",
       "  </tbody>\n",
       "</table>\n",
       "</div>"
      ],
      "text/plain": [
       "     Name   Age\n",
       "0  Виктор  18.0\n",
       "1   Мария   NaN\n",
       "2    Иван  19.0\n",
       "3    Иван  25.0\n",
       "4     NaN   NaN"
      ]
     },
     "execution_count": 85,
     "metadata": {},
     "output_type": "execute_result"
    }
   ],
   "source": [
    "d = [{\"Name\": \"Виктор\", \"Age\": 18},\n",
    "     {\"Name\": \"Мария\", \"Age\": np.NaN},\n",
    "     {\"Name\": \"Иван\", \"Age\": 19},\n",
    "     {\"Name\": \"Иван\", \"Age\": 25},\n",
    "     {\"Name\": np.NaN, \"Age\": np.NaN}]\n",
    "\n",
    "df = pd.DataFrame(d)\n",
    "df"
   ]
  },
  {
   "cell_type": "code",
   "execution_count": 86,
   "id": "cc81aec3",
   "metadata": {},
   "outputs": [
    {
     "data": {
      "text/html": [
       "<div>\n",
       "<style scoped>\n",
       "    .dataframe tbody tr th:only-of-type {\n",
       "        vertical-align: middle;\n",
       "    }\n",
       "\n",
       "    .dataframe tbody tr th {\n",
       "        vertical-align: top;\n",
       "    }\n",
       "\n",
       "    .dataframe thead th {\n",
       "        text-align: right;\n",
       "    }\n",
       "</style>\n",
       "<table border=\"1\" class=\"dataframe\">\n",
       "  <thead>\n",
       "    <tr style=\"text-align: right;\">\n",
       "      <th></th>\n",
       "      <th>Name</th>\n",
       "      <th>Age</th>\n",
       "    </tr>\n",
       "  </thead>\n",
       "  <tbody>\n",
       "    <tr>\n",
       "      <th>0</th>\n",
       "      <td>Виктор</td>\n",
       "      <td>18.0</td>\n",
       "    </tr>\n",
       "    <tr>\n",
       "      <th>2</th>\n",
       "      <td>Иван</td>\n",
       "      <td>19.0</td>\n",
       "    </tr>\n",
       "    <tr>\n",
       "      <th>3</th>\n",
       "      <td>Иван</td>\n",
       "      <td>25.0</td>\n",
       "    </tr>\n",
       "  </tbody>\n",
       "</table>\n",
       "</div>"
      ],
      "text/plain": [
       "     Name   Age\n",
       "0  Виктор  18.0\n",
       "2    Иван  19.0\n",
       "3    Иван  25.0"
      ]
     },
     "execution_count": 86,
     "metadata": {},
     "output_type": "execute_result"
    }
   ],
   "source": [
    "# удалить строки (axis=0), которые содержат хотя бы одно пропущенное значение\n",
    "df.dropna(axis=0, how='any')"
   ]
  },
  {
   "cell_type": "code",
   "execution_count": 87,
   "id": "67be5aa9",
   "metadata": {},
   "outputs": [
    {
     "data": {
      "text/html": [
       "<div>\n",
       "<style scoped>\n",
       "    .dataframe tbody tr th:only-of-type {\n",
       "        vertical-align: middle;\n",
       "    }\n",
       "\n",
       "    .dataframe tbody tr th {\n",
       "        vertical-align: top;\n",
       "    }\n",
       "\n",
       "    .dataframe thead th {\n",
       "        text-align: right;\n",
       "    }\n",
       "</style>\n",
       "<table border=\"1\" class=\"dataframe\">\n",
       "  <thead>\n",
       "    <tr style=\"text-align: right;\">\n",
       "      <th></th>\n",
       "    </tr>\n",
       "  </thead>\n",
       "  <tbody>\n",
       "    <tr>\n",
       "      <th>0</th>\n",
       "    </tr>\n",
       "    <tr>\n",
       "      <th>1</th>\n",
       "    </tr>\n",
       "    <tr>\n",
       "      <th>2</th>\n",
       "    </tr>\n",
       "    <tr>\n",
       "      <th>3</th>\n",
       "    </tr>\n",
       "    <tr>\n",
       "      <th>4</th>\n",
       "    </tr>\n",
       "  </tbody>\n",
       "</table>\n",
       "</div>"
      ],
      "text/plain": [
       "Empty DataFrame\n",
       "Columns: []\n",
       "Index: [0, 1, 2, 3, 4]"
      ]
     },
     "execution_count": 87,
     "metadata": {},
     "output_type": "execute_result"
    }
   ],
   "source": [
    "# удалить столбцы (axis=1), которые содержат хотя бы одно пропущенное значение\n",
    "df.dropna(axis=1, how='any')"
   ]
  },
  {
   "cell_type": "code",
   "execution_count": 88,
   "id": "bdbf3cab",
   "metadata": {},
   "outputs": [
    {
     "data": {
      "text/html": [
       "<div>\n",
       "<style scoped>\n",
       "    .dataframe tbody tr th:only-of-type {\n",
       "        vertical-align: middle;\n",
       "    }\n",
       "\n",
       "    .dataframe tbody tr th {\n",
       "        vertical-align: top;\n",
       "    }\n",
       "\n",
       "    .dataframe thead th {\n",
       "        text-align: right;\n",
       "    }\n",
       "</style>\n",
       "<table border=\"1\" class=\"dataframe\">\n",
       "  <thead>\n",
       "    <tr style=\"text-align: right;\">\n",
       "      <th></th>\n",
       "      <th>Name</th>\n",
       "      <th>Age</th>\n",
       "    </tr>\n",
       "  </thead>\n",
       "  <tbody>\n",
       "    <tr>\n",
       "      <th>0</th>\n",
       "      <td>Виктор</td>\n",
       "      <td>18.0</td>\n",
       "    </tr>\n",
       "    <tr>\n",
       "      <th>1</th>\n",
       "      <td>Мария</td>\n",
       "      <td>NaN</td>\n",
       "    </tr>\n",
       "    <tr>\n",
       "      <th>2</th>\n",
       "      <td>Иван</td>\n",
       "      <td>19.0</td>\n",
       "    </tr>\n",
       "    <tr>\n",
       "      <th>3</th>\n",
       "      <td>Иван</td>\n",
       "      <td>25.0</td>\n",
       "    </tr>\n",
       "  </tbody>\n",
       "</table>\n",
       "</div>"
      ],
      "text/plain": [
       "     Name   Age\n",
       "0  Виктор  18.0\n",
       "1   Мария   NaN\n",
       "2    Иван  19.0\n",
       "3    Иван  25.0"
      ]
     },
     "execution_count": 88,
     "metadata": {},
     "output_type": "execute_result"
    }
   ],
   "source": [
    "# удалить строки (axis=0), которые содержат все одно пропущенные значения\n",
    "df.dropna(axis=0, how='all')"
   ]
  },
  {
   "cell_type": "markdown",
   "id": "d32af690",
   "metadata": {},
   "source": [
    "Добавление строк или столбцов в существующий DataFrame.\n",
    "\n",
    "Добавить новый столбец в существующий DataFrame можно воспользовавшись следующей конструкцией:\n",
    "\n",
    "`df['new_column'] = values`\n",
    "\n",
    "- values - значения в новом столбце (числов, список, Series)"
   ]
  },
  {
   "cell_type": "code",
   "execution_count": 89,
   "id": "0abf731e",
   "metadata": {},
   "outputs": [
    {
     "data": {
      "text/html": [
       "<div>\n",
       "<style scoped>\n",
       "    .dataframe tbody tr th:only-of-type {\n",
       "        vertical-align: middle;\n",
       "    }\n",
       "\n",
       "    .dataframe tbody tr th {\n",
       "        vertical-align: top;\n",
       "    }\n",
       "\n",
       "    .dataframe thead th {\n",
       "        text-align: right;\n",
       "    }\n",
       "</style>\n",
       "<table border=\"1\" class=\"dataframe\">\n",
       "  <thead>\n",
       "    <tr style=\"text-align: right;\">\n",
       "      <th></th>\n",
       "      <th>Name</th>\n",
       "      <th>Age</th>\n",
       "    </tr>\n",
       "  </thead>\n",
       "  <tbody>\n",
       "    <tr>\n",
       "      <th>0</th>\n",
       "      <td>Виктор</td>\n",
       "      <td>18</td>\n",
       "    </tr>\n",
       "    <tr>\n",
       "      <th>1</th>\n",
       "      <td>Мария</td>\n",
       "      <td>21</td>\n",
       "    </tr>\n",
       "    <tr>\n",
       "      <th>2</th>\n",
       "      <td>Иван</td>\n",
       "      <td>19</td>\n",
       "    </tr>\n",
       "    <tr>\n",
       "      <th>3</th>\n",
       "      <td>Иван</td>\n",
       "      <td>25</td>\n",
       "    </tr>\n",
       "    <tr>\n",
       "      <th>4</th>\n",
       "      <td>Алексей</td>\n",
       "      <td>20</td>\n",
       "    </tr>\n",
       "  </tbody>\n",
       "</table>\n",
       "</div>"
      ],
      "text/plain": [
       "      Name  Age\n",
       "0   Виктор   18\n",
       "1    Мария   21\n",
       "2     Иван   19\n",
       "3     Иван   25\n",
       "4  Алексей   20"
      ]
     },
     "execution_count": 89,
     "metadata": {},
     "output_type": "execute_result"
    }
   ],
   "source": [
    "d = [{\"Name\": \"Виктор\", \"Age\": 18},\n",
    "     {\"Name\": \"Мария\", \"Age\": 21},\n",
    "     {\"Name\": \"Иван\", \"Age\": 19},\n",
    "     {\"Name\": \"Иван\", \"Age\": 25},\n",
    "     {\"Name\": \"Алексей\", \"Age\": 20}]\n",
    "\n",
    "df = pd.DataFrame(d)\n",
    "\n",
    "df"
   ]
  },
  {
   "cell_type": "code",
   "execution_count": 90,
   "id": "7297e567",
   "metadata": {},
   "outputs": [
    {
     "data": {
      "text/html": [
       "<div>\n",
       "<style scoped>\n",
       "    .dataframe tbody tr th:only-of-type {\n",
       "        vertical-align: middle;\n",
       "    }\n",
       "\n",
       "    .dataframe tbody tr th {\n",
       "        vertical-align: top;\n",
       "    }\n",
       "\n",
       "    .dataframe thead th {\n",
       "        text-align: right;\n",
       "    }\n",
       "</style>\n",
       "<table border=\"1\" class=\"dataframe\">\n",
       "  <thead>\n",
       "    <tr style=\"text-align: right;\">\n",
       "      <th></th>\n",
       "      <th>Name</th>\n",
       "      <th>Age</th>\n",
       "      <th>University</th>\n",
       "    </tr>\n",
       "  </thead>\n",
       "  <tbody>\n",
       "    <tr>\n",
       "      <th>0</th>\n",
       "      <td>Виктор</td>\n",
       "      <td>18</td>\n",
       "      <td>NRNU MEPhI</td>\n",
       "    </tr>\n",
       "    <tr>\n",
       "      <th>1</th>\n",
       "      <td>Мария</td>\n",
       "      <td>21</td>\n",
       "      <td>MIPT</td>\n",
       "    </tr>\n",
       "    <tr>\n",
       "      <th>2</th>\n",
       "      <td>Иван</td>\n",
       "      <td>19</td>\n",
       "      <td>MITP</td>\n",
       "    </tr>\n",
       "    <tr>\n",
       "      <th>3</th>\n",
       "      <td>Иван</td>\n",
       "      <td>25</td>\n",
       "      <td>NRNU MEPhI</td>\n",
       "    </tr>\n",
       "    <tr>\n",
       "      <th>4</th>\n",
       "      <td>Алексей</td>\n",
       "      <td>20</td>\n",
       "      <td>BMSTU</td>\n",
       "    </tr>\n",
       "  </tbody>\n",
       "</table>\n",
       "</div>"
      ],
      "text/plain": [
       "      Name  Age  University\n",
       "0   Виктор   18  NRNU MEPhI\n",
       "1    Мария   21        MIPT\n",
       "2     Иван   19        MITP\n",
       "3     Иван   25  NRNU MEPhI\n",
       "4  Алексей   20       BMSTU"
      ]
     },
     "execution_count": 90,
     "metadata": {},
     "output_type": "execute_result"
    }
   ],
   "source": [
    "# Добавление нового столбца - значения которого переданы в виде списка\n",
    "df['University'] = ['NRNU MEPhI', 'MIPT', 'MITP', 'NRNU MEPhI', 'BMSTU']\n",
    "\n",
    "df"
   ]
  },
  {
   "cell_type": "code",
   "execution_count": 91,
   "id": "b778e8a8",
   "metadata": {},
   "outputs": [
    {
     "data": {
      "text/html": [
       "<div>\n",
       "<style scoped>\n",
       "    .dataframe tbody tr th:only-of-type {\n",
       "        vertical-align: middle;\n",
       "    }\n",
       "\n",
       "    .dataframe tbody tr th {\n",
       "        vertical-align: top;\n",
       "    }\n",
       "\n",
       "    .dataframe thead th {\n",
       "        text-align: right;\n",
       "    }\n",
       "</style>\n",
       "<table border=\"1\" class=\"dataframe\">\n",
       "  <thead>\n",
       "    <tr style=\"text-align: right;\">\n",
       "      <th></th>\n",
       "      <th>Name</th>\n",
       "      <th>Age</th>\n",
       "      <th>University</th>\n",
       "      <th>level</th>\n",
       "    </tr>\n",
       "  </thead>\n",
       "  <tbody>\n",
       "    <tr>\n",
       "      <th>0</th>\n",
       "      <td>Виктор</td>\n",
       "      <td>18</td>\n",
       "      <td>NRNU MEPhI</td>\n",
       "      <td>bachelor</td>\n",
       "    </tr>\n",
       "    <tr>\n",
       "      <th>1</th>\n",
       "      <td>Мария</td>\n",
       "      <td>21</td>\n",
       "      <td>MIPT</td>\n",
       "      <td>bachelor</td>\n",
       "    </tr>\n",
       "    <tr>\n",
       "      <th>2</th>\n",
       "      <td>Иван</td>\n",
       "      <td>19</td>\n",
       "      <td>MITP</td>\n",
       "      <td>bachelor</td>\n",
       "    </tr>\n",
       "    <tr>\n",
       "      <th>3</th>\n",
       "      <td>Иван</td>\n",
       "      <td>25</td>\n",
       "      <td>NRNU MEPhI</td>\n",
       "      <td>bachelor</td>\n",
       "    </tr>\n",
       "    <tr>\n",
       "      <th>4</th>\n",
       "      <td>Алексей</td>\n",
       "      <td>20</td>\n",
       "      <td>BMSTU</td>\n",
       "      <td>bachelor</td>\n",
       "    </tr>\n",
       "  </tbody>\n",
       "</table>\n",
       "</div>"
      ],
      "text/plain": [
       "      Name  Age  University     level\n",
       "0   Виктор   18  NRNU MEPhI  bachelor\n",
       "1    Мария   21        MIPT  bachelor\n",
       "2     Иван   19        MITP  bachelor\n",
       "3     Иван   25  NRNU MEPhI  bachelor\n",
       "4  Алексей   20       BMSTU  bachelor"
      ]
     },
     "execution_count": 91,
     "metadata": {},
     "output_type": "execute_result"
    }
   ],
   "source": [
    "# Добавление нового столбца - все значения будут одинаковы и равны 'bachelor'\n",
    "df['level'] = 'bachelor'\n",
    "df"
   ]
  },
  {
   "cell_type": "markdown",
   "id": "806b2f29",
   "metadata": {},
   "source": [
    "Также существует метод позволяющий объединять объекты Series и DataFrame.\n",
    "\n",
    "`pandas.concat( objs , axis = 0 , join = 'outer' , ignore_index = False , keys = None , levels = None , names = None , verify_integrity = False , sort = False , copy = True )`\n",
    "\n",
    "- objs последовательность или сопоставление объектов Series или DataFrame\n",
    "- ось {0 / 'index', 1 / 'columns'}, по умолчанию 0. Ось для объединения (объединение по столбцам или по строкам).\n"
   ]
  },
  {
   "cell_type": "code",
   "execution_count": 92,
   "id": "9f08fd84",
   "metadata": {},
   "outputs": [
    {
     "data": {
      "text/plain": [
       "0    a\n",
       "1    b\n",
       "0    c\n",
       "1    d\n",
       "dtype: object"
      ]
     },
     "execution_count": 92,
     "metadata": {},
     "output_type": "execute_result"
    }
   ],
   "source": [
    "# Объединение двух Series\n",
    "# так как параметр ignore_index по умолчанию False\n",
    "# то сохраняется старая нумерация в Series\n",
    "s1 = pd.Series(['a', 'b'])\n",
    "s2 = pd.Series(['c', 'd'])\n",
    "pd.concat([s1, s2])"
   ]
  },
  {
   "cell_type": "code",
   "execution_count": 93,
   "id": "3b725a62",
   "metadata": {},
   "outputs": [
    {
     "data": {
      "text/plain": [
       "0    a\n",
       "1    b\n",
       "2    c\n",
       "3    d\n",
       "dtype: object"
      ]
     },
     "execution_count": 93,
     "metadata": {},
     "output_type": "execute_result"
    }
   ],
   "source": [
    "# Объединение двух Series\n",
    "# очистить существующий индекс и сбросить его в результате\n",
    "# можно задав ignore_index=True\n",
    "s1 = pd.Series(['a', 'b'])\n",
    "s2 = pd.Series(['c', 'd'])\n",
    "pd.concat([s1, s2], ignore_index=True)"
   ]
  },
  {
   "cell_type": "code",
   "execution_count": 94,
   "id": "de97b25e",
   "metadata": {},
   "outputs": [
    {
     "data": {
      "text/html": [
       "<div>\n",
       "<style scoped>\n",
       "    .dataframe tbody tr th:only-of-type {\n",
       "        vertical-align: middle;\n",
       "    }\n",
       "\n",
       "    .dataframe tbody tr th {\n",
       "        vertical-align: top;\n",
       "    }\n",
       "\n",
       "    .dataframe thead th {\n",
       "        text-align: right;\n",
       "    }\n",
       "</style>\n",
       "<table border=\"1\" class=\"dataframe\">\n",
       "  <thead>\n",
       "    <tr style=\"text-align: right;\">\n",
       "      <th></th>\n",
       "      <th>Name</th>\n",
       "      <th>Age</th>\n",
       "    </tr>\n",
       "  </thead>\n",
       "  <tbody>\n",
       "    <tr>\n",
       "      <th>0</th>\n",
       "      <td>Петр</td>\n",
       "      <td>19</td>\n",
       "    </tr>\n",
       "    <tr>\n",
       "      <th>1</th>\n",
       "      <td>Иван</td>\n",
       "      <td>22</td>\n",
       "    </tr>\n",
       "  </tbody>\n",
       "</table>\n",
       "</div>"
      ],
      "text/plain": [
       "   Name  Age\n",
       "0  Петр   19\n",
       "1  Иван   22"
      ]
     },
     "execution_count": 94,
     "metadata": {},
     "output_type": "execute_result"
    }
   ],
   "source": [
    "# Объединений двух DataFrame\n",
    "df1 = pd.DataFrame([['Петр', 19], ['Иван', 22]], columns=['Name', 'Age'])\n",
    "df1"
   ]
  },
  {
   "cell_type": "code",
   "execution_count": 95,
   "id": "f9c229b8",
   "metadata": {},
   "outputs": [
    {
     "data": {
      "text/html": [
       "<div>\n",
       "<style scoped>\n",
       "    .dataframe tbody tr th:only-of-type {\n",
       "        vertical-align: middle;\n",
       "    }\n",
       "\n",
       "    .dataframe tbody tr th {\n",
       "        vertical-align: top;\n",
       "    }\n",
       "\n",
       "    .dataframe thead th {\n",
       "        text-align: right;\n",
       "    }\n",
       "</style>\n",
       "<table border=\"1\" class=\"dataframe\">\n",
       "  <thead>\n",
       "    <tr style=\"text-align: right;\">\n",
       "      <th></th>\n",
       "      <th>Name</th>\n",
       "      <th>Age</th>\n",
       "    </tr>\n",
       "  </thead>\n",
       "  <tbody>\n",
       "    <tr>\n",
       "      <th>0</th>\n",
       "      <td>Мария</td>\n",
       "      <td>20</td>\n",
       "    </tr>\n",
       "    <tr>\n",
       "      <th>1</th>\n",
       "      <td>Анастасия</td>\n",
       "      <td>18</td>\n",
       "    </tr>\n",
       "  </tbody>\n",
       "</table>\n",
       "</div>"
      ],
      "text/plain": [
       "        Name  Age\n",
       "0      Мария   20\n",
       "1  Анастасия   18"
      ]
     },
     "execution_count": 95,
     "metadata": {},
     "output_type": "execute_result"
    }
   ],
   "source": [
    "df2 = pd.DataFrame([['Мария', 20], ['Анастасия', 18]], columns=['Name', 'Age'])\n",
    "df2"
   ]
  },
  {
   "cell_type": "code",
   "execution_count": 96,
   "id": "b0555c04",
   "metadata": {},
   "outputs": [
    {
     "data": {
      "text/html": [
       "<div>\n",
       "<style scoped>\n",
       "    .dataframe tbody tr th:only-of-type {\n",
       "        vertical-align: middle;\n",
       "    }\n",
       "\n",
       "    .dataframe tbody tr th {\n",
       "        vertical-align: top;\n",
       "    }\n",
       "\n",
       "    .dataframe thead th {\n",
       "        text-align: right;\n",
       "    }\n",
       "</style>\n",
       "<table border=\"1\" class=\"dataframe\">\n",
       "  <thead>\n",
       "    <tr style=\"text-align: right;\">\n",
       "      <th></th>\n",
       "      <th>Name</th>\n",
       "      <th>Age</th>\n",
       "    </tr>\n",
       "  </thead>\n",
       "  <tbody>\n",
       "    <tr>\n",
       "      <th>0</th>\n",
       "      <td>Петр</td>\n",
       "      <td>19</td>\n",
       "    </tr>\n",
       "    <tr>\n",
       "      <th>1</th>\n",
       "      <td>Иван</td>\n",
       "      <td>22</td>\n",
       "    </tr>\n",
       "    <tr>\n",
       "      <th>0</th>\n",
       "      <td>Мария</td>\n",
       "      <td>20</td>\n",
       "    </tr>\n",
       "    <tr>\n",
       "      <th>1</th>\n",
       "      <td>Анастасия</td>\n",
       "      <td>18</td>\n",
       "    </tr>\n",
       "  </tbody>\n",
       "</table>\n",
       "</div>"
      ],
      "text/plain": [
       "        Name  Age\n",
       "0       Петр   19\n",
       "1       Иван   22\n",
       "0      Мария   20\n",
       "1  Анастасия   18"
      ]
     },
     "execution_count": 96,
     "metadata": {},
     "output_type": "execute_result"
    }
   ],
   "source": [
    "#  объединение по строкам\n",
    "pd.concat([df1, df2]) "
   ]
  },
  {
   "cell_type": "code",
   "execution_count": 97,
   "id": "729e9142",
   "metadata": {},
   "outputs": [
    {
     "data": {
      "text/html": [
       "<div>\n",
       "<style scoped>\n",
       "    .dataframe tbody tr th:only-of-type {\n",
       "        vertical-align: middle;\n",
       "    }\n",
       "\n",
       "    .dataframe tbody tr th {\n",
       "        vertical-align: top;\n",
       "    }\n",
       "\n",
       "    .dataframe thead th {\n",
       "        text-align: right;\n",
       "    }\n",
       "</style>\n",
       "<table border=\"1\" class=\"dataframe\">\n",
       "  <thead>\n",
       "    <tr style=\"text-align: right;\">\n",
       "      <th></th>\n",
       "      <th>Name</th>\n",
       "      <th>Age</th>\n",
       "      <th>Name</th>\n",
       "      <th>Age</th>\n",
       "    </tr>\n",
       "  </thead>\n",
       "  <tbody>\n",
       "    <tr>\n",
       "      <th>0</th>\n",
       "      <td>Петр</td>\n",
       "      <td>19</td>\n",
       "      <td>Мария</td>\n",
       "      <td>20</td>\n",
       "    </tr>\n",
       "    <tr>\n",
       "      <th>1</th>\n",
       "      <td>Иван</td>\n",
       "      <td>22</td>\n",
       "      <td>Анастасия</td>\n",
       "      <td>18</td>\n",
       "    </tr>\n",
       "  </tbody>\n",
       "</table>\n",
       "</div>"
      ],
      "text/plain": [
       "   Name  Age       Name  Age\n",
       "0  Петр   19      Мария   20\n",
       "1  Иван   22  Анастасия   18"
      ]
     },
     "execution_count": 97,
     "metadata": {},
     "output_type": "execute_result"
    }
   ],
   "source": [
    "# объединение по столбцам\n",
    "pd.concat([df1, df2], axis=1) "
   ]
  },
  {
   "cell_type": "markdown",
   "id": "67669344",
   "metadata": {},
   "source": [
    "## Импорт данных"
   ]
  },
  {
   "cell_type": "markdown",
   "id": "5c06700d",
   "metadata": {},
   "source": [
    "Для создания DataFrame можно использовать внешние данные, например из файлов .csv или  .xlsx.\n",
    "\n",
    "**CSV** (Comma-Separated Values — значения, разделённые запятыми) — текстовый формат, предназначенный для представления табличных данных.\n",
    "\n",
    "Каждая строка - это отдельная строка таблицы, а столбцы отделены один от другого специальными символами - разделителями (например, запятой).\n",
    "\n",
    "Для загрузки .csv файла с данными в pandas используется функция **read_csv()**.\n",
    "\n",
    "У функции есть ряд ключевых параметров:\n",
    "- filepath_or_buffer - путь к файлу, который необходимо считать\n",
    "- sep - Используемый разделитель\n",
    "\n",
    "По умолчанию предполагается, что поля разделены запятыми."
   ]
  },
  {
   "cell_type": "markdown",
   "id": "5d795e4c",
   "metadata": {},
   "source": [
    "df = pd.read_csv(\"my_fires_dataframe.csv\", sep=',')"
   ]
  },
  {
   "cell_type": "raw",
   "id": "3b34ede4",
   "metadata": {},
   "source": [
    "df = pd.read_excel(\"my_fires_dataframe.xlsx\")"
   ]
  },
  {
   "cell_type": "markdown",
   "id": "1e94e69e",
   "metadata": {},
   "source": [
    "## Экспорт данных"
   ]
  },
  {
   "cell_type": "markdown",
   "id": "5684966d",
   "metadata": {},
   "source": [
    "DataFrame и Series можно сохранять в виде файлов .csv и .xlsx\n",
    "\n",
    "`DataFrame.to_csv(path_or_buf=None, sep=',', na_rep='', float_format=None, columns=None, header=True, index=True, index_label=None, mode='w', encoding=None, compression='infer', quoting=None, quotechar='\"', line_terminator=None, chunksize=None, date_format=None, doublequote=True, escapechar=None, decimal='.', errors='strict', storage_options=None)`\n",
    "\n",
    "- path_or_buf - пусть к файлу \n",
    "- sep - Строка длиной 1. Разделитель полей для выходного файла.\n",
    "\n",
    "Чтобы записать отдельный объект в файл Excel .xlsx, необходимо только указать имя целевого файла. Для записи на несколько листов необходимо создать объект ExcelWriter с именем целевого файла и указать лист в файле для записи.\n",
    "\n",
    "`DataFrame.to_excel(excel_writer, sheet_name='Sheet1', na_rep='', float_format=None, columns=None, header=True, index=True, index_label=None, startrow=0, startcol=0, engine=None, merge_cells=True, encoding=None, inf_rep='inf', verbose=True, freeze_panes=None, storage_options=None)`"
   ]
  },
  {
   "cell_type": "raw",
   "id": "9f7ca18b",
   "metadata": {},
   "source": [
    "d = [{\"Name\": \"Виктор\", \"Age\": 18},\n",
    "     {\"Name\": \"Мария\", \"Age\": 21},\n",
    "     {\"Name\": \"Иван\", \"Age\": 19},\n",
    "     {\"Name\": \"Иван\", \"Age\": 25},\n",
    "     {\"Name\": \"Алексей\", \"Age\": 20}]\n",
    "\n",
    "df = pd.DataFrame(d)\n",
    "\n",
    "df.to_csv(\"my\")\n",
    "df.to_excel()"
   ]
  }
 ],
 "metadata": {
  "kernelspec": {
   "display_name": "Python 3 (ipykernel)",
   "language": "python",
   "name": "python3"
  },
  "language_info": {
   "codemirror_mode": {
    "name": "ipython",
    "version": 3
   },
   "file_extension": ".py",
   "mimetype": "text/x-python",
   "name": "python",
   "nbconvert_exporter": "python",
   "pygments_lexer": "ipython3",
   "version": "3.9.7"
  }
 },
 "nbformat": 4,
 "nbformat_minor": 5
}
